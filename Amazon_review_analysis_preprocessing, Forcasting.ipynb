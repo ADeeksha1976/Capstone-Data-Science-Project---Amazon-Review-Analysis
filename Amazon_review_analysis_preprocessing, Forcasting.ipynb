{
 "cells": [
  {
   "cell_type": "code",
   "execution_count": 50,
   "id": "8b62891b",
   "metadata": {},
   "outputs": [],
   "source": [
    "import pandas as pd\n",
    "import json"
   ]
  },
  {
   "cell_type": "code",
   "execution_count": 51,
   "id": "c4314230",
   "metadata": {},
   "outputs": [],
   "source": [
    "# start from review data of lawn and garden"
   ]
  },
  {
   "cell_type": "code",
   "execution_count": 52,
   "id": "c305e2bb",
   "metadata": {
    "scrolled": true
   },
   "outputs": [
    {
     "data": {
      "text/html": [
       "<div>\n",
       "<style scoped>\n",
       "    .dataframe tbody tr th:only-of-type {\n",
       "        vertical-align: middle;\n",
       "    }\n",
       "\n",
       "    .dataframe tbody tr th {\n",
       "        vertical-align: top;\n",
       "    }\n",
       "\n",
       "    .dataframe thead th {\n",
       "        text-align: right;\n",
       "    }\n",
       "</style>\n",
       "<table border=\"1\" class=\"dataframe\">\n",
       "  <thead>\n",
       "    <tr style=\"text-align: right;\">\n",
       "      <th></th>\n",
       "      <th>category</th>\n",
       "      <th>tech1</th>\n",
       "      <th>description</th>\n",
       "      <th>fit</th>\n",
       "      <th>title</th>\n",
       "      <th>also_buy</th>\n",
       "      <th>tech2</th>\n",
       "      <th>brand</th>\n",
       "      <th>feature</th>\n",
       "      <th>rank</th>\n",
       "      <th>also_view</th>\n",
       "      <th>main_cat</th>\n",
       "      <th>similar_item</th>\n",
       "      <th>date</th>\n",
       "      <th>price</th>\n",
       "      <th>asin</th>\n",
       "      <th>imageURL</th>\n",
       "      <th>imageURLHighRes</th>\n",
       "      <th>details</th>\n",
       "    </tr>\n",
       "  </thead>\n",
       "  <tbody>\n",
       "    <tr>\n",
       "      <th>0</th>\n",
       "      <td>[Patio, Lawn &amp; Garden, Outdoor Power Tools, Re...</td>\n",
       "      <td>class=\"a-keyvalue prodDetTable\" role=\"present...</td>\n",
       "      <td>[Frame your displays with these colorful, scal...</td>\n",
       "      <td></td>\n",
       "      <td>Fiesta Stripes Scalloped Trimmer (SC541760)</td>\n",
       "      <td>[B07G51KLP3, 1483837300, B071NB2T4T, B078NHZPS...</td>\n",
       "      <td></td>\n",
       "      <td>Scholastic</td>\n",
       "      <td>[12 trimmers per pack., 36 feet long and 2-1/4...</td>\n",
       "      <td>[&gt;#293,451 in Office Products (See top 100), &gt;...</td>\n",
       "      <td>[]</td>\n",
       "      <td>Office Products</td>\n",
       "      <td></td>\n",
       "      <td>February 1, 2012</td>\n",
       "      <td>$4.29</td>\n",
       "      <td>0545417600</td>\n",
       "      <td>[]</td>\n",
       "      <td>[]</td>\n",
       "      <td>NaN</td>\n",
       "    </tr>\n",
       "    <tr>\n",
       "      <th>1</th>\n",
       "      <td>[Patio, Lawn &amp; Garden, Outdoor Dcor, Garden Sc...</td>\n",
       "      <td></td>\n",
       "      <td>[Stir up your spirit and refresh your soul wit...</td>\n",
       "      <td></td>\n",
       "      <td>Audio CD-I Was On His Mind</td>\n",
       "      <td>[]</td>\n",
       "      <td></td>\n",
       "      <td>Harrison House Publishing</td>\n",
       "      <td>[]</td>\n",
       "      <td>[&gt;#1,228,459 in Patio, Lawn &amp; Garden (See Top ...</td>\n",
       "      <td>[]</td>\n",
       "      <td>Amazon Home</td>\n",
       "      <td></td>\n",
       "      <td></td>\n",
       "      <td>$16.99</td>\n",
       "      <td>0881149659</td>\n",
       "      <td>[]</td>\n",
       "      <td>[]</td>\n",
       "      <td>NaN</td>\n",
       "    </tr>\n",
       "    <tr>\n",
       "      <th>2</th>\n",
       "      <td>[Patio, Lawn &amp; Garden, Gardening &amp; Lawn Care, ...</td>\n",
       "      <td></td>\n",
       "      <td>[The Gardener's Guide to Growing Hardy Perenni...</td>\n",
       "      <td></td>\n",
       "      <td>The Gardener's Guide to Growing Hardy Perennia...</td>\n",
       "      <td>[0881927155, 0881928763]</td>\n",
       "      <td></td>\n",
       "      <td>William D. Mathis</td>\n",
       "      <td>[]</td>\n",
       "      <td>1,965,854 in Books (</td>\n",
       "      <td>[]</td>\n",
       "      <td>Books</td>\n",
       "      <td></td>\n",
       "      <td></td>\n",
       "      <td>$242.57</td>\n",
       "      <td>0976533502</td>\n",
       "      <td>[]</td>\n",
       "      <td>[]</td>\n",
       "      <td>NaN</td>\n",
       "    </tr>\n",
       "    <tr>\n",
       "      <th>3</th>\n",
       "      <td>[Patio, Lawn &amp; Garden, Gardening &amp; Lawn Care, ...</td>\n",
       "      <td>class=\"a-keyvalue prodDetTable\" role=\"present...</td>\n",
       "      <td>[BKORCHID Features: -Compiled by Foothill Hydr...</td>\n",
       "      <td></td>\n",
       "      <td>Orchid Culture and Hydroponics Book</td>\n",
       "      <td>[]</td>\n",
       "      <td></td>\n",
       "      <td>Hydrofarm</td>\n",
       "      <td>[Great gardening literature from Hydrofarm., H...</td>\n",
       "      <td>[&gt;#1,249,907 in Office Products (See top 100),...</td>\n",
       "      <td>[]</td>\n",
       "      <td>Office Products</td>\n",
       "      <td></td>\n",
       "      <td>June 11, 2011</td>\n",
       "      <td>$5.98</td>\n",
       "      <td>0979914620</td>\n",
       "      <td>[]</td>\n",
       "      <td>[]</td>\n",
       "      <td>NaN</td>\n",
       "    </tr>\n",
       "    <tr>\n",
       "      <th>4</th>\n",
       "      <td>[Patio, Lawn &amp; Garden, Pest Control, Repellents]</td>\n",
       "      <td></td>\n",
       "      <td>[Your child is increasingly exposed to learnin...</td>\n",
       "      <td></td>\n",
       "      <td>My Baby Compass, Four to Seven Years (An Easy ...</td>\n",
       "      <td>[]</td>\n",
       "      <td></td>\n",
       "      <td>JALL</td>\n",
       "      <td>[]</td>\n",
       "      <td>[&gt;#1,426,472 in Patio, Lawn &amp; Garden (See Top ...</td>\n",
       "      <td>[]</td>\n",
       "      <td>Amazon Home</td>\n",
       "      <td></td>\n",
       "      <td></td>\n",
       "      <td></td>\n",
       "      <td>0984408525</td>\n",
       "      <td>[]</td>\n",
       "      <td>[]</td>\n",
       "      <td>NaN</td>\n",
       "    </tr>\n",
       "    <tr>\n",
       "      <th>...</th>\n",
       "      <td>...</td>\n",
       "      <td>...</td>\n",
       "      <td>...</td>\n",
       "      <td>...</td>\n",
       "      <td>...</td>\n",
       "      <td>...</td>\n",
       "      <td>...</td>\n",
       "      <td>...</td>\n",
       "      <td>...</td>\n",
       "      <td>...</td>\n",
       "      <td>...</td>\n",
       "      <td>...</td>\n",
       "      <td>...</td>\n",
       "      <td>...</td>\n",
       "      <td>...</td>\n",
       "      <td>...</td>\n",
       "      <td>...</td>\n",
       "      <td>...</td>\n",
       "      <td>...</td>\n",
       "    </tr>\n",
       "    <tr>\n",
       "      <th>99995</th>\n",
       "      <td>[Patio, Lawn &amp; Garden, Gardening &amp; Lawn Care, ...</td>\n",
       "      <td></td>\n",
       "      <td>[Elijah Blue Festuca is one of the more popula...</td>\n",
       "      <td></td>\n",
       "      <td>Elijah Blue Fescue Grass (1 order contains 2 p...</td>\n",
       "      <td>[]</td>\n",
       "      <td></td>\n",
       "      <td>Elijah Blue Fescue Grass at Greenwood Nursery</td>\n",
       "      <td>[Zones 4 to 10, Compact grass grown in 3.5 inc...</td>\n",
       "      <td>[&gt;#510,710 in Patio, Lawn &amp; Garden (See Top 10...</td>\n",
       "      <td>[B078YPTM7W]</td>\n",
       "      <td>Amazon Home</td>\n",
       "      <td></td>\n",
       "      <td></td>\n",
       "      <td></td>\n",
       "      <td>B008FROFNI</td>\n",
       "      <td>[]</td>\n",
       "      <td>[]</td>\n",
       "      <td>{}</td>\n",
       "    </tr>\n",
       "    <tr>\n",
       "      <th>99996</th>\n",
       "      <td>[Patio, Lawn &amp; Garden, Grills &amp; Outdoor Cookin...</td>\n",
       "      <td></td>\n",
       "      <td>[This is Best Weber FLAVORIZER Bars in The Mar...</td>\n",
       "      <td></td>\n",
       "      <td>Weber Flavorizer Bars 7538 13 Pcs. (18 Ga.) Af...</td>\n",
       "      <td>[]</td>\n",
       "      <td></td>\n",
       "      <td>AFTER MARKET</td>\n",
       "      <td>[AFTERMARKET\" replacement stainless flavorizer...</td>\n",
       "      <td>[&gt;#1,560,250 in Patio, Lawn &amp; Garden (See Top ...</td>\n",
       "      <td>[]</td>\n",
       "      <td>Amazon Home</td>\n",
       "      <td></td>\n",
       "      <td></td>\n",
       "      <td></td>\n",
       "      <td>B008FSARAW</td>\n",
       "      <td>[]</td>\n",
       "      <td>[]</td>\n",
       "      <td>{}</td>\n",
       "    </tr>\n",
       "    <tr>\n",
       "      <th>99997</th>\n",
       "      <td>[Patio, Lawn &amp; Garden, Gardening &amp; Lawn Care, ...</td>\n",
       "      <td></td>\n",
       "      <td>[Royal Fern, Osmunda regalis, has long fronds ...</td>\n",
       "      <td></td>\n",
       "      <td>Royal Ferns Potted Plants (1 order contains 2 ...</td>\n",
       "      <td>[]</td>\n",
       "      <td></td>\n",
       "      <td>Royal Ferns at Greenwood Nursery</td>\n",
       "      <td>[Zones 3 to 8, Potted fern in 3.5 inch pots, L...</td>\n",
       "      <td>[&gt;#592,370 in Patio, Lawn &amp; Garden (See Top 10...</td>\n",
       "      <td>[]</td>\n",
       "      <td>Amazon Home</td>\n",
       "      <td></td>\n",
       "      <td></td>\n",
       "      <td></td>\n",
       "      <td>B008FRONXU</td>\n",
       "      <td>[]</td>\n",
       "      <td>[]</td>\n",
       "      <td>{}</td>\n",
       "    </tr>\n",
       "    <tr>\n",
       "      <th>99998</th>\n",
       "      <td>[Patio, Lawn &amp; Garden, Outdoor Dcor, Garden Sc...</td>\n",
       "      <td></td>\n",
       "      <td>[, &amp;#8226;&lt;b&gt; Note&lt;/b&gt;&lt;br&gt; &amp;#9888; Prohibit ch...</td>\n",
       "      <td></td>\n",
       "      <td>Glow in the Dark Pebbles , Besiva 400pcs Outsi...</td>\n",
       "      <td>[]</td>\n",
       "      <td></td>\n",
       "      <td>Besiva</td>\n",
       "      <td>[Eco-friendly and Safety: No electricity requi...</td>\n",
       "      <td>[&gt;#10,062 in Patio, Lawn &amp; Garden (See Top 100...</td>\n",
       "      <td>[B074PMQRDC, B07GDNF6FP, B007KKVZ5C, B07FXSYDC...</td>\n",
       "      <td>Amazon Home</td>\n",
       "      <td>class=\"a-bordered a-horizontal-stripes  a-spa...</td>\n",
       "      <td></td>\n",
       "      <td>$17.99</td>\n",
       "      <td>B008FT4D56</td>\n",
       "      <td>[https://images-na.ssl-images-amazon.com/image...</td>\n",
       "      <td>[https://images-na.ssl-images-amazon.com/image...</td>\n",
       "      <td>{}</td>\n",
       "    </tr>\n",
       "    <tr>\n",
       "      <th>99999</th>\n",
       "      <td>[Patio, Lawn &amp; Garden, Snow Removal, Snow Blow...</td>\n",
       "      <td></td>\n",
       "      <td>[More Power! Make quick work out of the heavy ...</td>\n",
       "      <td></td>\n",
       "      <td>Snow Joe Ultra SJ622E 18-Inch 15-Amp Electric ...</td>\n",
       "      <td>[]</td>\n",
       "      <td></td>\n",
       "      <td>Snow Joe</td>\n",
       "      <td>[Ideal for clearing snow off mid-to-large size...</td>\n",
       "      <td>[&gt;#95,886 in Patio, Lawn &amp; Garden (See Top 100...</td>\n",
       "      <td>[]</td>\n",
       "      <td>Amazon Home</td>\n",
       "      <td>class=\"a-bordered a-horizontal-stripes  a-spa...</td>\n",
       "      <td></td>\n",
       "      <td>$6.42</td>\n",
       "      <td>B008FV5R18</td>\n",
       "      <td>[https://images-na.ssl-images-amazon.com/image...</td>\n",
       "      <td>[https://images-na.ssl-images-amazon.com/image...</td>\n",
       "      <td>{}</td>\n",
       "    </tr>\n",
       "  </tbody>\n",
       "</table>\n",
       "<p>100000 rows × 19 columns</p>\n",
       "</div>"
      ],
      "text/plain": [
       "                                                category  \\\n",
       "0      [Patio, Lawn & Garden, Outdoor Power Tools, Re...   \n",
       "1      [Patio, Lawn & Garden, Outdoor Dcor, Garden Sc...   \n",
       "2      [Patio, Lawn & Garden, Gardening & Lawn Care, ...   \n",
       "3      [Patio, Lawn & Garden, Gardening & Lawn Care, ...   \n",
       "4       [Patio, Lawn & Garden, Pest Control, Repellents]   \n",
       "...                                                  ...   \n",
       "99995  [Patio, Lawn & Garden, Gardening & Lawn Care, ...   \n",
       "99996  [Patio, Lawn & Garden, Grills & Outdoor Cookin...   \n",
       "99997  [Patio, Lawn & Garden, Gardening & Lawn Care, ...   \n",
       "99998  [Patio, Lawn & Garden, Outdoor Dcor, Garden Sc...   \n",
       "99999  [Patio, Lawn & Garden, Snow Removal, Snow Blow...   \n",
       "\n",
       "                                                   tech1  \\\n",
       "0       class=\"a-keyvalue prodDetTable\" role=\"present...   \n",
       "1                                                          \n",
       "2                                                          \n",
       "3       class=\"a-keyvalue prodDetTable\" role=\"present...   \n",
       "4                                                          \n",
       "...                                                  ...   \n",
       "99995                                                      \n",
       "99996                                                      \n",
       "99997                                                      \n",
       "99998                                                      \n",
       "99999                                                      \n",
       "\n",
       "                                             description fit  \\\n",
       "0      [Frame your displays with these colorful, scal...       \n",
       "1      [Stir up your spirit and refresh your soul wit...       \n",
       "2      [The Gardener's Guide to Growing Hardy Perenni...       \n",
       "3      [BKORCHID Features: -Compiled by Foothill Hydr...       \n",
       "4      [Your child is increasingly exposed to learnin...       \n",
       "...                                                  ...  ..   \n",
       "99995  [Elijah Blue Festuca is one of the more popula...       \n",
       "99996  [This is Best Weber FLAVORIZER Bars in The Mar...       \n",
       "99997  [Royal Fern, Osmunda regalis, has long fronds ...       \n",
       "99998  [, &#8226;<b> Note</b><br> &#9888; Prohibit ch...       \n",
       "99999  [More Power! Make quick work out of the heavy ...       \n",
       "\n",
       "                                                   title  \\\n",
       "0            Fiesta Stripes Scalloped Trimmer (SC541760)   \n",
       "1                             Audio CD-I Was On His Mind   \n",
       "2      The Gardener's Guide to Growing Hardy Perennia...   \n",
       "3                    Orchid Culture and Hydroponics Book   \n",
       "4      My Baby Compass, Four to Seven Years (An Easy ...   \n",
       "...                                                  ...   \n",
       "99995  Elijah Blue Fescue Grass (1 order contains 2 p...   \n",
       "99996  Weber Flavorizer Bars 7538 13 Pcs. (18 Ga.) Af...   \n",
       "99997  Royal Ferns Potted Plants (1 order contains 2 ...   \n",
       "99998  Glow in the Dark Pebbles , Besiva 400pcs Outsi...   \n",
       "99999  Snow Joe Ultra SJ622E 18-Inch 15-Amp Electric ...   \n",
       "\n",
       "                                                also_buy tech2  \\\n",
       "0      [B07G51KLP3, 1483837300, B071NB2T4T, B078NHZPS...         \n",
       "1                                                     []         \n",
       "2                               [0881927155, 0881928763]         \n",
       "3                                                     []         \n",
       "4                                                     []         \n",
       "...                                                  ...   ...   \n",
       "99995                                                 []         \n",
       "99996                                                 []         \n",
       "99997                                                 []         \n",
       "99998                                                 []         \n",
       "99999                                                 []         \n",
       "\n",
       "                                               brand  \\\n",
       "0                                         Scholastic   \n",
       "1                          Harrison House Publishing   \n",
       "2                                  William D. Mathis   \n",
       "3                                          Hydrofarm   \n",
       "4                                               JALL   \n",
       "...                                              ...   \n",
       "99995  Elijah Blue Fescue Grass at Greenwood Nursery   \n",
       "99996                                   AFTER MARKET   \n",
       "99997               Royal Ferns at Greenwood Nursery   \n",
       "99998                                         Besiva   \n",
       "99999                                       Snow Joe   \n",
       "\n",
       "                                                 feature  \\\n",
       "0      [12 trimmers per pack., 36 feet long and 2-1/4...   \n",
       "1                                                     []   \n",
       "2                                                     []   \n",
       "3      [Great gardening literature from Hydrofarm., H...   \n",
       "4                                                     []   \n",
       "...                                                  ...   \n",
       "99995  [Zones 4 to 10, Compact grass grown in 3.5 inc...   \n",
       "99996  [AFTERMARKET\" replacement stainless flavorizer...   \n",
       "99997  [Zones 3 to 8, Potted fern in 3.5 inch pots, L...   \n",
       "99998  [Eco-friendly and Safety: No electricity requi...   \n",
       "99999  [Ideal for clearing snow off mid-to-large size...   \n",
       "\n",
       "                                                    rank  \\\n",
       "0      [>#293,451 in Office Products (See top 100), >...   \n",
       "1      [>#1,228,459 in Patio, Lawn & Garden (See Top ...   \n",
       "2                                   1,965,854 in Books (   \n",
       "3      [>#1,249,907 in Office Products (See top 100),...   \n",
       "4      [>#1,426,472 in Patio, Lawn & Garden (See Top ...   \n",
       "...                                                  ...   \n",
       "99995  [>#510,710 in Patio, Lawn & Garden (See Top 10...   \n",
       "99996  [>#1,560,250 in Patio, Lawn & Garden (See Top ...   \n",
       "99997  [>#592,370 in Patio, Lawn & Garden (See Top 10...   \n",
       "99998  [>#10,062 in Patio, Lawn & Garden (See Top 100...   \n",
       "99999  [>#95,886 in Patio, Lawn & Garden (See Top 100...   \n",
       "\n",
       "                                               also_view         main_cat  \\\n",
       "0                                                     []  Office Products   \n",
       "1                                                     []      Amazon Home   \n",
       "2                                                     []            Books   \n",
       "3                                                     []  Office Products   \n",
       "4                                                     []      Amazon Home   \n",
       "...                                                  ...              ...   \n",
       "99995                                       [B078YPTM7W]      Amazon Home   \n",
       "99996                                                 []      Amazon Home   \n",
       "99997                                                 []      Amazon Home   \n",
       "99998  [B074PMQRDC, B07GDNF6FP, B007KKVZ5C, B07FXSYDC...      Amazon Home   \n",
       "99999                                                 []      Amazon Home   \n",
       "\n",
       "                                            similar_item              date  \\\n",
       "0                                                         February 1, 2012   \n",
       "1                                                                            \n",
       "2                                                                            \n",
       "3                                                            June 11, 2011   \n",
       "4                                                                            \n",
       "...                                                  ...               ...   \n",
       "99995                                                                        \n",
       "99996                                                                        \n",
       "99997                                                                        \n",
       "99998   class=\"a-bordered a-horizontal-stripes  a-spa...                     \n",
       "99999   class=\"a-bordered a-horizontal-stripes  a-spa...                     \n",
       "\n",
       "         price        asin                                           imageURL  \\\n",
       "0        $4.29  0545417600                                                 []   \n",
       "1       $16.99  0881149659                                                 []   \n",
       "2      $242.57  0976533502                                                 []   \n",
       "3        $5.98  0979914620                                                 []   \n",
       "4               0984408525                                                 []   \n",
       "...        ...         ...                                                ...   \n",
       "99995           B008FROFNI                                                 []   \n",
       "99996           B008FSARAW                                                 []   \n",
       "99997           B008FRONXU                                                 []   \n",
       "99998   $17.99  B008FT4D56  [https://images-na.ssl-images-amazon.com/image...   \n",
       "99999    $6.42  B008FV5R18  [https://images-na.ssl-images-amazon.com/image...   \n",
       "\n",
       "                                         imageURLHighRes details  \n",
       "0                                                     []     NaN  \n",
       "1                                                     []     NaN  \n",
       "2                                                     []     NaN  \n",
       "3                                                     []     NaN  \n",
       "4                                                     []     NaN  \n",
       "...                                                  ...     ...  \n",
       "99995                                                 []      {}  \n",
       "99996                                                 []      {}  \n",
       "99997                                                 []      {}  \n",
       "99998  [https://images-na.ssl-images-amazon.com/image...      {}  \n",
       "99999  [https://images-na.ssl-images-amazon.com/image...      {}  \n",
       "\n",
       "[100000 rows x 19 columns]"
      ]
     },
     "execution_count": 52,
     "metadata": {},
     "output_type": "execute_result"
    }
   ],
   "source": [
    "metadata = pd.read_json(\"meta_Patio_Lawn_and_Garden.json.gz\",nrows=100000,lines=True)\n",
    "metadata"
   ]
  },
  {
   "cell_type": "code",
   "execution_count": 53,
   "id": "fbc9357b",
   "metadata": {},
   "outputs": [
    {
     "data": {
      "text/html": [
       "<div>\n",
       "<style scoped>\n",
       "    .dataframe tbody tr th:only-of-type {\n",
       "        vertical-align: middle;\n",
       "    }\n",
       "\n",
       "    .dataframe tbody tr th {\n",
       "        vertical-align: top;\n",
       "    }\n",
       "\n",
       "    .dataframe thead th {\n",
       "        text-align: right;\n",
       "    }\n",
       "</style>\n",
       "<table border=\"1\" class=\"dataframe\">\n",
       "  <thead>\n",
       "    <tr style=\"text-align: right;\">\n",
       "      <th></th>\n",
       "      <th>overall</th>\n",
       "      <th>vote</th>\n",
       "      <th>verified</th>\n",
       "      <th>reviewTime</th>\n",
       "      <th>reviewerID</th>\n",
       "      <th>asin</th>\n",
       "      <th>style</th>\n",
       "      <th>reviewerName</th>\n",
       "      <th>reviewText</th>\n",
       "      <th>summary</th>\n",
       "      <th>unixReviewTime</th>\n",
       "      <th>image</th>\n",
       "    </tr>\n",
       "  </thead>\n",
       "  <tbody>\n",
       "    <tr>\n",
       "      <th>0</th>\n",
       "      <td>5</td>\n",
       "      <td>2</td>\n",
       "      <td>True</td>\n",
       "      <td>05 30, 2015</td>\n",
       "      <td>A1SP1855LVHRVS</td>\n",
       "      <td>0986121126</td>\n",
       "      <td>{'Format:': ' Paperback'}</td>\n",
       "      <td>Genevieve Luke</td>\n",
       "      <td>WOW, VERY GOOD STORY.</td>\n",
       "      <td>VERY GOOD STORY.</td>\n",
       "      <td>1432944000</td>\n",
       "      <td>NaN</td>\n",
       "    </tr>\n",
       "    <tr>\n",
       "      <th>1</th>\n",
       "      <td>5</td>\n",
       "      <td>8</td>\n",
       "      <td>True</td>\n",
       "      <td>05 8, 2015</td>\n",
       "      <td>AOAIHJZU5XMMH</td>\n",
       "      <td>0986121126</td>\n",
       "      <td>{'Format:': ' Kindle Edition'}</td>\n",
       "      <td>Lisa H</td>\n",
       "      <td>Great First Novel!  Mr. Spriggs is a very tale...</td>\n",
       "      <td>Won't stop, can't stop, until the last page!</td>\n",
       "      <td>1431043200</td>\n",
       "      <td>NaN</td>\n",
       "    </tr>\n",
       "    <tr>\n",
       "      <th>2</th>\n",
       "      <td>4</td>\n",
       "      <td>NaN</td>\n",
       "      <td>True</td>\n",
       "      <td>11 28, 2016</td>\n",
       "      <td>A2Z9J0DD7PX7D3</td>\n",
       "      <td>0986121126</td>\n",
       "      <td>{'Format:': ' Kindle Edition'}</td>\n",
       "      <td>NanaWillow</td>\n",
       "      <td>I was having trouble trying to put into words ...</td>\n",
       "      <td>A good read for some</td>\n",
       "      <td>1480291200</td>\n",
       "      <td>NaN</td>\n",
       "    </tr>\n",
       "    <tr>\n",
       "      <th>3</th>\n",
       "      <td>4</td>\n",
       "      <td>NaN</td>\n",
       "      <td>False</td>\n",
       "      <td>11 23, 2016</td>\n",
       "      <td>A2FT1DZIV8CVOT</td>\n",
       "      <td>0986121126</td>\n",
       "      <td>{'Format:': ' Kindle Edition'}</td>\n",
       "      <td>Dave Carver</td>\n",
       "      <td>A consistent theme in this book is the detecti...</td>\n",
       "      <td>Routine, Mundane and difficult to stop reading.</td>\n",
       "      <td>1479859200</td>\n",
       "      <td>NaN</td>\n",
       "    </tr>\n",
       "    <tr>\n",
       "      <th>4</th>\n",
       "      <td>4</td>\n",
       "      <td>NaN</td>\n",
       "      <td>True</td>\n",
       "      <td>11 19, 2016</td>\n",
       "      <td>A1HYKFP21Y02V4</td>\n",
       "      <td>0986121126</td>\n",
       "      <td>{'Format:': ' Kindle Edition'}</td>\n",
       "      <td>JEC</td>\n",
       "      <td>Keeps you just a little off balance, while rea...</td>\n",
       "      <td>Keeps you hooked</td>\n",
       "      <td>1479513600</td>\n",
       "      <td>NaN</td>\n",
       "    </tr>\n",
       "    <tr>\n",
       "      <th>...</th>\n",
       "      <td>...</td>\n",
       "      <td>...</td>\n",
       "      <td>...</td>\n",
       "      <td>...</td>\n",
       "      <td>...</td>\n",
       "      <td>...</td>\n",
       "      <td>...</td>\n",
       "      <td>...</td>\n",
       "      <td>...</td>\n",
       "      <td>...</td>\n",
       "      <td>...</td>\n",
       "      <td>...</td>\n",
       "    </tr>\n",
       "    <tr>\n",
       "      <th>99995</th>\n",
       "      <td>5</td>\n",
       "      <td>NaN</td>\n",
       "      <td>True</td>\n",
       "      <td>08 23, 2013</td>\n",
       "      <td>A37E1Q63V1ITDE</td>\n",
       "      <td>B000068XMM</td>\n",
       "      <td>{'Color:': ' Camo'}</td>\n",
       "      <td>robert t willard</td>\n",
       "      <td>I have used it in my back yard and in the wood...</td>\n",
       "      <td>Great product</td>\n",
       "      <td>1377216000</td>\n",
       "      <td>NaN</td>\n",
       "    </tr>\n",
       "    <tr>\n",
       "      <th>99996</th>\n",
       "      <td>5</td>\n",
       "      <td>NaN</td>\n",
       "      <td>True</td>\n",
       "      <td>08 23, 2013</td>\n",
       "      <td>A28L1K6L57ATYT</td>\n",
       "      <td>B000068XMM</td>\n",
       "      <td>{'Color:': ' Camo'}</td>\n",
       "      <td>Kindle Customer</td>\n",
       "      <td>Great for ballgames and all outdoor activities...</td>\n",
       "      <td>Great little machine</td>\n",
       "      <td>1377216000</td>\n",
       "      <td>NaN</td>\n",
       "    </tr>\n",
       "    <tr>\n",
       "      <th>99997</th>\n",
       "      <td>2</td>\n",
       "      <td>2</td>\n",
       "      <td>True</td>\n",
       "      <td>08 23, 2013</td>\n",
       "      <td>A3LUJFBABNZCT</td>\n",
       "      <td>B000068XMM</td>\n",
       "      <td>{'Color:': ' Olive Green'}</td>\n",
       "      <td>LYNN MARIE</td>\n",
       "      <td>Tried to send it back but since it's a dangero...</td>\n",
       "      <td>Too complex and dangerous</td>\n",
       "      <td>1377216000</td>\n",
       "      <td>NaN</td>\n",
       "    </tr>\n",
       "    <tr>\n",
       "      <th>99998</th>\n",
       "      <td>4</td>\n",
       "      <td>NaN</td>\n",
       "      <td>True</td>\n",
       "      <td>08 22, 2013</td>\n",
       "      <td>A3VQ4T0N4V094D</td>\n",
       "      <td>B000068XMM</td>\n",
       "      <td>{'Color:': ' Olive Green'}</td>\n",
       "      <td>K. L. Williams</td>\n",
       "      <td>Its just confusing when to know the canister i...</td>\n",
       "      <td>It seems to work</td>\n",
       "      <td>1377129600</td>\n",
       "      <td>NaN</td>\n",
       "    </tr>\n",
       "    <tr>\n",
       "      <th>99999</th>\n",
       "      <td>4</td>\n",
       "      <td>NaN</td>\n",
       "      <td>True</td>\n",
       "      <td>08 22, 2013</td>\n",
       "      <td>A3JDEA2I31CSKP</td>\n",
       "      <td>B000068XMM</td>\n",
       "      <td>{'Color:': ' Camo'}</td>\n",
       "      <td>Iukie</td>\n",
       "      <td>The system seems to work very well it keeps bu...</td>\n",
       "      <td>Nice product</td>\n",
       "      <td>1377129600</td>\n",
       "      <td>NaN</td>\n",
       "    </tr>\n",
       "  </tbody>\n",
       "</table>\n",
       "<p>100000 rows × 12 columns</p>\n",
       "</div>"
      ],
      "text/plain": [
       "       overall vote  verified   reviewTime      reviewerID        asin  \\\n",
       "0            5    2      True  05 30, 2015  A1SP1855LVHRVS  0986121126   \n",
       "1            5    8      True   05 8, 2015   AOAIHJZU5XMMH  0986121126   \n",
       "2            4  NaN      True  11 28, 2016  A2Z9J0DD7PX7D3  0986121126   \n",
       "3            4  NaN     False  11 23, 2016  A2FT1DZIV8CVOT  0986121126   \n",
       "4            4  NaN      True  11 19, 2016  A1HYKFP21Y02V4  0986121126   \n",
       "...        ...  ...       ...          ...             ...         ...   \n",
       "99995        5  NaN      True  08 23, 2013  A37E1Q63V1ITDE  B000068XMM   \n",
       "99996        5  NaN      True  08 23, 2013  A28L1K6L57ATYT  B000068XMM   \n",
       "99997        2    2      True  08 23, 2013   A3LUJFBABNZCT  B000068XMM   \n",
       "99998        4  NaN      True  08 22, 2013  A3VQ4T0N4V094D  B000068XMM   \n",
       "99999        4  NaN      True  08 22, 2013  A3JDEA2I31CSKP  B000068XMM   \n",
       "\n",
       "                                style      reviewerName  \\\n",
       "0           {'Format:': ' Paperback'}    Genevieve Luke   \n",
       "1      {'Format:': ' Kindle Edition'}            Lisa H   \n",
       "2      {'Format:': ' Kindle Edition'}        NanaWillow   \n",
       "3      {'Format:': ' Kindle Edition'}       Dave Carver   \n",
       "4      {'Format:': ' Kindle Edition'}               JEC   \n",
       "...                               ...               ...   \n",
       "99995             {'Color:': ' Camo'}  robert t willard   \n",
       "99996             {'Color:': ' Camo'}   Kindle Customer   \n",
       "99997      {'Color:': ' Olive Green'}        LYNN MARIE   \n",
       "99998      {'Color:': ' Olive Green'}    K. L. Williams   \n",
       "99999             {'Color:': ' Camo'}             Iukie   \n",
       "\n",
       "                                              reviewText  \\\n",
       "0                                  WOW, VERY GOOD STORY.   \n",
       "1      Great First Novel!  Mr. Spriggs is a very tale...   \n",
       "2      I was having trouble trying to put into words ...   \n",
       "3      A consistent theme in this book is the detecti...   \n",
       "4      Keeps you just a little off balance, while rea...   \n",
       "...                                                  ...   \n",
       "99995  I have used it in my back yard and in the wood...   \n",
       "99996  Great for ballgames and all outdoor activities...   \n",
       "99997  Tried to send it back but since it's a dangero...   \n",
       "99998  Its just confusing when to know the canister i...   \n",
       "99999  The system seems to work very well it keeps bu...   \n",
       "\n",
       "                                               summary  unixReviewTime image  \n",
       "0                                     VERY GOOD STORY.      1432944000   NaN  \n",
       "1         Won't stop, can't stop, until the last page!      1431043200   NaN  \n",
       "2                                 A good read for some      1480291200   NaN  \n",
       "3      Routine, Mundane and difficult to stop reading.      1479859200   NaN  \n",
       "4                                     Keeps you hooked      1479513600   NaN  \n",
       "...                                                ...             ...   ...  \n",
       "99995                                    Great product      1377216000   NaN  \n",
       "99996                             Great little machine      1377216000   NaN  \n",
       "99997                        Too complex and dangerous      1377216000   NaN  \n",
       "99998                                 It seems to work      1377129600   NaN  \n",
       "99999                                     Nice product      1377129600   NaN  \n",
       "\n",
       "[100000 rows x 12 columns]"
      ]
     },
     "execution_count": 53,
     "metadata": {},
     "output_type": "execute_result"
    }
   ],
   "source": [
    "reviews = pd.read_json(\"Patio_Lawn_and_Garden.json.gz\",nrows=100000,lines=True)\n",
    "reviews"
   ]
  },
  {
   "cell_type": "code",
   "execution_count": 54,
   "id": "c08962ad",
   "metadata": {},
   "outputs": [
    {
     "data": {
      "text/plain": [
       "overall               0\n",
       "vote              85244\n",
       "verified              0\n",
       "reviewTime            0\n",
       "reviewerID            0\n",
       "asin                  0\n",
       "style             33573\n",
       "reviewerName          3\n",
       "reviewText           26\n",
       "summary              16\n",
       "unixReviewTime        0\n",
       "image             98882\n",
       "dtype: int64"
      ]
     },
     "execution_count": 54,
     "metadata": {},
     "output_type": "execute_result"
    }
   ],
   "source": [
    "reviews.isnull().sum()"
   ]
  },
  {
   "cell_type": "code",
   "execution_count": 55,
   "id": "c2291a2c",
   "metadata": {},
   "outputs": [
    {
     "data": {
      "text/plain": [
       "category            0\n",
       "tech1               0\n",
       "description         0\n",
       "fit                 0\n",
       "title               0\n",
       "also_buy            0\n",
       "tech2               0\n",
       "brand               0\n",
       "feature             0\n",
       "rank                0\n",
       "also_view           0\n",
       "main_cat            0\n",
       "similar_item        0\n",
       "date                0\n",
       "price               0\n",
       "asin                0\n",
       "imageURL            0\n",
       "imageURLHighRes     0\n",
       "details            22\n",
       "dtype: int64"
      ]
     },
     "execution_count": 55,
     "metadata": {},
     "output_type": "execute_result"
    }
   ],
   "source": [
    "metadata.isnull().sum()"
   ]
  },
  {
   "cell_type": "markdown",
   "id": "53251ce2",
   "metadata": {},
   "source": [
    "# merge "
   ]
  },
  {
   "cell_type": "code",
   "execution_count": 56,
   "id": "eeb40492",
   "metadata": {},
   "outputs": [],
   "source": [
    "data1 = metadata[['category','title','brand','main_cat','price','asin']]"
   ]
  },
  {
   "cell_type": "code",
   "execution_count": 57,
   "id": "ff06a254",
   "metadata": {},
   "outputs": [],
   "source": [
    "data2 = reviews[['overall','verified','reviewTime','reviewerID','asin','reviewerName','reviewText','summary','unixReviewTime']]"
   ]
  },
  {
   "cell_type": "code",
   "execution_count": 58,
   "id": "c8dc42b1",
   "metadata": {},
   "outputs": [
    {
     "data": {
      "text/html": [
       "<div>\n",
       "<style scoped>\n",
       "    .dataframe tbody tr th:only-of-type {\n",
       "        vertical-align: middle;\n",
       "    }\n",
       "\n",
       "    .dataframe tbody tr th {\n",
       "        vertical-align: top;\n",
       "    }\n",
       "\n",
       "    .dataframe thead th {\n",
       "        text-align: right;\n",
       "    }\n",
       "</style>\n",
       "<table border=\"1\" class=\"dataframe\">\n",
       "  <thead>\n",
       "    <tr style=\"text-align: right;\">\n",
       "      <th></th>\n",
       "      <th>category</th>\n",
       "      <th>title</th>\n",
       "      <th>brand</th>\n",
       "      <th>main_cat</th>\n",
       "      <th>price</th>\n",
       "      <th>asin</th>\n",
       "      <th>overall</th>\n",
       "      <th>verified</th>\n",
       "      <th>reviewTime</th>\n",
       "      <th>reviewerID</th>\n",
       "      <th>reviewerName</th>\n",
       "      <th>reviewText</th>\n",
       "      <th>summary</th>\n",
       "      <th>unixReviewTime</th>\n",
       "    </tr>\n",
       "  </thead>\n",
       "  <tbody>\n",
       "    <tr>\n",
       "      <th>0</th>\n",
       "      <td>[Patio, Lawn &amp; Garden, Pest Control, Bug Zappers]</td>\n",
       "      <td>Johnson Road</td>\n",
       "      <td>Visit Amazon's Clayton E Spriggs Page</td>\n",
       "      <td>Books</td>\n",
       "      <td></td>\n",
       "      <td>0986121126</td>\n",
       "      <td>5</td>\n",
       "      <td>True</td>\n",
       "      <td>05 30, 2015</td>\n",
       "      <td>A1SP1855LVHRVS</td>\n",
       "      <td>Genevieve Luke</td>\n",
       "      <td>WOW, VERY GOOD STORY.</td>\n",
       "      <td>VERY GOOD STORY.</td>\n",
       "      <td>1432944000</td>\n",
       "    </tr>\n",
       "    <tr>\n",
       "      <th>1</th>\n",
       "      <td>[Patio, Lawn &amp; Garden, Pest Control, Bug Zappers]</td>\n",
       "      <td>Johnson Road</td>\n",
       "      <td>Visit Amazon's Clayton E Spriggs Page</td>\n",
       "      <td>Books</td>\n",
       "      <td></td>\n",
       "      <td>0986121126</td>\n",
       "      <td>5</td>\n",
       "      <td>True</td>\n",
       "      <td>05 8, 2015</td>\n",
       "      <td>AOAIHJZU5XMMH</td>\n",
       "      <td>Lisa H</td>\n",
       "      <td>Great First Novel!  Mr. Spriggs is a very tale...</td>\n",
       "      <td>Won't stop, can't stop, until the last page!</td>\n",
       "      <td>1431043200</td>\n",
       "    </tr>\n",
       "    <tr>\n",
       "      <th>2</th>\n",
       "      <td>[Patio, Lawn &amp; Garden, Pest Control, Bug Zappers]</td>\n",
       "      <td>Johnson Road</td>\n",
       "      <td>Visit Amazon's Clayton E Spriggs Page</td>\n",
       "      <td>Books</td>\n",
       "      <td></td>\n",
       "      <td>0986121126</td>\n",
       "      <td>4</td>\n",
       "      <td>True</td>\n",
       "      <td>11 28, 2016</td>\n",
       "      <td>A2Z9J0DD7PX7D3</td>\n",
       "      <td>NanaWillow</td>\n",
       "      <td>I was having trouble trying to put into words ...</td>\n",
       "      <td>A good read for some</td>\n",
       "      <td>1480291200</td>\n",
       "    </tr>\n",
       "    <tr>\n",
       "      <th>3</th>\n",
       "      <td>[Patio, Lawn &amp; Garden, Pest Control, Bug Zappers]</td>\n",
       "      <td>Johnson Road</td>\n",
       "      <td>Visit Amazon's Clayton E Spriggs Page</td>\n",
       "      <td>Books</td>\n",
       "      <td></td>\n",
       "      <td>0986121126</td>\n",
       "      <td>4</td>\n",
       "      <td>False</td>\n",
       "      <td>11 23, 2016</td>\n",
       "      <td>A2FT1DZIV8CVOT</td>\n",
       "      <td>Dave Carver</td>\n",
       "      <td>A consistent theme in this book is the detecti...</td>\n",
       "      <td>Routine, Mundane and difficult to stop reading.</td>\n",
       "      <td>1479859200</td>\n",
       "    </tr>\n",
       "    <tr>\n",
       "      <th>4</th>\n",
       "      <td>[Patio, Lawn &amp; Garden, Pest Control, Bug Zappers]</td>\n",
       "      <td>Johnson Road</td>\n",
       "      <td>Visit Amazon's Clayton E Spriggs Page</td>\n",
       "      <td>Books</td>\n",
       "      <td></td>\n",
       "      <td>0986121126</td>\n",
       "      <td>4</td>\n",
       "      <td>True</td>\n",
       "      <td>11 19, 2016</td>\n",
       "      <td>A1HYKFP21Y02V4</td>\n",
       "      <td>JEC</td>\n",
       "      <td>Keeps you just a little off balance, while rea...</td>\n",
       "      <td>Keeps you hooked</td>\n",
       "      <td>1479513600</td>\n",
       "    </tr>\n",
       "  </tbody>\n",
       "</table>\n",
       "</div>"
      ],
      "text/plain": [
       "                                            category         title  \\\n",
       "0  [Patio, Lawn & Garden, Pest Control, Bug Zappers]  Johnson Road   \n",
       "1  [Patio, Lawn & Garden, Pest Control, Bug Zappers]  Johnson Road   \n",
       "2  [Patio, Lawn & Garden, Pest Control, Bug Zappers]  Johnson Road   \n",
       "3  [Patio, Lawn & Garden, Pest Control, Bug Zappers]  Johnson Road   \n",
       "4  [Patio, Lawn & Garden, Pest Control, Bug Zappers]  Johnson Road   \n",
       "\n",
       "                                   brand main_cat price        asin  overall  \\\n",
       "0  Visit Amazon's Clayton E Spriggs Page    Books        0986121126        5   \n",
       "1  Visit Amazon's Clayton E Spriggs Page    Books        0986121126        5   \n",
       "2  Visit Amazon's Clayton E Spriggs Page    Books        0986121126        4   \n",
       "3  Visit Amazon's Clayton E Spriggs Page    Books        0986121126        4   \n",
       "4  Visit Amazon's Clayton E Spriggs Page    Books        0986121126        4   \n",
       "\n",
       "   verified   reviewTime      reviewerID    reviewerName  \\\n",
       "0      True  05 30, 2015  A1SP1855LVHRVS  Genevieve Luke   \n",
       "1      True   05 8, 2015   AOAIHJZU5XMMH          Lisa H   \n",
       "2      True  11 28, 2016  A2Z9J0DD7PX7D3      NanaWillow   \n",
       "3     False  11 23, 2016  A2FT1DZIV8CVOT     Dave Carver   \n",
       "4      True  11 19, 2016  A1HYKFP21Y02V4             JEC   \n",
       "\n",
       "                                          reviewText  \\\n",
       "0                              WOW, VERY GOOD STORY.   \n",
       "1  Great First Novel!  Mr. Spriggs is a very tale...   \n",
       "2  I was having trouble trying to put into words ...   \n",
       "3  A consistent theme in this book is the detecti...   \n",
       "4  Keeps you just a little off balance, while rea...   \n",
       "\n",
       "                                           summary  unixReviewTime  \n",
       "0                                 VERY GOOD STORY.      1432944000  \n",
       "1     Won't stop, can't stop, until the last page!      1431043200  \n",
       "2                             A good read for some      1480291200  \n",
       "3  Routine, Mundane and difficult to stop reading.      1479859200  \n",
       "4                                 Keeps you hooked      1479513600  "
      ]
     },
     "execution_count": 58,
     "metadata": {},
     "output_type": "execute_result"
    }
   ],
   "source": [
    "# Merging the data set\n",
    "merge_data = pd.merge(data1,data2 ,on = 'asin')\n",
    "merge_data.head()"
   ]
  },
  {
   "cell_type": "code",
   "execution_count": 59,
   "id": "863c0d64",
   "metadata": {},
   "outputs": [
    {
     "data": {
      "text/plain": [
       "(199807, 14)"
      ]
     },
     "execution_count": 59,
     "metadata": {},
     "output_type": "execute_result"
    }
   ],
   "source": [
    "merge_data.shape"
   ]
  },
  {
   "cell_type": "code",
   "execution_count": 60,
   "id": "80b14087",
   "metadata": {},
   "outputs": [
    {
     "data": {
      "text/plain": [
       "category          object\n",
       "title             object\n",
       "brand             object\n",
       "main_cat          object\n",
       "price             object\n",
       "asin              object\n",
       "overall            int64\n",
       "verified            bool\n",
       "reviewTime        object\n",
       "reviewerID        object\n",
       "reviewerName      object\n",
       "reviewText        object\n",
       "summary           object\n",
       "unixReviewTime     int64\n",
       "dtype: object"
      ]
     },
     "execution_count": 60,
     "metadata": {},
     "output_type": "execute_result"
    }
   ],
   "source": [
    "merge_data.dtypes"
   ]
  },
  {
   "cell_type": "markdown",
   "id": "b7d3f884",
   "metadata": {},
   "source": [
    "# checking null value"
   ]
  },
  {
   "cell_type": "code",
   "execution_count": 61,
   "id": "f8549e83",
   "metadata": {},
   "outputs": [
    {
     "data": {
      "text/plain": [
       "category           0\n",
       "title              0\n",
       "brand              0\n",
       "main_cat           0\n",
       "price              0\n",
       "asin               0\n",
       "overall            0\n",
       "verified           0\n",
       "reviewTime         0\n",
       "reviewerID         0\n",
       "reviewerName       6\n",
       "reviewText        52\n",
       "summary           32\n",
       "unixReviewTime     0\n",
       "dtype: int64"
      ]
     },
     "execution_count": 61,
     "metadata": {},
     "output_type": "execute_result"
    }
   ],
   "source": [
    "merge_data.isnull().sum()"
   ]
  },
  {
   "cell_type": "code",
   "execution_count": 62,
   "id": "4f661d47",
   "metadata": {},
   "outputs": [],
   "source": [
    "merge_data.dropna(inplace=True)"
   ]
  },
  {
   "cell_type": "code",
   "execution_count": 63,
   "id": "288c11fe",
   "metadata": {},
   "outputs": [
    {
     "data": {
      "text/plain": [
       "category          0\n",
       "title             0\n",
       "brand             0\n",
       "main_cat          0\n",
       "price             0\n",
       "asin              0\n",
       "overall           0\n",
       "verified          0\n",
       "reviewTime        0\n",
       "reviewerID        0\n",
       "reviewerName      0\n",
       "reviewText        0\n",
       "summary           0\n",
       "unixReviewTime    0\n",
       "dtype: int64"
      ]
     },
     "execution_count": 63,
     "metadata": {},
     "output_type": "execute_result"
    }
   ],
   "source": [
    "merge_data.isnull().sum()"
   ]
  },
  {
   "cell_type": "code",
   "execution_count": 64,
   "id": "5aee5340",
   "metadata": {},
   "outputs": [
    {
     "data": {
      "text/plain": [
       "(199719, 14)"
      ]
     },
     "execution_count": 64,
     "metadata": {},
     "output_type": "execute_result"
    }
   ],
   "source": [
    "merge_data.shape"
   ]
  },
  {
   "cell_type": "code",
   "execution_count": 65,
   "id": "e59890d1",
   "metadata": {},
   "outputs": [
    {
     "data": {
      "text/html": [
       "<div>\n",
       "<style scoped>\n",
       "    .dataframe tbody tr th:only-of-type {\n",
       "        vertical-align: middle;\n",
       "    }\n",
       "\n",
       "    .dataframe tbody tr th {\n",
       "        vertical-align: top;\n",
       "    }\n",
       "\n",
       "    .dataframe thead th {\n",
       "        text-align: right;\n",
       "    }\n",
       "</style>\n",
       "<table border=\"1\" class=\"dataframe\">\n",
       "  <thead>\n",
       "    <tr style=\"text-align: right;\">\n",
       "      <th></th>\n",
       "      <th>category</th>\n",
       "      <th>title</th>\n",
       "      <th>brand</th>\n",
       "      <th>main_cat</th>\n",
       "      <th>price</th>\n",
       "      <th>asin</th>\n",
       "      <th>overall</th>\n",
       "      <th>verified</th>\n",
       "      <th>reviewTime</th>\n",
       "      <th>reviewerID</th>\n",
       "      <th>reviewerName</th>\n",
       "      <th>reviewText</th>\n",
       "      <th>summary</th>\n",
       "      <th>unixReviewTime</th>\n",
       "    </tr>\n",
       "  </thead>\n",
       "  <tbody>\n",
       "    <tr>\n",
       "      <th>0</th>\n",
       "      <td>[Patio, Lawn &amp; Garden, Pest Control, Bug Zappers]</td>\n",
       "      <td>Johnson Road</td>\n",
       "      <td>Visit Amazon's Clayton E Spriggs Page</td>\n",
       "      <td>Books</td>\n",
       "      <td></td>\n",
       "      <td>0986121126</td>\n",
       "      <td>5</td>\n",
       "      <td>True</td>\n",
       "      <td>05 30, 2015</td>\n",
       "      <td>A1SP1855LVHRVS</td>\n",
       "      <td>Genevieve Luke</td>\n",
       "      <td>WOW, VERY GOOD STORY.</td>\n",
       "      <td>VERY GOOD STORY.</td>\n",
       "      <td>1432944000</td>\n",
       "    </tr>\n",
       "    <tr>\n",
       "      <th>1</th>\n",
       "      <td>[Patio, Lawn &amp; Garden, Pest Control, Bug Zappers]</td>\n",
       "      <td>Johnson Road</td>\n",
       "      <td>Visit Amazon's Clayton E Spriggs Page</td>\n",
       "      <td>Books</td>\n",
       "      <td></td>\n",
       "      <td>0986121126</td>\n",
       "      <td>5</td>\n",
       "      <td>True</td>\n",
       "      <td>05 8, 2015</td>\n",
       "      <td>AOAIHJZU5XMMH</td>\n",
       "      <td>Lisa H</td>\n",
       "      <td>Great First Novel!  Mr. Spriggs is a very tale...</td>\n",
       "      <td>Won't stop, can't stop, until the last page!</td>\n",
       "      <td>1431043200</td>\n",
       "    </tr>\n",
       "    <tr>\n",
       "      <th>2</th>\n",
       "      <td>[Patio, Lawn &amp; Garden, Pest Control, Bug Zappers]</td>\n",
       "      <td>Johnson Road</td>\n",
       "      <td>Visit Amazon's Clayton E Spriggs Page</td>\n",
       "      <td>Books</td>\n",
       "      <td></td>\n",
       "      <td>0986121126</td>\n",
       "      <td>4</td>\n",
       "      <td>True</td>\n",
       "      <td>11 28, 2016</td>\n",
       "      <td>A2Z9J0DD7PX7D3</td>\n",
       "      <td>NanaWillow</td>\n",
       "      <td>I was having trouble trying to put into words ...</td>\n",
       "      <td>A good read for some</td>\n",
       "      <td>1480291200</td>\n",
       "    </tr>\n",
       "    <tr>\n",
       "      <th>3</th>\n",
       "      <td>[Patio, Lawn &amp; Garden, Pest Control, Bug Zappers]</td>\n",
       "      <td>Johnson Road</td>\n",
       "      <td>Visit Amazon's Clayton E Spriggs Page</td>\n",
       "      <td>Books</td>\n",
       "      <td></td>\n",
       "      <td>0986121126</td>\n",
       "      <td>4</td>\n",
       "      <td>False</td>\n",
       "      <td>11 23, 2016</td>\n",
       "      <td>A2FT1DZIV8CVOT</td>\n",
       "      <td>Dave Carver</td>\n",
       "      <td>A consistent theme in this book is the detecti...</td>\n",
       "      <td>Routine, Mundane and difficult to stop reading.</td>\n",
       "      <td>1479859200</td>\n",
       "    </tr>\n",
       "    <tr>\n",
       "      <th>4</th>\n",
       "      <td>[Patio, Lawn &amp; Garden, Pest Control, Bug Zappers]</td>\n",
       "      <td>Johnson Road</td>\n",
       "      <td>Visit Amazon's Clayton E Spriggs Page</td>\n",
       "      <td>Books</td>\n",
       "      <td></td>\n",
       "      <td>0986121126</td>\n",
       "      <td>4</td>\n",
       "      <td>True</td>\n",
       "      <td>11 19, 2016</td>\n",
       "      <td>A1HYKFP21Y02V4</td>\n",
       "      <td>JEC</td>\n",
       "      <td>Keeps you just a little off balance, while rea...</td>\n",
       "      <td>Keeps you hooked</td>\n",
       "      <td>1479513600</td>\n",
       "    </tr>\n",
       "    <tr>\n",
       "      <th>...</th>\n",
       "      <td>...</td>\n",
       "      <td>...</td>\n",
       "      <td>...</td>\n",
       "      <td>...</td>\n",
       "      <td>...</td>\n",
       "      <td>...</td>\n",
       "      <td>...</td>\n",
       "      <td>...</td>\n",
       "      <td>...</td>\n",
       "      <td>...</td>\n",
       "      <td>...</td>\n",
       "      <td>...</td>\n",
       "      <td>...</td>\n",
       "      <td>...</td>\n",
       "    </tr>\n",
       "    <tr>\n",
       "      <th>199802</th>\n",
       "      <td>[Patio, Lawn &amp; Garden, Pest Control, Repellents]</td>\n",
       "      <td>Thermacell MR150 Portable Mosquito Repeller</td>\n",
       "      <td>Thermacell</td>\n",
       "      <td>Amazon Home</td>\n",
       "      <td>$3.05</td>\n",
       "      <td>B000068XMM</td>\n",
       "      <td>5</td>\n",
       "      <td>True</td>\n",
       "      <td>08 23, 2013</td>\n",
       "      <td>A37E1Q63V1ITDE</td>\n",
       "      <td>robert t willard</td>\n",
       "      <td>I have used it in my back yard and in the wood...</td>\n",
       "      <td>Great product</td>\n",
       "      <td>1377216000</td>\n",
       "    </tr>\n",
       "    <tr>\n",
       "      <th>199803</th>\n",
       "      <td>[Patio, Lawn &amp; Garden, Pest Control, Repellents]</td>\n",
       "      <td>Thermacell MR150 Portable Mosquito Repeller</td>\n",
       "      <td>Thermacell</td>\n",
       "      <td>Amazon Home</td>\n",
       "      <td>$3.05</td>\n",
       "      <td>B000068XMM</td>\n",
       "      <td>5</td>\n",
       "      <td>True</td>\n",
       "      <td>08 23, 2013</td>\n",
       "      <td>A28L1K6L57ATYT</td>\n",
       "      <td>Kindle Customer</td>\n",
       "      <td>Great for ballgames and all outdoor activities...</td>\n",
       "      <td>Great little machine</td>\n",
       "      <td>1377216000</td>\n",
       "    </tr>\n",
       "    <tr>\n",
       "      <th>199804</th>\n",
       "      <td>[Patio, Lawn &amp; Garden, Pest Control, Repellents]</td>\n",
       "      <td>Thermacell MR150 Portable Mosquito Repeller</td>\n",
       "      <td>Thermacell</td>\n",
       "      <td>Amazon Home</td>\n",
       "      <td>$3.05</td>\n",
       "      <td>B000068XMM</td>\n",
       "      <td>2</td>\n",
       "      <td>True</td>\n",
       "      <td>08 23, 2013</td>\n",
       "      <td>A3LUJFBABNZCT</td>\n",
       "      <td>LYNN MARIE</td>\n",
       "      <td>Tried to send it back but since it's a dangero...</td>\n",
       "      <td>Too complex and dangerous</td>\n",
       "      <td>1377216000</td>\n",
       "    </tr>\n",
       "    <tr>\n",
       "      <th>199805</th>\n",
       "      <td>[Patio, Lawn &amp; Garden, Pest Control, Repellents]</td>\n",
       "      <td>Thermacell MR150 Portable Mosquito Repeller</td>\n",
       "      <td>Thermacell</td>\n",
       "      <td>Amazon Home</td>\n",
       "      <td>$3.05</td>\n",
       "      <td>B000068XMM</td>\n",
       "      <td>4</td>\n",
       "      <td>True</td>\n",
       "      <td>08 22, 2013</td>\n",
       "      <td>A3VQ4T0N4V094D</td>\n",
       "      <td>K. L. Williams</td>\n",
       "      <td>Its just confusing when to know the canister i...</td>\n",
       "      <td>It seems to work</td>\n",
       "      <td>1377129600</td>\n",
       "    </tr>\n",
       "    <tr>\n",
       "      <th>199806</th>\n",
       "      <td>[Patio, Lawn &amp; Garden, Pest Control, Repellents]</td>\n",
       "      <td>Thermacell MR150 Portable Mosquito Repeller</td>\n",
       "      <td>Thermacell</td>\n",
       "      <td>Amazon Home</td>\n",
       "      <td>$3.05</td>\n",
       "      <td>B000068XMM</td>\n",
       "      <td>4</td>\n",
       "      <td>True</td>\n",
       "      <td>08 22, 2013</td>\n",
       "      <td>A3JDEA2I31CSKP</td>\n",
       "      <td>Iukie</td>\n",
       "      <td>The system seems to work very well it keeps bu...</td>\n",
       "      <td>Nice product</td>\n",
       "      <td>1377129600</td>\n",
       "    </tr>\n",
       "  </tbody>\n",
       "</table>\n",
       "<p>199719 rows × 14 columns</p>\n",
       "</div>"
      ],
      "text/plain": [
       "                                                 category  \\\n",
       "0       [Patio, Lawn & Garden, Pest Control, Bug Zappers]   \n",
       "1       [Patio, Lawn & Garden, Pest Control, Bug Zappers]   \n",
       "2       [Patio, Lawn & Garden, Pest Control, Bug Zappers]   \n",
       "3       [Patio, Lawn & Garden, Pest Control, Bug Zappers]   \n",
       "4       [Patio, Lawn & Garden, Pest Control, Bug Zappers]   \n",
       "...                                                   ...   \n",
       "199802   [Patio, Lawn & Garden, Pest Control, Repellents]   \n",
       "199803   [Patio, Lawn & Garden, Pest Control, Repellents]   \n",
       "199804   [Patio, Lawn & Garden, Pest Control, Repellents]   \n",
       "199805   [Patio, Lawn & Garden, Pest Control, Repellents]   \n",
       "199806   [Patio, Lawn & Garden, Pest Control, Repellents]   \n",
       "\n",
       "                                              title  \\\n",
       "0                                      Johnson Road   \n",
       "1                                      Johnson Road   \n",
       "2                                      Johnson Road   \n",
       "3                                      Johnson Road   \n",
       "4                                      Johnson Road   \n",
       "...                                             ...   \n",
       "199802  Thermacell MR150 Portable Mosquito Repeller   \n",
       "199803  Thermacell MR150 Portable Mosquito Repeller   \n",
       "199804  Thermacell MR150 Portable Mosquito Repeller   \n",
       "199805  Thermacell MR150 Portable Mosquito Repeller   \n",
       "199806  Thermacell MR150 Portable Mosquito Repeller   \n",
       "\n",
       "                                        brand     main_cat  price        asin  \\\n",
       "0       Visit Amazon's Clayton E Spriggs Page        Books         0986121126   \n",
       "1       Visit Amazon's Clayton E Spriggs Page        Books         0986121126   \n",
       "2       Visit Amazon's Clayton E Spriggs Page        Books         0986121126   \n",
       "3       Visit Amazon's Clayton E Spriggs Page        Books         0986121126   \n",
       "4       Visit Amazon's Clayton E Spriggs Page        Books         0986121126   \n",
       "...                                       ...          ...    ...         ...   \n",
       "199802                             Thermacell  Amazon Home  $3.05  B000068XMM   \n",
       "199803                             Thermacell  Amazon Home  $3.05  B000068XMM   \n",
       "199804                             Thermacell  Amazon Home  $3.05  B000068XMM   \n",
       "199805                             Thermacell  Amazon Home  $3.05  B000068XMM   \n",
       "199806                             Thermacell  Amazon Home  $3.05  B000068XMM   \n",
       "\n",
       "        overall  verified   reviewTime      reviewerID      reviewerName  \\\n",
       "0             5      True  05 30, 2015  A1SP1855LVHRVS    Genevieve Luke   \n",
       "1             5      True   05 8, 2015   AOAIHJZU5XMMH            Lisa H   \n",
       "2             4      True  11 28, 2016  A2Z9J0DD7PX7D3        NanaWillow   \n",
       "3             4     False  11 23, 2016  A2FT1DZIV8CVOT       Dave Carver   \n",
       "4             4      True  11 19, 2016  A1HYKFP21Y02V4               JEC   \n",
       "...         ...       ...          ...             ...               ...   \n",
       "199802        5      True  08 23, 2013  A37E1Q63V1ITDE  robert t willard   \n",
       "199803        5      True  08 23, 2013  A28L1K6L57ATYT   Kindle Customer   \n",
       "199804        2      True  08 23, 2013   A3LUJFBABNZCT        LYNN MARIE   \n",
       "199805        4      True  08 22, 2013  A3VQ4T0N4V094D    K. L. Williams   \n",
       "199806        4      True  08 22, 2013  A3JDEA2I31CSKP             Iukie   \n",
       "\n",
       "                                               reviewText  \\\n",
       "0                                   WOW, VERY GOOD STORY.   \n",
       "1       Great First Novel!  Mr. Spriggs is a very tale...   \n",
       "2       I was having trouble trying to put into words ...   \n",
       "3       A consistent theme in this book is the detecti...   \n",
       "4       Keeps you just a little off balance, while rea...   \n",
       "...                                                   ...   \n",
       "199802  I have used it in my back yard and in the wood...   \n",
       "199803  Great for ballgames and all outdoor activities...   \n",
       "199804  Tried to send it back but since it's a dangero...   \n",
       "199805  Its just confusing when to know the canister i...   \n",
       "199806  The system seems to work very well it keeps bu...   \n",
       "\n",
       "                                                summary  unixReviewTime  \n",
       "0                                      VERY GOOD STORY.      1432944000  \n",
       "1          Won't stop, can't stop, until the last page!      1431043200  \n",
       "2                                  A good read for some      1480291200  \n",
       "3       Routine, Mundane and difficult to stop reading.      1479859200  \n",
       "4                                      Keeps you hooked      1479513600  \n",
       "...                                                 ...             ...  \n",
       "199802                                    Great product      1377216000  \n",
       "199803                             Great little machine      1377216000  \n",
       "199804                        Too complex and dangerous      1377216000  \n",
       "199805                                 It seems to work      1377129600  \n",
       "199806                                     Nice product      1377129600  \n",
       "\n",
       "[199719 rows x 14 columns]"
      ]
     },
     "execution_count": 65,
     "metadata": {},
     "output_type": "execute_result"
    }
   ],
   "source": [
    "merge_data"
   ]
  },
  {
   "cell_type": "code",
   "execution_count": 66,
   "id": "9fcfc7d8",
   "metadata": {},
   "outputs": [
    {
     "data": {
      "text/plain": [
       "Index(['category', 'title', 'brand', 'main_cat', 'price', 'asin', 'overall',\n",
       "       'verified', 'reviewTime', 'reviewerID', 'reviewerName', 'reviewText',\n",
       "       'summary', 'unixReviewTime'],\n",
       "      dtype='object')"
      ]
     },
     "execution_count": 66,
     "metadata": {},
     "output_type": "execute_result"
    }
   ],
   "source": [
    "merge_data.columns"
   ]
  },
  {
   "cell_type": "code",
   "execution_count": 67,
   "id": "da726fcf",
   "metadata": {},
   "outputs": [],
   "source": [
    "### covert date time"
   ]
  },
  {
   "cell_type": "code",
   "execution_count": 68,
   "id": "4564b8c0",
   "metadata": {},
   "outputs": [],
   "source": [
    "merge_data[\"reviewTime\"] = pd.to_datetime(merge_data[\"reviewTime\"])"
   ]
  },
  {
   "cell_type": "code",
   "execution_count": 69,
   "id": "9ec3911a",
   "metadata": {},
   "outputs": [
    {
     "data": {
      "text/html": [
       "<div>\n",
       "<style scoped>\n",
       "    .dataframe tbody tr th:only-of-type {\n",
       "        vertical-align: middle;\n",
       "    }\n",
       "\n",
       "    .dataframe tbody tr th {\n",
       "        vertical-align: top;\n",
       "    }\n",
       "\n",
       "    .dataframe thead th {\n",
       "        text-align: right;\n",
       "    }\n",
       "</style>\n",
       "<table border=\"1\" class=\"dataframe\">\n",
       "  <thead>\n",
       "    <tr style=\"text-align: right;\">\n",
       "      <th></th>\n",
       "      <th>category</th>\n",
       "      <th>title</th>\n",
       "      <th>brand</th>\n",
       "      <th>main_cat</th>\n",
       "      <th>price</th>\n",
       "      <th>asin</th>\n",
       "      <th>overall</th>\n",
       "      <th>verified</th>\n",
       "      <th>reviewTime</th>\n",
       "      <th>reviewerID</th>\n",
       "      <th>reviewerName</th>\n",
       "      <th>reviewText</th>\n",
       "      <th>summary</th>\n",
       "      <th>unixReviewTime</th>\n",
       "    </tr>\n",
       "  </thead>\n",
       "  <tbody>\n",
       "    <tr>\n",
       "      <th>199797</th>\n",
       "      <td>[Patio, Lawn &amp; Garden, Pest Control, Repellents]</td>\n",
       "      <td>Thermacell MR150 Portable Mosquito Repeller</td>\n",
       "      <td>Thermacell</td>\n",
       "      <td>Amazon Home</td>\n",
       "      <td>$3.05</td>\n",
       "      <td>B000068XMM</td>\n",
       "      <td>1</td>\n",
       "      <td>True</td>\n",
       "      <td>2013-08-29</td>\n",
       "      <td>A31U4F01XGM3</td>\n",
       "      <td>lexifv</td>\n",
       "      <td>this product sucks...it did not seem to work a...</td>\n",
       "      <td>didnt work at all!!!</td>\n",
       "      <td>1377734400</td>\n",
       "    </tr>\n",
       "    <tr>\n",
       "      <th>199798</th>\n",
       "      <td>[Patio, Lawn &amp; Garden, Pest Control, Repellents]</td>\n",
       "      <td>Thermacell MR150 Portable Mosquito Repeller</td>\n",
       "      <td>Thermacell</td>\n",
       "      <td>Amazon Home</td>\n",
       "      <td>$3.05</td>\n",
       "      <td>B000068XMM</td>\n",
       "      <td>3</td>\n",
       "      <td>True</td>\n",
       "      <td>2013-08-29</td>\n",
       "      <td>A33RS8OIHL96KL</td>\n",
       "      <td>Woodsydoe</td>\n",
       "      <td>I guess this products works somewhat but the m...</td>\n",
       "      <td>I guess this works</td>\n",
       "      <td>1377734400</td>\n",
       "    </tr>\n",
       "    <tr>\n",
       "      <th>199799</th>\n",
       "      <td>[Patio, Lawn &amp; Garden, Pest Control, Repellents]</td>\n",
       "      <td>Thermacell MR150 Portable Mosquito Repeller</td>\n",
       "      <td>Thermacell</td>\n",
       "      <td>Amazon Home</td>\n",
       "      <td>$3.05</td>\n",
       "      <td>B000068XMM</td>\n",
       "      <td>4</td>\n",
       "      <td>True</td>\n",
       "      <td>2013-08-27</td>\n",
       "      <td>A165HWTT7DIBT1</td>\n",
       "      <td>William Z</td>\n",
       "      <td>I took it camping. It worked well, substantial...</td>\n",
       "      <td>Works but burn fast</td>\n",
       "      <td>1377561600</td>\n",
       "    </tr>\n",
       "    <tr>\n",
       "      <th>199800</th>\n",
       "      <td>[Patio, Lawn &amp; Garden, Pest Control, Repellents]</td>\n",
       "      <td>Thermacell MR150 Portable Mosquito Repeller</td>\n",
       "      <td>Thermacell</td>\n",
       "      <td>Amazon Home</td>\n",
       "      <td>$3.05</td>\n",
       "      <td>B000068XMM</td>\n",
       "      <td>5</td>\n",
       "      <td>True</td>\n",
       "      <td>2013-08-27</td>\n",
       "      <td>A3JGAUS622KNTH</td>\n",
       "      <td>Ben Arnold</td>\n",
       "      <td>These work great here in missouri. we have ton...</td>\n",
       "      <td>Good if you got the money but not a must have</td>\n",
       "      <td>1377561600</td>\n",
       "    </tr>\n",
       "    <tr>\n",
       "      <th>199801</th>\n",
       "      <td>[Patio, Lawn &amp; Garden, Pest Control, Repellents]</td>\n",
       "      <td>Thermacell MR150 Portable Mosquito Repeller</td>\n",
       "      <td>Thermacell</td>\n",
       "      <td>Amazon Home</td>\n",
       "      <td>$3.05</td>\n",
       "      <td>B000068XMM</td>\n",
       "      <td>5</td>\n",
       "      <td>True</td>\n",
       "      <td>2013-08-26</td>\n",
       "      <td>A3BM2MJWRUF20U</td>\n",
       "      <td>Amazon Customer</td>\n",
       "      <td>Instructions easy enough to read and understan...</td>\n",
       "      <td>easy and portable</td>\n",
       "      <td>1377475200</td>\n",
       "    </tr>\n",
       "    <tr>\n",
       "      <th>199802</th>\n",
       "      <td>[Patio, Lawn &amp; Garden, Pest Control, Repellents]</td>\n",
       "      <td>Thermacell MR150 Portable Mosquito Repeller</td>\n",
       "      <td>Thermacell</td>\n",
       "      <td>Amazon Home</td>\n",
       "      <td>$3.05</td>\n",
       "      <td>B000068XMM</td>\n",
       "      <td>5</td>\n",
       "      <td>True</td>\n",
       "      <td>2013-08-23</td>\n",
       "      <td>A37E1Q63V1ITDE</td>\n",
       "      <td>robert t willard</td>\n",
       "      <td>I have used it in my back yard and in the wood...</td>\n",
       "      <td>Great product</td>\n",
       "      <td>1377216000</td>\n",
       "    </tr>\n",
       "    <tr>\n",
       "      <th>199803</th>\n",
       "      <td>[Patio, Lawn &amp; Garden, Pest Control, Repellents]</td>\n",
       "      <td>Thermacell MR150 Portable Mosquito Repeller</td>\n",
       "      <td>Thermacell</td>\n",
       "      <td>Amazon Home</td>\n",
       "      <td>$3.05</td>\n",
       "      <td>B000068XMM</td>\n",
       "      <td>5</td>\n",
       "      <td>True</td>\n",
       "      <td>2013-08-23</td>\n",
       "      <td>A28L1K6L57ATYT</td>\n",
       "      <td>Kindle Customer</td>\n",
       "      <td>Great for ballgames and all outdoor activities...</td>\n",
       "      <td>Great little machine</td>\n",
       "      <td>1377216000</td>\n",
       "    </tr>\n",
       "    <tr>\n",
       "      <th>199804</th>\n",
       "      <td>[Patio, Lawn &amp; Garden, Pest Control, Repellents]</td>\n",
       "      <td>Thermacell MR150 Portable Mosquito Repeller</td>\n",
       "      <td>Thermacell</td>\n",
       "      <td>Amazon Home</td>\n",
       "      <td>$3.05</td>\n",
       "      <td>B000068XMM</td>\n",
       "      <td>2</td>\n",
       "      <td>True</td>\n",
       "      <td>2013-08-23</td>\n",
       "      <td>A3LUJFBABNZCT</td>\n",
       "      <td>LYNN MARIE</td>\n",
       "      <td>Tried to send it back but since it's a dangero...</td>\n",
       "      <td>Too complex and dangerous</td>\n",
       "      <td>1377216000</td>\n",
       "    </tr>\n",
       "    <tr>\n",
       "      <th>199805</th>\n",
       "      <td>[Patio, Lawn &amp; Garden, Pest Control, Repellents]</td>\n",
       "      <td>Thermacell MR150 Portable Mosquito Repeller</td>\n",
       "      <td>Thermacell</td>\n",
       "      <td>Amazon Home</td>\n",
       "      <td>$3.05</td>\n",
       "      <td>B000068XMM</td>\n",
       "      <td>4</td>\n",
       "      <td>True</td>\n",
       "      <td>2013-08-22</td>\n",
       "      <td>A3VQ4T0N4V094D</td>\n",
       "      <td>K. L. Williams</td>\n",
       "      <td>Its just confusing when to know the canister i...</td>\n",
       "      <td>It seems to work</td>\n",
       "      <td>1377129600</td>\n",
       "    </tr>\n",
       "    <tr>\n",
       "      <th>199806</th>\n",
       "      <td>[Patio, Lawn &amp; Garden, Pest Control, Repellents]</td>\n",
       "      <td>Thermacell MR150 Portable Mosquito Repeller</td>\n",
       "      <td>Thermacell</td>\n",
       "      <td>Amazon Home</td>\n",
       "      <td>$3.05</td>\n",
       "      <td>B000068XMM</td>\n",
       "      <td>4</td>\n",
       "      <td>True</td>\n",
       "      <td>2013-08-22</td>\n",
       "      <td>A3JDEA2I31CSKP</td>\n",
       "      <td>Iukie</td>\n",
       "      <td>The system seems to work very well it keeps bu...</td>\n",
       "      <td>Nice product</td>\n",
       "      <td>1377129600</td>\n",
       "    </tr>\n",
       "  </tbody>\n",
       "</table>\n",
       "</div>"
      ],
      "text/plain": [
       "                                                category  \\\n",
       "199797  [Patio, Lawn & Garden, Pest Control, Repellents]   \n",
       "199798  [Patio, Lawn & Garden, Pest Control, Repellents]   \n",
       "199799  [Patio, Lawn & Garden, Pest Control, Repellents]   \n",
       "199800  [Patio, Lawn & Garden, Pest Control, Repellents]   \n",
       "199801  [Patio, Lawn & Garden, Pest Control, Repellents]   \n",
       "199802  [Patio, Lawn & Garden, Pest Control, Repellents]   \n",
       "199803  [Patio, Lawn & Garden, Pest Control, Repellents]   \n",
       "199804  [Patio, Lawn & Garden, Pest Control, Repellents]   \n",
       "199805  [Patio, Lawn & Garden, Pest Control, Repellents]   \n",
       "199806  [Patio, Lawn & Garden, Pest Control, Repellents]   \n",
       "\n",
       "                                              title       brand     main_cat  \\\n",
       "199797  Thermacell MR150 Portable Mosquito Repeller  Thermacell  Amazon Home   \n",
       "199798  Thermacell MR150 Portable Mosquito Repeller  Thermacell  Amazon Home   \n",
       "199799  Thermacell MR150 Portable Mosquito Repeller  Thermacell  Amazon Home   \n",
       "199800  Thermacell MR150 Portable Mosquito Repeller  Thermacell  Amazon Home   \n",
       "199801  Thermacell MR150 Portable Mosquito Repeller  Thermacell  Amazon Home   \n",
       "199802  Thermacell MR150 Portable Mosquito Repeller  Thermacell  Amazon Home   \n",
       "199803  Thermacell MR150 Portable Mosquito Repeller  Thermacell  Amazon Home   \n",
       "199804  Thermacell MR150 Portable Mosquito Repeller  Thermacell  Amazon Home   \n",
       "199805  Thermacell MR150 Portable Mosquito Repeller  Thermacell  Amazon Home   \n",
       "199806  Thermacell MR150 Portable Mosquito Repeller  Thermacell  Amazon Home   \n",
       "\n",
       "        price        asin  overall  verified reviewTime      reviewerID  \\\n",
       "199797  $3.05  B000068XMM        1      True 2013-08-29    A31U4F01XGM3   \n",
       "199798  $3.05  B000068XMM        3      True 2013-08-29  A33RS8OIHL96KL   \n",
       "199799  $3.05  B000068XMM        4      True 2013-08-27  A165HWTT7DIBT1   \n",
       "199800  $3.05  B000068XMM        5      True 2013-08-27  A3JGAUS622KNTH   \n",
       "199801  $3.05  B000068XMM        5      True 2013-08-26  A3BM2MJWRUF20U   \n",
       "199802  $3.05  B000068XMM        5      True 2013-08-23  A37E1Q63V1ITDE   \n",
       "199803  $3.05  B000068XMM        5      True 2013-08-23  A28L1K6L57ATYT   \n",
       "199804  $3.05  B000068XMM        2      True 2013-08-23   A3LUJFBABNZCT   \n",
       "199805  $3.05  B000068XMM        4      True 2013-08-22  A3VQ4T0N4V094D   \n",
       "199806  $3.05  B000068XMM        4      True 2013-08-22  A3JDEA2I31CSKP   \n",
       "\n",
       "            reviewerName                                         reviewText  \\\n",
       "199797            lexifv  this product sucks...it did not seem to work a...   \n",
       "199798         Woodsydoe  I guess this products works somewhat but the m...   \n",
       "199799         William Z  I took it camping. It worked well, substantial...   \n",
       "199800        Ben Arnold  These work great here in missouri. we have ton...   \n",
       "199801   Amazon Customer  Instructions easy enough to read and understan...   \n",
       "199802  robert t willard  I have used it in my back yard and in the wood...   \n",
       "199803   Kindle Customer  Great for ballgames and all outdoor activities...   \n",
       "199804        LYNN MARIE  Tried to send it back but since it's a dangero...   \n",
       "199805    K. L. Williams  Its just confusing when to know the canister i...   \n",
       "199806             Iukie  The system seems to work very well it keeps bu...   \n",
       "\n",
       "                                              summary  unixReviewTime  \n",
       "199797                           didnt work at all!!!      1377734400  \n",
       "199798                             I guess this works      1377734400  \n",
       "199799                            Works but burn fast      1377561600  \n",
       "199800  Good if you got the money but not a must have      1377561600  \n",
       "199801                              easy and portable      1377475200  \n",
       "199802                                  Great product      1377216000  \n",
       "199803                           Great little machine      1377216000  \n",
       "199804                      Too complex and dangerous      1377216000  \n",
       "199805                               It seems to work      1377129600  \n",
       "199806                                   Nice product      1377129600  "
      ]
     },
     "execution_count": 69,
     "metadata": {},
     "output_type": "execute_result"
    }
   ],
   "source": [
    "merge_data.tail(10)"
   ]
  },
  {
   "cell_type": "code",
   "execution_count": 70,
   "id": "f7283eeb",
   "metadata": {},
   "outputs": [
    {
     "data": {
      "text/plain": [
       "(199719, 14)"
      ]
     },
     "execution_count": 70,
     "metadata": {},
     "output_type": "execute_result"
    }
   ],
   "source": [
    "merge_data.shape"
   ]
  },
  {
   "cell_type": "code",
   "execution_count": 71,
   "id": "3f49fbfc",
   "metadata": {},
   "outputs": [],
   "source": [
    "# Clean Price Columns"
   ]
  },
  {
   "cell_type": "code",
   "execution_count": 72,
   "id": "30535d76",
   "metadata": {},
   "outputs": [
    {
     "data": {
      "text/html": [
       "<div>\n",
       "<style scoped>\n",
       "    .dataframe tbody tr th:only-of-type {\n",
       "        vertical-align: middle;\n",
       "    }\n",
       "\n",
       "    .dataframe tbody tr th {\n",
       "        vertical-align: top;\n",
       "    }\n",
       "\n",
       "    .dataframe thead th {\n",
       "        text-align: right;\n",
       "    }\n",
       "</style>\n",
       "<table border=\"1\" class=\"dataframe\">\n",
       "  <thead>\n",
       "    <tr style=\"text-align: right;\">\n",
       "      <th></th>\n",
       "      <th>price</th>\n",
       "    </tr>\n",
       "  </thead>\n",
       "  <tbody>\n",
       "    <tr>\n",
       "      <th>0</th>\n",
       "      <td></td>\n",
       "    </tr>\n",
       "    <tr>\n",
       "      <th>1</th>\n",
       "      <td></td>\n",
       "    </tr>\n",
       "    <tr>\n",
       "      <th>2</th>\n",
       "      <td></td>\n",
       "    </tr>\n",
       "    <tr>\n",
       "      <th>3</th>\n",
       "      <td></td>\n",
       "    </tr>\n",
       "    <tr>\n",
       "      <th>4</th>\n",
       "      <td></td>\n",
       "    </tr>\n",
       "    <tr>\n",
       "      <th>...</th>\n",
       "      <td>...</td>\n",
       "    </tr>\n",
       "    <tr>\n",
       "      <th>199802</th>\n",
       "      <td>$3.05</td>\n",
       "    </tr>\n",
       "    <tr>\n",
       "      <th>199803</th>\n",
       "      <td>$3.05</td>\n",
       "    </tr>\n",
       "    <tr>\n",
       "      <th>199804</th>\n",
       "      <td>$3.05</td>\n",
       "    </tr>\n",
       "    <tr>\n",
       "      <th>199805</th>\n",
       "      <td>$3.05</td>\n",
       "    </tr>\n",
       "    <tr>\n",
       "      <th>199806</th>\n",
       "      <td>$3.05</td>\n",
       "    </tr>\n",
       "  </tbody>\n",
       "</table>\n",
       "<p>199719 rows × 1 columns</p>\n",
       "</div>"
      ],
      "text/plain": [
       "        price\n",
       "0            \n",
       "1            \n",
       "2            \n",
       "3            \n",
       "4            \n",
       "...       ...\n",
       "199802  $3.05\n",
       "199803  $3.05\n",
       "199804  $3.05\n",
       "199805  $3.05\n",
       "199806  $3.05\n",
       "\n",
       "[199719 rows x 1 columns]"
      ]
     },
     "execution_count": 72,
     "metadata": {},
     "output_type": "execute_result"
    }
   ],
   "source": [
    "merge_data[['price']]"
   ]
  },
  {
   "cell_type": "code",
   "execution_count": 73,
   "id": "f4e2b8d7",
   "metadata": {},
   "outputs": [
    {
     "data": {
      "text/plain": [
       "<bound method Series.unique of 0              \n",
       "1              \n",
       "2              \n",
       "3              \n",
       "4              \n",
       "          ...  \n",
       "199802    $3.05\n",
       "199803    $3.05\n",
       "199804    $3.05\n",
       "199805    $3.05\n",
       "199806    $3.05\n",
       "Name: price, Length: 199719, dtype: object>"
      ]
     },
     "execution_count": 73,
     "metadata": {},
     "output_type": "execute_result"
    }
   ],
   "source": [
    "merge_data['price'].unique    # check for unique value"
   ]
  },
  {
   "cell_type": "code",
   "execution_count": 74,
   "id": "c66d0070",
   "metadata": {},
   "outputs": [],
   "source": [
    "merge_data['price'].replace(\"\\$\",\"\", regex=True, inplace=True)"
   ]
  },
  {
   "cell_type": "code",
   "execution_count": 75,
   "id": "5c14d2d4",
   "metadata": {},
   "outputs": [
    {
     "data": {
      "text/plain": [
       "category          0\n",
       "title             0\n",
       "brand             0\n",
       "main_cat          0\n",
       "price             0\n",
       "asin              0\n",
       "overall           0\n",
       "verified          0\n",
       "reviewTime        0\n",
       "reviewerID        0\n",
       "reviewerName      0\n",
       "reviewText        0\n",
       "summary           0\n",
       "unixReviewTime    0\n",
       "dtype: int64"
      ]
     },
     "execution_count": 75,
     "metadata": {},
     "output_type": "execute_result"
    }
   ],
   "source": [
    "merge_data.isnull().sum()"
   ]
  },
  {
   "cell_type": "code",
   "execution_count": 76,
   "id": "78afad1a",
   "metadata": {},
   "outputs": [
    {
     "data": {
      "text/html": [
       "<div>\n",
       "<style scoped>\n",
       "    .dataframe tbody tr th:only-of-type {\n",
       "        vertical-align: middle;\n",
       "    }\n",
       "\n",
       "    .dataframe tbody tr th {\n",
       "        vertical-align: top;\n",
       "    }\n",
       "\n",
       "    .dataframe thead th {\n",
       "        text-align: right;\n",
       "    }\n",
       "</style>\n",
       "<table border=\"1\" class=\"dataframe\">\n",
       "  <thead>\n",
       "    <tr style=\"text-align: right;\">\n",
       "      <th></th>\n",
       "      <th>category</th>\n",
       "      <th>title</th>\n",
       "      <th>brand</th>\n",
       "      <th>main_cat</th>\n",
       "      <th>price</th>\n",
       "      <th>asin</th>\n",
       "      <th>overall</th>\n",
       "      <th>verified</th>\n",
       "      <th>reviewTime</th>\n",
       "      <th>reviewerID</th>\n",
       "      <th>reviewerName</th>\n",
       "      <th>reviewText</th>\n",
       "      <th>summary</th>\n",
       "      <th>unixReviewTime</th>\n",
       "    </tr>\n",
       "  </thead>\n",
       "  <tbody>\n",
       "    <tr>\n",
       "      <th>0</th>\n",
       "      <td>[Patio, Lawn &amp; Garden, Pest Control, Bug Zappers]</td>\n",
       "      <td>Johnson Road</td>\n",
       "      <td>Visit Amazon's Clayton E Spriggs Page</td>\n",
       "      <td>Books</td>\n",
       "      <td></td>\n",
       "      <td>0986121126</td>\n",
       "      <td>5</td>\n",
       "      <td>True</td>\n",
       "      <td>2015-05-30</td>\n",
       "      <td>A1SP1855LVHRVS</td>\n",
       "      <td>Genevieve Luke</td>\n",
       "      <td>WOW, VERY GOOD STORY.</td>\n",
       "      <td>VERY GOOD STORY.</td>\n",
       "      <td>1432944000</td>\n",
       "    </tr>\n",
       "    <tr>\n",
       "      <th>1</th>\n",
       "      <td>[Patio, Lawn &amp; Garden, Pest Control, Bug Zappers]</td>\n",
       "      <td>Johnson Road</td>\n",
       "      <td>Visit Amazon's Clayton E Spriggs Page</td>\n",
       "      <td>Books</td>\n",
       "      <td></td>\n",
       "      <td>0986121126</td>\n",
       "      <td>5</td>\n",
       "      <td>True</td>\n",
       "      <td>2015-05-08</td>\n",
       "      <td>AOAIHJZU5XMMH</td>\n",
       "      <td>Lisa H</td>\n",
       "      <td>Great First Novel!  Mr. Spriggs is a very tale...</td>\n",
       "      <td>Won't stop, can't stop, until the last page!</td>\n",
       "      <td>1431043200</td>\n",
       "    </tr>\n",
       "    <tr>\n",
       "      <th>2</th>\n",
       "      <td>[Patio, Lawn &amp; Garden, Pest Control, Bug Zappers]</td>\n",
       "      <td>Johnson Road</td>\n",
       "      <td>Visit Amazon's Clayton E Spriggs Page</td>\n",
       "      <td>Books</td>\n",
       "      <td></td>\n",
       "      <td>0986121126</td>\n",
       "      <td>4</td>\n",
       "      <td>True</td>\n",
       "      <td>2016-11-28</td>\n",
       "      <td>A2Z9J0DD7PX7D3</td>\n",
       "      <td>NanaWillow</td>\n",
       "      <td>I was having trouble trying to put into words ...</td>\n",
       "      <td>A good read for some</td>\n",
       "      <td>1480291200</td>\n",
       "    </tr>\n",
       "    <tr>\n",
       "      <th>3</th>\n",
       "      <td>[Patio, Lawn &amp; Garden, Pest Control, Bug Zappers]</td>\n",
       "      <td>Johnson Road</td>\n",
       "      <td>Visit Amazon's Clayton E Spriggs Page</td>\n",
       "      <td>Books</td>\n",
       "      <td></td>\n",
       "      <td>0986121126</td>\n",
       "      <td>4</td>\n",
       "      <td>False</td>\n",
       "      <td>2016-11-23</td>\n",
       "      <td>A2FT1DZIV8CVOT</td>\n",
       "      <td>Dave Carver</td>\n",
       "      <td>A consistent theme in this book is the detecti...</td>\n",
       "      <td>Routine, Mundane and difficult to stop reading.</td>\n",
       "      <td>1479859200</td>\n",
       "    </tr>\n",
       "    <tr>\n",
       "      <th>4</th>\n",
       "      <td>[Patio, Lawn &amp; Garden, Pest Control, Bug Zappers]</td>\n",
       "      <td>Johnson Road</td>\n",
       "      <td>Visit Amazon's Clayton E Spriggs Page</td>\n",
       "      <td>Books</td>\n",
       "      <td></td>\n",
       "      <td>0986121126</td>\n",
       "      <td>4</td>\n",
       "      <td>True</td>\n",
       "      <td>2016-11-19</td>\n",
       "      <td>A1HYKFP21Y02V4</td>\n",
       "      <td>JEC</td>\n",
       "      <td>Keeps you just a little off balance, while rea...</td>\n",
       "      <td>Keeps you hooked</td>\n",
       "      <td>1479513600</td>\n",
       "    </tr>\n",
       "    <tr>\n",
       "      <th>...</th>\n",
       "      <td>...</td>\n",
       "      <td>...</td>\n",
       "      <td>...</td>\n",
       "      <td>...</td>\n",
       "      <td>...</td>\n",
       "      <td>...</td>\n",
       "      <td>...</td>\n",
       "      <td>...</td>\n",
       "      <td>...</td>\n",
       "      <td>...</td>\n",
       "      <td>...</td>\n",
       "      <td>...</td>\n",
       "      <td>...</td>\n",
       "      <td>...</td>\n",
       "    </tr>\n",
       "    <tr>\n",
       "      <th>199802</th>\n",
       "      <td>[Patio, Lawn &amp; Garden, Pest Control, Repellents]</td>\n",
       "      <td>Thermacell MR150 Portable Mosquito Repeller</td>\n",
       "      <td>Thermacell</td>\n",
       "      <td>Amazon Home</td>\n",
       "      <td>3.05</td>\n",
       "      <td>B000068XMM</td>\n",
       "      <td>5</td>\n",
       "      <td>True</td>\n",
       "      <td>2013-08-23</td>\n",
       "      <td>A37E1Q63V1ITDE</td>\n",
       "      <td>robert t willard</td>\n",
       "      <td>I have used it in my back yard and in the wood...</td>\n",
       "      <td>Great product</td>\n",
       "      <td>1377216000</td>\n",
       "    </tr>\n",
       "    <tr>\n",
       "      <th>199803</th>\n",
       "      <td>[Patio, Lawn &amp; Garden, Pest Control, Repellents]</td>\n",
       "      <td>Thermacell MR150 Portable Mosquito Repeller</td>\n",
       "      <td>Thermacell</td>\n",
       "      <td>Amazon Home</td>\n",
       "      <td>3.05</td>\n",
       "      <td>B000068XMM</td>\n",
       "      <td>5</td>\n",
       "      <td>True</td>\n",
       "      <td>2013-08-23</td>\n",
       "      <td>A28L1K6L57ATYT</td>\n",
       "      <td>Kindle Customer</td>\n",
       "      <td>Great for ballgames and all outdoor activities...</td>\n",
       "      <td>Great little machine</td>\n",
       "      <td>1377216000</td>\n",
       "    </tr>\n",
       "    <tr>\n",
       "      <th>199804</th>\n",
       "      <td>[Patio, Lawn &amp; Garden, Pest Control, Repellents]</td>\n",
       "      <td>Thermacell MR150 Portable Mosquito Repeller</td>\n",
       "      <td>Thermacell</td>\n",
       "      <td>Amazon Home</td>\n",
       "      <td>3.05</td>\n",
       "      <td>B000068XMM</td>\n",
       "      <td>2</td>\n",
       "      <td>True</td>\n",
       "      <td>2013-08-23</td>\n",
       "      <td>A3LUJFBABNZCT</td>\n",
       "      <td>LYNN MARIE</td>\n",
       "      <td>Tried to send it back but since it's a dangero...</td>\n",
       "      <td>Too complex and dangerous</td>\n",
       "      <td>1377216000</td>\n",
       "    </tr>\n",
       "    <tr>\n",
       "      <th>199805</th>\n",
       "      <td>[Patio, Lawn &amp; Garden, Pest Control, Repellents]</td>\n",
       "      <td>Thermacell MR150 Portable Mosquito Repeller</td>\n",
       "      <td>Thermacell</td>\n",
       "      <td>Amazon Home</td>\n",
       "      <td>3.05</td>\n",
       "      <td>B000068XMM</td>\n",
       "      <td>4</td>\n",
       "      <td>True</td>\n",
       "      <td>2013-08-22</td>\n",
       "      <td>A3VQ4T0N4V094D</td>\n",
       "      <td>K. L. Williams</td>\n",
       "      <td>Its just confusing when to know the canister i...</td>\n",
       "      <td>It seems to work</td>\n",
       "      <td>1377129600</td>\n",
       "    </tr>\n",
       "    <tr>\n",
       "      <th>199806</th>\n",
       "      <td>[Patio, Lawn &amp; Garden, Pest Control, Repellents]</td>\n",
       "      <td>Thermacell MR150 Portable Mosquito Repeller</td>\n",
       "      <td>Thermacell</td>\n",
       "      <td>Amazon Home</td>\n",
       "      <td>3.05</td>\n",
       "      <td>B000068XMM</td>\n",
       "      <td>4</td>\n",
       "      <td>True</td>\n",
       "      <td>2013-08-22</td>\n",
       "      <td>A3JDEA2I31CSKP</td>\n",
       "      <td>Iukie</td>\n",
       "      <td>The system seems to work very well it keeps bu...</td>\n",
       "      <td>Nice product</td>\n",
       "      <td>1377129600</td>\n",
       "    </tr>\n",
       "  </tbody>\n",
       "</table>\n",
       "<p>199719 rows × 14 columns</p>\n",
       "</div>"
      ],
      "text/plain": [
       "                                                 category  \\\n",
       "0       [Patio, Lawn & Garden, Pest Control, Bug Zappers]   \n",
       "1       [Patio, Lawn & Garden, Pest Control, Bug Zappers]   \n",
       "2       [Patio, Lawn & Garden, Pest Control, Bug Zappers]   \n",
       "3       [Patio, Lawn & Garden, Pest Control, Bug Zappers]   \n",
       "4       [Patio, Lawn & Garden, Pest Control, Bug Zappers]   \n",
       "...                                                   ...   \n",
       "199802   [Patio, Lawn & Garden, Pest Control, Repellents]   \n",
       "199803   [Patio, Lawn & Garden, Pest Control, Repellents]   \n",
       "199804   [Patio, Lawn & Garden, Pest Control, Repellents]   \n",
       "199805   [Patio, Lawn & Garden, Pest Control, Repellents]   \n",
       "199806   [Patio, Lawn & Garden, Pest Control, Repellents]   \n",
       "\n",
       "                                              title  \\\n",
       "0                                      Johnson Road   \n",
       "1                                      Johnson Road   \n",
       "2                                      Johnson Road   \n",
       "3                                      Johnson Road   \n",
       "4                                      Johnson Road   \n",
       "...                                             ...   \n",
       "199802  Thermacell MR150 Portable Mosquito Repeller   \n",
       "199803  Thermacell MR150 Portable Mosquito Repeller   \n",
       "199804  Thermacell MR150 Portable Mosquito Repeller   \n",
       "199805  Thermacell MR150 Portable Mosquito Repeller   \n",
       "199806  Thermacell MR150 Portable Mosquito Repeller   \n",
       "\n",
       "                                        brand     main_cat price        asin  \\\n",
       "0       Visit Amazon's Clayton E Spriggs Page        Books        0986121126   \n",
       "1       Visit Amazon's Clayton E Spriggs Page        Books        0986121126   \n",
       "2       Visit Amazon's Clayton E Spriggs Page        Books        0986121126   \n",
       "3       Visit Amazon's Clayton E Spriggs Page        Books        0986121126   \n",
       "4       Visit Amazon's Clayton E Spriggs Page        Books        0986121126   \n",
       "...                                       ...          ...   ...         ...   \n",
       "199802                             Thermacell  Amazon Home  3.05  B000068XMM   \n",
       "199803                             Thermacell  Amazon Home  3.05  B000068XMM   \n",
       "199804                             Thermacell  Amazon Home  3.05  B000068XMM   \n",
       "199805                             Thermacell  Amazon Home  3.05  B000068XMM   \n",
       "199806                             Thermacell  Amazon Home  3.05  B000068XMM   \n",
       "\n",
       "        overall  verified reviewTime      reviewerID      reviewerName  \\\n",
       "0             5      True 2015-05-30  A1SP1855LVHRVS    Genevieve Luke   \n",
       "1             5      True 2015-05-08   AOAIHJZU5XMMH            Lisa H   \n",
       "2             4      True 2016-11-28  A2Z9J0DD7PX7D3        NanaWillow   \n",
       "3             4     False 2016-11-23  A2FT1DZIV8CVOT       Dave Carver   \n",
       "4             4      True 2016-11-19  A1HYKFP21Y02V4               JEC   \n",
       "...         ...       ...        ...             ...               ...   \n",
       "199802        5      True 2013-08-23  A37E1Q63V1ITDE  robert t willard   \n",
       "199803        5      True 2013-08-23  A28L1K6L57ATYT   Kindle Customer   \n",
       "199804        2      True 2013-08-23   A3LUJFBABNZCT        LYNN MARIE   \n",
       "199805        4      True 2013-08-22  A3VQ4T0N4V094D    K. L. Williams   \n",
       "199806        4      True 2013-08-22  A3JDEA2I31CSKP             Iukie   \n",
       "\n",
       "                                               reviewText  \\\n",
       "0                                   WOW, VERY GOOD STORY.   \n",
       "1       Great First Novel!  Mr. Spriggs is a very tale...   \n",
       "2       I was having trouble trying to put into words ...   \n",
       "3       A consistent theme in this book is the detecti...   \n",
       "4       Keeps you just a little off balance, while rea...   \n",
       "...                                                   ...   \n",
       "199802  I have used it in my back yard and in the wood...   \n",
       "199803  Great for ballgames and all outdoor activities...   \n",
       "199804  Tried to send it back but since it's a dangero...   \n",
       "199805  Its just confusing when to know the canister i...   \n",
       "199806  The system seems to work very well it keeps bu...   \n",
       "\n",
       "                                                summary  unixReviewTime  \n",
       "0                                      VERY GOOD STORY.      1432944000  \n",
       "1          Won't stop, can't stop, until the last page!      1431043200  \n",
       "2                                  A good read for some      1480291200  \n",
       "3       Routine, Mundane and difficult to stop reading.      1479859200  \n",
       "4                                      Keeps you hooked      1479513600  \n",
       "...                                                 ...             ...  \n",
       "199802                                    Great product      1377216000  \n",
       "199803                             Great little machine      1377216000  \n",
       "199804                        Too complex and dangerous      1377216000  \n",
       "199805                                 It seems to work      1377129600  \n",
       "199806                                     Nice product      1377129600  \n",
       "\n",
       "[199719 rows x 14 columns]"
      ]
     },
     "execution_count": 76,
     "metadata": {},
     "output_type": "execute_result"
    }
   ],
   "source": [
    "merge_data"
   ]
  },
  {
   "cell_type": "code",
   "execution_count": 77,
   "id": "13ddf5d1",
   "metadata": {},
   "outputs": [
    {
     "data": {
      "text/plain": [
       "(199719, 14)"
      ]
     },
     "execution_count": 77,
     "metadata": {},
     "output_type": "execute_result"
    }
   ],
   "source": [
    "merge_data.shape"
   ]
  },
  {
   "cell_type": "code",
   "execution_count": 78,
   "id": "9f295cee",
   "metadata": {},
   "outputs": [],
   "source": [
    "# chage data type"
   ]
  },
  {
   "cell_type": "code",
   "execution_count": 79,
   "id": "361d8a52",
   "metadata": {},
   "outputs": [],
   "source": [
    "merge_data['price']=merge_data['price'].apply(pd.to_numeric,errors = 'coerce')\n",
    "\n",
    "# If ‘coerce’, then invalid coulmn will be set as nan values"
   ]
  },
  {
   "cell_type": "code",
   "execution_count": 80,
   "id": "30b81c1a",
   "metadata": {},
   "outputs": [
    {
     "data": {
      "text/html": [
       "<div>\n",
       "<style scoped>\n",
       "    .dataframe tbody tr th:only-of-type {\n",
       "        vertical-align: middle;\n",
       "    }\n",
       "\n",
       "    .dataframe tbody tr th {\n",
       "        vertical-align: top;\n",
       "    }\n",
       "\n",
       "    .dataframe thead th {\n",
       "        text-align: right;\n",
       "    }\n",
       "</style>\n",
       "<table border=\"1\" class=\"dataframe\">\n",
       "  <thead>\n",
       "    <tr style=\"text-align: right;\">\n",
       "      <th></th>\n",
       "      <th>category</th>\n",
       "      <th>title</th>\n",
       "      <th>brand</th>\n",
       "      <th>main_cat</th>\n",
       "      <th>price</th>\n",
       "      <th>asin</th>\n",
       "      <th>overall</th>\n",
       "      <th>verified</th>\n",
       "      <th>reviewTime</th>\n",
       "      <th>reviewerID</th>\n",
       "      <th>reviewerName</th>\n",
       "      <th>reviewText</th>\n",
       "      <th>summary</th>\n",
       "      <th>unixReviewTime</th>\n",
       "    </tr>\n",
       "  </thead>\n",
       "  <tbody>\n",
       "    <tr>\n",
       "      <th>0</th>\n",
       "      <td>[Patio, Lawn &amp; Garden, Pest Control, Bug Zappers]</td>\n",
       "      <td>Johnson Road</td>\n",
       "      <td>Visit Amazon's Clayton E Spriggs Page</td>\n",
       "      <td>Books</td>\n",
       "      <td>NaN</td>\n",
       "      <td>0986121126</td>\n",
       "      <td>5</td>\n",
       "      <td>True</td>\n",
       "      <td>2015-05-30</td>\n",
       "      <td>A1SP1855LVHRVS</td>\n",
       "      <td>Genevieve Luke</td>\n",
       "      <td>WOW, VERY GOOD STORY.</td>\n",
       "      <td>VERY GOOD STORY.</td>\n",
       "      <td>1432944000</td>\n",
       "    </tr>\n",
       "    <tr>\n",
       "      <th>1</th>\n",
       "      <td>[Patio, Lawn &amp; Garden, Pest Control, Bug Zappers]</td>\n",
       "      <td>Johnson Road</td>\n",
       "      <td>Visit Amazon's Clayton E Spriggs Page</td>\n",
       "      <td>Books</td>\n",
       "      <td>NaN</td>\n",
       "      <td>0986121126</td>\n",
       "      <td>5</td>\n",
       "      <td>True</td>\n",
       "      <td>2015-05-08</td>\n",
       "      <td>AOAIHJZU5XMMH</td>\n",
       "      <td>Lisa H</td>\n",
       "      <td>Great First Novel!  Mr. Spriggs is a very tale...</td>\n",
       "      <td>Won't stop, can't stop, until the last page!</td>\n",
       "      <td>1431043200</td>\n",
       "    </tr>\n",
       "    <tr>\n",
       "      <th>2</th>\n",
       "      <td>[Patio, Lawn &amp; Garden, Pest Control, Bug Zappers]</td>\n",
       "      <td>Johnson Road</td>\n",
       "      <td>Visit Amazon's Clayton E Spriggs Page</td>\n",
       "      <td>Books</td>\n",
       "      <td>NaN</td>\n",
       "      <td>0986121126</td>\n",
       "      <td>4</td>\n",
       "      <td>True</td>\n",
       "      <td>2016-11-28</td>\n",
       "      <td>A2Z9J0DD7PX7D3</td>\n",
       "      <td>NanaWillow</td>\n",
       "      <td>I was having trouble trying to put into words ...</td>\n",
       "      <td>A good read for some</td>\n",
       "      <td>1480291200</td>\n",
       "    </tr>\n",
       "    <tr>\n",
       "      <th>3</th>\n",
       "      <td>[Patio, Lawn &amp; Garden, Pest Control, Bug Zappers]</td>\n",
       "      <td>Johnson Road</td>\n",
       "      <td>Visit Amazon's Clayton E Spriggs Page</td>\n",
       "      <td>Books</td>\n",
       "      <td>NaN</td>\n",
       "      <td>0986121126</td>\n",
       "      <td>4</td>\n",
       "      <td>False</td>\n",
       "      <td>2016-11-23</td>\n",
       "      <td>A2FT1DZIV8CVOT</td>\n",
       "      <td>Dave Carver</td>\n",
       "      <td>A consistent theme in this book is the detecti...</td>\n",
       "      <td>Routine, Mundane and difficult to stop reading.</td>\n",
       "      <td>1479859200</td>\n",
       "    </tr>\n",
       "    <tr>\n",
       "      <th>4</th>\n",
       "      <td>[Patio, Lawn &amp; Garden, Pest Control, Bug Zappers]</td>\n",
       "      <td>Johnson Road</td>\n",
       "      <td>Visit Amazon's Clayton E Spriggs Page</td>\n",
       "      <td>Books</td>\n",
       "      <td>NaN</td>\n",
       "      <td>0986121126</td>\n",
       "      <td>4</td>\n",
       "      <td>True</td>\n",
       "      <td>2016-11-19</td>\n",
       "      <td>A1HYKFP21Y02V4</td>\n",
       "      <td>JEC</td>\n",
       "      <td>Keeps you just a little off balance, while rea...</td>\n",
       "      <td>Keeps you hooked</td>\n",
       "      <td>1479513600</td>\n",
       "    </tr>\n",
       "    <tr>\n",
       "      <th>...</th>\n",
       "      <td>...</td>\n",
       "      <td>...</td>\n",
       "      <td>...</td>\n",
       "      <td>...</td>\n",
       "      <td>...</td>\n",
       "      <td>...</td>\n",
       "      <td>...</td>\n",
       "      <td>...</td>\n",
       "      <td>...</td>\n",
       "      <td>...</td>\n",
       "      <td>...</td>\n",
       "      <td>...</td>\n",
       "      <td>...</td>\n",
       "      <td>...</td>\n",
       "    </tr>\n",
       "    <tr>\n",
       "      <th>199802</th>\n",
       "      <td>[Patio, Lawn &amp; Garden, Pest Control, Repellents]</td>\n",
       "      <td>Thermacell MR150 Portable Mosquito Repeller</td>\n",
       "      <td>Thermacell</td>\n",
       "      <td>Amazon Home</td>\n",
       "      <td>3.05</td>\n",
       "      <td>B000068XMM</td>\n",
       "      <td>5</td>\n",
       "      <td>True</td>\n",
       "      <td>2013-08-23</td>\n",
       "      <td>A37E1Q63V1ITDE</td>\n",
       "      <td>robert t willard</td>\n",
       "      <td>I have used it in my back yard and in the wood...</td>\n",
       "      <td>Great product</td>\n",
       "      <td>1377216000</td>\n",
       "    </tr>\n",
       "    <tr>\n",
       "      <th>199803</th>\n",
       "      <td>[Patio, Lawn &amp; Garden, Pest Control, Repellents]</td>\n",
       "      <td>Thermacell MR150 Portable Mosquito Repeller</td>\n",
       "      <td>Thermacell</td>\n",
       "      <td>Amazon Home</td>\n",
       "      <td>3.05</td>\n",
       "      <td>B000068XMM</td>\n",
       "      <td>5</td>\n",
       "      <td>True</td>\n",
       "      <td>2013-08-23</td>\n",
       "      <td>A28L1K6L57ATYT</td>\n",
       "      <td>Kindle Customer</td>\n",
       "      <td>Great for ballgames and all outdoor activities...</td>\n",
       "      <td>Great little machine</td>\n",
       "      <td>1377216000</td>\n",
       "    </tr>\n",
       "    <tr>\n",
       "      <th>199804</th>\n",
       "      <td>[Patio, Lawn &amp; Garden, Pest Control, Repellents]</td>\n",
       "      <td>Thermacell MR150 Portable Mosquito Repeller</td>\n",
       "      <td>Thermacell</td>\n",
       "      <td>Amazon Home</td>\n",
       "      <td>3.05</td>\n",
       "      <td>B000068XMM</td>\n",
       "      <td>2</td>\n",
       "      <td>True</td>\n",
       "      <td>2013-08-23</td>\n",
       "      <td>A3LUJFBABNZCT</td>\n",
       "      <td>LYNN MARIE</td>\n",
       "      <td>Tried to send it back but since it's a dangero...</td>\n",
       "      <td>Too complex and dangerous</td>\n",
       "      <td>1377216000</td>\n",
       "    </tr>\n",
       "    <tr>\n",
       "      <th>199805</th>\n",
       "      <td>[Patio, Lawn &amp; Garden, Pest Control, Repellents]</td>\n",
       "      <td>Thermacell MR150 Portable Mosquito Repeller</td>\n",
       "      <td>Thermacell</td>\n",
       "      <td>Amazon Home</td>\n",
       "      <td>3.05</td>\n",
       "      <td>B000068XMM</td>\n",
       "      <td>4</td>\n",
       "      <td>True</td>\n",
       "      <td>2013-08-22</td>\n",
       "      <td>A3VQ4T0N4V094D</td>\n",
       "      <td>K. L. Williams</td>\n",
       "      <td>Its just confusing when to know the canister i...</td>\n",
       "      <td>It seems to work</td>\n",
       "      <td>1377129600</td>\n",
       "    </tr>\n",
       "    <tr>\n",
       "      <th>199806</th>\n",
       "      <td>[Patio, Lawn &amp; Garden, Pest Control, Repellents]</td>\n",
       "      <td>Thermacell MR150 Portable Mosquito Repeller</td>\n",
       "      <td>Thermacell</td>\n",
       "      <td>Amazon Home</td>\n",
       "      <td>3.05</td>\n",
       "      <td>B000068XMM</td>\n",
       "      <td>4</td>\n",
       "      <td>True</td>\n",
       "      <td>2013-08-22</td>\n",
       "      <td>A3JDEA2I31CSKP</td>\n",
       "      <td>Iukie</td>\n",
       "      <td>The system seems to work very well it keeps bu...</td>\n",
       "      <td>Nice product</td>\n",
       "      <td>1377129600</td>\n",
       "    </tr>\n",
       "  </tbody>\n",
       "</table>\n",
       "<p>199719 rows × 14 columns</p>\n",
       "</div>"
      ],
      "text/plain": [
       "                                                 category  \\\n",
       "0       [Patio, Lawn & Garden, Pest Control, Bug Zappers]   \n",
       "1       [Patio, Lawn & Garden, Pest Control, Bug Zappers]   \n",
       "2       [Patio, Lawn & Garden, Pest Control, Bug Zappers]   \n",
       "3       [Patio, Lawn & Garden, Pest Control, Bug Zappers]   \n",
       "4       [Patio, Lawn & Garden, Pest Control, Bug Zappers]   \n",
       "...                                                   ...   \n",
       "199802   [Patio, Lawn & Garden, Pest Control, Repellents]   \n",
       "199803   [Patio, Lawn & Garden, Pest Control, Repellents]   \n",
       "199804   [Patio, Lawn & Garden, Pest Control, Repellents]   \n",
       "199805   [Patio, Lawn & Garden, Pest Control, Repellents]   \n",
       "199806   [Patio, Lawn & Garden, Pest Control, Repellents]   \n",
       "\n",
       "                                              title  \\\n",
       "0                                      Johnson Road   \n",
       "1                                      Johnson Road   \n",
       "2                                      Johnson Road   \n",
       "3                                      Johnson Road   \n",
       "4                                      Johnson Road   \n",
       "...                                             ...   \n",
       "199802  Thermacell MR150 Portable Mosquito Repeller   \n",
       "199803  Thermacell MR150 Portable Mosquito Repeller   \n",
       "199804  Thermacell MR150 Portable Mosquito Repeller   \n",
       "199805  Thermacell MR150 Portable Mosquito Repeller   \n",
       "199806  Thermacell MR150 Portable Mosquito Repeller   \n",
       "\n",
       "                                        brand     main_cat  price        asin  \\\n",
       "0       Visit Amazon's Clayton E Spriggs Page        Books    NaN  0986121126   \n",
       "1       Visit Amazon's Clayton E Spriggs Page        Books    NaN  0986121126   \n",
       "2       Visit Amazon's Clayton E Spriggs Page        Books    NaN  0986121126   \n",
       "3       Visit Amazon's Clayton E Spriggs Page        Books    NaN  0986121126   \n",
       "4       Visit Amazon's Clayton E Spriggs Page        Books    NaN  0986121126   \n",
       "...                                       ...          ...    ...         ...   \n",
       "199802                             Thermacell  Amazon Home   3.05  B000068XMM   \n",
       "199803                             Thermacell  Amazon Home   3.05  B000068XMM   \n",
       "199804                             Thermacell  Amazon Home   3.05  B000068XMM   \n",
       "199805                             Thermacell  Amazon Home   3.05  B000068XMM   \n",
       "199806                             Thermacell  Amazon Home   3.05  B000068XMM   \n",
       "\n",
       "        overall  verified reviewTime      reviewerID      reviewerName  \\\n",
       "0             5      True 2015-05-30  A1SP1855LVHRVS    Genevieve Luke   \n",
       "1             5      True 2015-05-08   AOAIHJZU5XMMH            Lisa H   \n",
       "2             4      True 2016-11-28  A2Z9J0DD7PX7D3        NanaWillow   \n",
       "3             4     False 2016-11-23  A2FT1DZIV8CVOT       Dave Carver   \n",
       "4             4      True 2016-11-19  A1HYKFP21Y02V4               JEC   \n",
       "...         ...       ...        ...             ...               ...   \n",
       "199802        5      True 2013-08-23  A37E1Q63V1ITDE  robert t willard   \n",
       "199803        5      True 2013-08-23  A28L1K6L57ATYT   Kindle Customer   \n",
       "199804        2      True 2013-08-23   A3LUJFBABNZCT        LYNN MARIE   \n",
       "199805        4      True 2013-08-22  A3VQ4T0N4V094D    K. L. Williams   \n",
       "199806        4      True 2013-08-22  A3JDEA2I31CSKP             Iukie   \n",
       "\n",
       "                                               reviewText  \\\n",
       "0                                   WOW, VERY GOOD STORY.   \n",
       "1       Great First Novel!  Mr. Spriggs is a very tale...   \n",
       "2       I was having trouble trying to put into words ...   \n",
       "3       A consistent theme in this book is the detecti...   \n",
       "4       Keeps you just a little off balance, while rea...   \n",
       "...                                                   ...   \n",
       "199802  I have used it in my back yard and in the wood...   \n",
       "199803  Great for ballgames and all outdoor activities...   \n",
       "199804  Tried to send it back but since it's a dangero...   \n",
       "199805  Its just confusing when to know the canister i...   \n",
       "199806  The system seems to work very well it keeps bu...   \n",
       "\n",
       "                                                summary  unixReviewTime  \n",
       "0                                      VERY GOOD STORY.      1432944000  \n",
       "1          Won't stop, can't stop, until the last page!      1431043200  \n",
       "2                                  A good read for some      1480291200  \n",
       "3       Routine, Mundane and difficult to stop reading.      1479859200  \n",
       "4                                      Keeps you hooked      1479513600  \n",
       "...                                                 ...             ...  \n",
       "199802                                    Great product      1377216000  \n",
       "199803                             Great little machine      1377216000  \n",
       "199804                        Too complex and dangerous      1377216000  \n",
       "199805                                 It seems to work      1377129600  \n",
       "199806                                     Nice product      1377129600  \n",
       "\n",
       "[199719 rows x 14 columns]"
      ]
     },
     "execution_count": 80,
     "metadata": {},
     "output_type": "execute_result"
    }
   ],
   "source": [
    "merge_data"
   ]
  },
  {
   "cell_type": "code",
   "execution_count": 81,
   "id": "8777cad5",
   "metadata": {},
   "outputs": [
    {
     "data": {
      "text/plain": [
       "category              0\n",
       "title                 0\n",
       "brand                 0\n",
       "main_cat              0\n",
       "price             22814\n",
       "asin                  0\n",
       "overall               0\n",
       "verified              0\n",
       "reviewTime            0\n",
       "reviewerID            0\n",
       "reviewerName          0\n",
       "reviewText            0\n",
       "summary               0\n",
       "unixReviewTime        0\n",
       "dtype: int64"
      ]
     },
     "execution_count": 81,
     "metadata": {},
     "output_type": "execute_result"
    }
   ],
   "source": [
    "merge_data.isnull().sum()"
   ]
  },
  {
   "cell_type": "code",
   "execution_count": 82,
   "id": "be80c06e",
   "metadata": {},
   "outputs": [],
   "source": [
    "#convrt nan value to 0"
   ]
  },
  {
   "cell_type": "code",
   "execution_count": 83,
   "id": "b222c104",
   "metadata": {},
   "outputs": [
    {
     "data": {
      "text/html": [
       "<div>\n",
       "<style scoped>\n",
       "    .dataframe tbody tr th:only-of-type {\n",
       "        vertical-align: middle;\n",
       "    }\n",
       "\n",
       "    .dataframe tbody tr th {\n",
       "        vertical-align: top;\n",
       "    }\n",
       "\n",
       "    .dataframe thead th {\n",
       "        text-align: right;\n",
       "    }\n",
       "</style>\n",
       "<table border=\"1\" class=\"dataframe\">\n",
       "  <thead>\n",
       "    <tr style=\"text-align: right;\">\n",
       "      <th></th>\n",
       "      <th>category</th>\n",
       "      <th>title</th>\n",
       "      <th>brand</th>\n",
       "      <th>main_cat</th>\n",
       "      <th>price</th>\n",
       "      <th>asin</th>\n",
       "      <th>overall</th>\n",
       "      <th>verified</th>\n",
       "      <th>reviewTime</th>\n",
       "      <th>reviewerID</th>\n",
       "      <th>reviewerName</th>\n",
       "      <th>reviewText</th>\n",
       "      <th>summary</th>\n",
       "      <th>unixReviewTime</th>\n",
       "    </tr>\n",
       "  </thead>\n",
       "  <tbody>\n",
       "    <tr>\n",
       "      <th>0</th>\n",
       "      <td>[Patio, Lawn &amp; Garden, Pest Control, Bug Zappers]</td>\n",
       "      <td>Johnson Road</td>\n",
       "      <td>Visit Amazon's Clayton E Spriggs Page</td>\n",
       "      <td>Books</td>\n",
       "      <td>0.00</td>\n",
       "      <td>0986121126</td>\n",
       "      <td>5</td>\n",
       "      <td>True</td>\n",
       "      <td>2015-05-30</td>\n",
       "      <td>A1SP1855LVHRVS</td>\n",
       "      <td>Genevieve Luke</td>\n",
       "      <td>WOW, VERY GOOD STORY.</td>\n",
       "      <td>VERY GOOD STORY.</td>\n",
       "      <td>1432944000</td>\n",
       "    </tr>\n",
       "    <tr>\n",
       "      <th>1</th>\n",
       "      <td>[Patio, Lawn &amp; Garden, Pest Control, Bug Zappers]</td>\n",
       "      <td>Johnson Road</td>\n",
       "      <td>Visit Amazon's Clayton E Spriggs Page</td>\n",
       "      <td>Books</td>\n",
       "      <td>0.00</td>\n",
       "      <td>0986121126</td>\n",
       "      <td>5</td>\n",
       "      <td>True</td>\n",
       "      <td>2015-05-08</td>\n",
       "      <td>AOAIHJZU5XMMH</td>\n",
       "      <td>Lisa H</td>\n",
       "      <td>Great First Novel!  Mr. Spriggs is a very tale...</td>\n",
       "      <td>Won't stop, can't stop, until the last page!</td>\n",
       "      <td>1431043200</td>\n",
       "    </tr>\n",
       "    <tr>\n",
       "      <th>2</th>\n",
       "      <td>[Patio, Lawn &amp; Garden, Pest Control, Bug Zappers]</td>\n",
       "      <td>Johnson Road</td>\n",
       "      <td>Visit Amazon's Clayton E Spriggs Page</td>\n",
       "      <td>Books</td>\n",
       "      <td>0.00</td>\n",
       "      <td>0986121126</td>\n",
       "      <td>4</td>\n",
       "      <td>True</td>\n",
       "      <td>2016-11-28</td>\n",
       "      <td>A2Z9J0DD7PX7D3</td>\n",
       "      <td>NanaWillow</td>\n",
       "      <td>I was having trouble trying to put into words ...</td>\n",
       "      <td>A good read for some</td>\n",
       "      <td>1480291200</td>\n",
       "    </tr>\n",
       "    <tr>\n",
       "      <th>3</th>\n",
       "      <td>[Patio, Lawn &amp; Garden, Pest Control, Bug Zappers]</td>\n",
       "      <td>Johnson Road</td>\n",
       "      <td>Visit Amazon's Clayton E Spriggs Page</td>\n",
       "      <td>Books</td>\n",
       "      <td>0.00</td>\n",
       "      <td>0986121126</td>\n",
       "      <td>4</td>\n",
       "      <td>False</td>\n",
       "      <td>2016-11-23</td>\n",
       "      <td>A2FT1DZIV8CVOT</td>\n",
       "      <td>Dave Carver</td>\n",
       "      <td>A consistent theme in this book is the detecti...</td>\n",
       "      <td>Routine, Mundane and difficult to stop reading.</td>\n",
       "      <td>1479859200</td>\n",
       "    </tr>\n",
       "    <tr>\n",
       "      <th>4</th>\n",
       "      <td>[Patio, Lawn &amp; Garden, Pest Control, Bug Zappers]</td>\n",
       "      <td>Johnson Road</td>\n",
       "      <td>Visit Amazon's Clayton E Spriggs Page</td>\n",
       "      <td>Books</td>\n",
       "      <td>0.00</td>\n",
       "      <td>0986121126</td>\n",
       "      <td>4</td>\n",
       "      <td>True</td>\n",
       "      <td>2016-11-19</td>\n",
       "      <td>A1HYKFP21Y02V4</td>\n",
       "      <td>JEC</td>\n",
       "      <td>Keeps you just a little off balance, while rea...</td>\n",
       "      <td>Keeps you hooked</td>\n",
       "      <td>1479513600</td>\n",
       "    </tr>\n",
       "    <tr>\n",
       "      <th>...</th>\n",
       "      <td>...</td>\n",
       "      <td>...</td>\n",
       "      <td>...</td>\n",
       "      <td>...</td>\n",
       "      <td>...</td>\n",
       "      <td>...</td>\n",
       "      <td>...</td>\n",
       "      <td>...</td>\n",
       "      <td>...</td>\n",
       "      <td>...</td>\n",
       "      <td>...</td>\n",
       "      <td>...</td>\n",
       "      <td>...</td>\n",
       "      <td>...</td>\n",
       "    </tr>\n",
       "    <tr>\n",
       "      <th>199802</th>\n",
       "      <td>[Patio, Lawn &amp; Garden, Pest Control, Repellents]</td>\n",
       "      <td>Thermacell MR150 Portable Mosquito Repeller</td>\n",
       "      <td>Thermacell</td>\n",
       "      <td>Amazon Home</td>\n",
       "      <td>3.05</td>\n",
       "      <td>B000068XMM</td>\n",
       "      <td>5</td>\n",
       "      <td>True</td>\n",
       "      <td>2013-08-23</td>\n",
       "      <td>A37E1Q63V1ITDE</td>\n",
       "      <td>robert t willard</td>\n",
       "      <td>I have used it in my back yard and in the wood...</td>\n",
       "      <td>Great product</td>\n",
       "      <td>1377216000</td>\n",
       "    </tr>\n",
       "    <tr>\n",
       "      <th>199803</th>\n",
       "      <td>[Patio, Lawn &amp; Garden, Pest Control, Repellents]</td>\n",
       "      <td>Thermacell MR150 Portable Mosquito Repeller</td>\n",
       "      <td>Thermacell</td>\n",
       "      <td>Amazon Home</td>\n",
       "      <td>3.05</td>\n",
       "      <td>B000068XMM</td>\n",
       "      <td>5</td>\n",
       "      <td>True</td>\n",
       "      <td>2013-08-23</td>\n",
       "      <td>A28L1K6L57ATYT</td>\n",
       "      <td>Kindle Customer</td>\n",
       "      <td>Great for ballgames and all outdoor activities...</td>\n",
       "      <td>Great little machine</td>\n",
       "      <td>1377216000</td>\n",
       "    </tr>\n",
       "    <tr>\n",
       "      <th>199804</th>\n",
       "      <td>[Patio, Lawn &amp; Garden, Pest Control, Repellents]</td>\n",
       "      <td>Thermacell MR150 Portable Mosquito Repeller</td>\n",
       "      <td>Thermacell</td>\n",
       "      <td>Amazon Home</td>\n",
       "      <td>3.05</td>\n",
       "      <td>B000068XMM</td>\n",
       "      <td>2</td>\n",
       "      <td>True</td>\n",
       "      <td>2013-08-23</td>\n",
       "      <td>A3LUJFBABNZCT</td>\n",
       "      <td>LYNN MARIE</td>\n",
       "      <td>Tried to send it back but since it's a dangero...</td>\n",
       "      <td>Too complex and dangerous</td>\n",
       "      <td>1377216000</td>\n",
       "    </tr>\n",
       "    <tr>\n",
       "      <th>199805</th>\n",
       "      <td>[Patio, Lawn &amp; Garden, Pest Control, Repellents]</td>\n",
       "      <td>Thermacell MR150 Portable Mosquito Repeller</td>\n",
       "      <td>Thermacell</td>\n",
       "      <td>Amazon Home</td>\n",
       "      <td>3.05</td>\n",
       "      <td>B000068XMM</td>\n",
       "      <td>4</td>\n",
       "      <td>True</td>\n",
       "      <td>2013-08-22</td>\n",
       "      <td>A3VQ4T0N4V094D</td>\n",
       "      <td>K. L. Williams</td>\n",
       "      <td>Its just confusing when to know the canister i...</td>\n",
       "      <td>It seems to work</td>\n",
       "      <td>1377129600</td>\n",
       "    </tr>\n",
       "    <tr>\n",
       "      <th>199806</th>\n",
       "      <td>[Patio, Lawn &amp; Garden, Pest Control, Repellents]</td>\n",
       "      <td>Thermacell MR150 Portable Mosquito Repeller</td>\n",
       "      <td>Thermacell</td>\n",
       "      <td>Amazon Home</td>\n",
       "      <td>3.05</td>\n",
       "      <td>B000068XMM</td>\n",
       "      <td>4</td>\n",
       "      <td>True</td>\n",
       "      <td>2013-08-22</td>\n",
       "      <td>A3JDEA2I31CSKP</td>\n",
       "      <td>Iukie</td>\n",
       "      <td>The system seems to work very well it keeps bu...</td>\n",
       "      <td>Nice product</td>\n",
       "      <td>1377129600</td>\n",
       "    </tr>\n",
       "  </tbody>\n",
       "</table>\n",
       "<p>199719 rows × 14 columns</p>\n",
       "</div>"
      ],
      "text/plain": [
       "                                                 category  \\\n",
       "0       [Patio, Lawn & Garden, Pest Control, Bug Zappers]   \n",
       "1       [Patio, Lawn & Garden, Pest Control, Bug Zappers]   \n",
       "2       [Patio, Lawn & Garden, Pest Control, Bug Zappers]   \n",
       "3       [Patio, Lawn & Garden, Pest Control, Bug Zappers]   \n",
       "4       [Patio, Lawn & Garden, Pest Control, Bug Zappers]   \n",
       "...                                                   ...   \n",
       "199802   [Patio, Lawn & Garden, Pest Control, Repellents]   \n",
       "199803   [Patio, Lawn & Garden, Pest Control, Repellents]   \n",
       "199804   [Patio, Lawn & Garden, Pest Control, Repellents]   \n",
       "199805   [Patio, Lawn & Garden, Pest Control, Repellents]   \n",
       "199806   [Patio, Lawn & Garden, Pest Control, Repellents]   \n",
       "\n",
       "                                              title  \\\n",
       "0                                      Johnson Road   \n",
       "1                                      Johnson Road   \n",
       "2                                      Johnson Road   \n",
       "3                                      Johnson Road   \n",
       "4                                      Johnson Road   \n",
       "...                                             ...   \n",
       "199802  Thermacell MR150 Portable Mosquito Repeller   \n",
       "199803  Thermacell MR150 Portable Mosquito Repeller   \n",
       "199804  Thermacell MR150 Portable Mosquito Repeller   \n",
       "199805  Thermacell MR150 Portable Mosquito Repeller   \n",
       "199806  Thermacell MR150 Portable Mosquito Repeller   \n",
       "\n",
       "                                        brand     main_cat  price        asin  \\\n",
       "0       Visit Amazon's Clayton E Spriggs Page        Books   0.00  0986121126   \n",
       "1       Visit Amazon's Clayton E Spriggs Page        Books   0.00  0986121126   \n",
       "2       Visit Amazon's Clayton E Spriggs Page        Books   0.00  0986121126   \n",
       "3       Visit Amazon's Clayton E Spriggs Page        Books   0.00  0986121126   \n",
       "4       Visit Amazon's Clayton E Spriggs Page        Books   0.00  0986121126   \n",
       "...                                       ...          ...    ...         ...   \n",
       "199802                             Thermacell  Amazon Home   3.05  B000068XMM   \n",
       "199803                             Thermacell  Amazon Home   3.05  B000068XMM   \n",
       "199804                             Thermacell  Amazon Home   3.05  B000068XMM   \n",
       "199805                             Thermacell  Amazon Home   3.05  B000068XMM   \n",
       "199806                             Thermacell  Amazon Home   3.05  B000068XMM   \n",
       "\n",
       "        overall  verified reviewTime      reviewerID      reviewerName  \\\n",
       "0             5      True 2015-05-30  A1SP1855LVHRVS    Genevieve Luke   \n",
       "1             5      True 2015-05-08   AOAIHJZU5XMMH            Lisa H   \n",
       "2             4      True 2016-11-28  A2Z9J0DD7PX7D3        NanaWillow   \n",
       "3             4     False 2016-11-23  A2FT1DZIV8CVOT       Dave Carver   \n",
       "4             4      True 2016-11-19  A1HYKFP21Y02V4               JEC   \n",
       "...         ...       ...        ...             ...               ...   \n",
       "199802        5      True 2013-08-23  A37E1Q63V1ITDE  robert t willard   \n",
       "199803        5      True 2013-08-23  A28L1K6L57ATYT   Kindle Customer   \n",
       "199804        2      True 2013-08-23   A3LUJFBABNZCT        LYNN MARIE   \n",
       "199805        4      True 2013-08-22  A3VQ4T0N4V094D    K. L. Williams   \n",
       "199806        4      True 2013-08-22  A3JDEA2I31CSKP             Iukie   \n",
       "\n",
       "                                               reviewText  \\\n",
       "0                                   WOW, VERY GOOD STORY.   \n",
       "1       Great First Novel!  Mr. Spriggs is a very tale...   \n",
       "2       I was having trouble trying to put into words ...   \n",
       "3       A consistent theme in this book is the detecti...   \n",
       "4       Keeps you just a little off balance, while rea...   \n",
       "...                                                   ...   \n",
       "199802  I have used it in my back yard and in the wood...   \n",
       "199803  Great for ballgames and all outdoor activities...   \n",
       "199804  Tried to send it back but since it's a dangero...   \n",
       "199805  Its just confusing when to know the canister i...   \n",
       "199806  The system seems to work very well it keeps bu...   \n",
       "\n",
       "                                                summary  unixReviewTime  \n",
       "0                                      VERY GOOD STORY.      1432944000  \n",
       "1          Won't stop, can't stop, until the last page!      1431043200  \n",
       "2                                  A good read for some      1480291200  \n",
       "3       Routine, Mundane and difficult to stop reading.      1479859200  \n",
       "4                                      Keeps you hooked      1479513600  \n",
       "...                                                 ...             ...  \n",
       "199802                                    Great product      1377216000  \n",
       "199803                             Great little machine      1377216000  \n",
       "199804                        Too complex and dangerous      1377216000  \n",
       "199805                                 It seems to work      1377129600  \n",
       "199806                                     Nice product      1377129600  \n",
       "\n",
       "[199719 rows x 14 columns]"
      ]
     },
     "execution_count": 83,
     "metadata": {},
     "output_type": "execute_result"
    }
   ],
   "source": [
    "import numpy as np \n",
    "M = merge_data.replace(np. nan,0) \n",
    "M"
   ]
  },
  {
   "cell_type": "code",
   "execution_count": 84,
   "id": "6989d8f4",
   "metadata": {},
   "outputs": [
    {
     "data": {
      "text/plain": [
       "category          0\n",
       "title             0\n",
       "brand             0\n",
       "main_cat          0\n",
       "price             0\n",
       "asin              0\n",
       "overall           0\n",
       "verified          0\n",
       "reviewTime        0\n",
       "reviewerID        0\n",
       "reviewerName      0\n",
       "reviewText        0\n",
       "summary           0\n",
       "unixReviewTime    0\n",
       "dtype: int64"
      ]
     },
     "execution_count": 84,
     "metadata": {},
     "output_type": "execute_result"
    }
   ],
   "source": [
    "M.isnull().sum()"
   ]
  },
  {
   "cell_type": "code",
   "execution_count": 85,
   "id": "261b2527",
   "metadata": {},
   "outputs": [
    {
     "data": {
      "text/html": [
       "<div>\n",
       "<style scoped>\n",
       "    .dataframe tbody tr th:only-of-type {\n",
       "        vertical-align: middle;\n",
       "    }\n",
       "\n",
       "    .dataframe tbody tr th {\n",
       "        vertical-align: top;\n",
       "    }\n",
       "\n",
       "    .dataframe thead th {\n",
       "        text-align: right;\n",
       "    }\n",
       "</style>\n",
       "<table border=\"1\" class=\"dataframe\">\n",
       "  <thead>\n",
       "    <tr style=\"text-align: right;\">\n",
       "      <th></th>\n",
       "      <th>category</th>\n",
       "      <th>title</th>\n",
       "      <th>brand</th>\n",
       "      <th>main_cat</th>\n",
       "      <th>price</th>\n",
       "      <th>asin</th>\n",
       "      <th>overall</th>\n",
       "      <th>verified</th>\n",
       "      <th>reviewTime</th>\n",
       "      <th>reviewerID</th>\n",
       "      <th>reviewerName</th>\n",
       "      <th>reviewText</th>\n",
       "      <th>summary</th>\n",
       "      <th>unixReviewTime</th>\n",
       "    </tr>\n",
       "  </thead>\n",
       "  <tbody>\n",
       "    <tr>\n",
       "      <th>0</th>\n",
       "      <td>[Patio, Lawn &amp; Garden, Pest Control, Bug Zappers]</td>\n",
       "      <td>Johnson Road</td>\n",
       "      <td>Visit Amazon's Clayton E Spriggs Page</td>\n",
       "      <td>Books</td>\n",
       "      <td>0.0</td>\n",
       "      <td>0986121126</td>\n",
       "      <td>5</td>\n",
       "      <td>True</td>\n",
       "      <td>2015-05-30</td>\n",
       "      <td>A1SP1855LVHRVS</td>\n",
       "      <td>Genevieve Luke</td>\n",
       "      <td>WOW, VERY GOOD STORY.</td>\n",
       "      <td>VERY GOOD STORY.</td>\n",
       "      <td>1432944000</td>\n",
       "    </tr>\n",
       "    <tr>\n",
       "      <th>1</th>\n",
       "      <td>[Patio, Lawn &amp; Garden, Pest Control, Bug Zappers]</td>\n",
       "      <td>Johnson Road</td>\n",
       "      <td>Visit Amazon's Clayton E Spriggs Page</td>\n",
       "      <td>Books</td>\n",
       "      <td>0.0</td>\n",
       "      <td>0986121126</td>\n",
       "      <td>5</td>\n",
       "      <td>True</td>\n",
       "      <td>2015-05-08</td>\n",
       "      <td>AOAIHJZU5XMMH</td>\n",
       "      <td>Lisa H</td>\n",
       "      <td>Great First Novel!  Mr. Spriggs is a very tale...</td>\n",
       "      <td>Won't stop, can't stop, until the last page!</td>\n",
       "      <td>1431043200</td>\n",
       "    </tr>\n",
       "    <tr>\n",
       "      <th>2</th>\n",
       "      <td>[Patio, Lawn &amp; Garden, Pest Control, Bug Zappers]</td>\n",
       "      <td>Johnson Road</td>\n",
       "      <td>Visit Amazon's Clayton E Spriggs Page</td>\n",
       "      <td>Books</td>\n",
       "      <td>0.0</td>\n",
       "      <td>0986121126</td>\n",
       "      <td>4</td>\n",
       "      <td>True</td>\n",
       "      <td>2016-11-28</td>\n",
       "      <td>A2Z9J0DD7PX7D3</td>\n",
       "      <td>NanaWillow</td>\n",
       "      <td>I was having trouble trying to put into words ...</td>\n",
       "      <td>A good read for some</td>\n",
       "      <td>1480291200</td>\n",
       "    </tr>\n",
       "  </tbody>\n",
       "</table>\n",
       "</div>"
      ],
      "text/plain": [
       "                                            category         title  \\\n",
       "0  [Patio, Lawn & Garden, Pest Control, Bug Zappers]  Johnson Road   \n",
       "1  [Patio, Lawn & Garden, Pest Control, Bug Zappers]  Johnson Road   \n",
       "2  [Patio, Lawn & Garden, Pest Control, Bug Zappers]  Johnson Road   \n",
       "\n",
       "                                   brand main_cat  price        asin  overall  \\\n",
       "0  Visit Amazon's Clayton E Spriggs Page    Books    0.0  0986121126        5   \n",
       "1  Visit Amazon's Clayton E Spriggs Page    Books    0.0  0986121126        5   \n",
       "2  Visit Amazon's Clayton E Spriggs Page    Books    0.0  0986121126        4   \n",
       "\n",
       "   verified reviewTime      reviewerID    reviewerName  \\\n",
       "0      True 2015-05-30  A1SP1855LVHRVS  Genevieve Luke   \n",
       "1      True 2015-05-08   AOAIHJZU5XMMH          Lisa H   \n",
       "2      True 2016-11-28  A2Z9J0DD7PX7D3      NanaWillow   \n",
       "\n",
       "                                          reviewText  \\\n",
       "0                              WOW, VERY GOOD STORY.   \n",
       "1  Great First Novel!  Mr. Spriggs is a very tale...   \n",
       "2  I was having trouble trying to put into words ...   \n",
       "\n",
       "                                        summary  unixReviewTime  \n",
       "0                              VERY GOOD STORY.      1432944000  \n",
       "1  Won't stop, can't stop, until the last page!      1431043200  \n",
       "2                          A good read for some      1480291200  "
      ]
     },
     "execution_count": 85,
     "metadata": {},
     "output_type": "execute_result"
    }
   ],
   "source": [
    "M.head(3)"
   ]
  },
  {
   "cell_type": "code",
   "execution_count": 86,
   "id": "a6927ed6",
   "metadata": {},
   "outputs": [],
   "source": [
    "#add two column revieww txt and summury"
   ]
  },
  {
   "cell_type": "code",
   "execution_count": 87,
   "id": "5b56728d",
   "metadata": {},
   "outputs": [],
   "source": [
    "M['Review'] = M['reviewText'] + M['summary']"
   ]
  },
  {
   "cell_type": "code",
   "execution_count": 88,
   "id": "a0dfeb98",
   "metadata": {},
   "outputs": [],
   "source": [
    "M = M.drop(['reviewText','summary'], axis=1)"
   ]
  },
  {
   "cell_type": "code",
   "execution_count": 89,
   "id": "57da7ba2",
   "metadata": {},
   "outputs": [
    {
     "data": {
      "text/plain": [
       "(199719, 13)"
      ]
     },
     "execution_count": 89,
     "metadata": {},
     "output_type": "execute_result"
    }
   ],
   "source": [
    "M.shape"
   ]
  },
  {
   "cell_type": "code",
   "execution_count": 90,
   "id": "4764d5e4",
   "metadata": {},
   "outputs": [
    {
     "data": {
      "text/html": [
       "<div>\n",
       "<style scoped>\n",
       "    .dataframe tbody tr th:only-of-type {\n",
       "        vertical-align: middle;\n",
       "    }\n",
       "\n",
       "    .dataframe tbody tr th {\n",
       "        vertical-align: top;\n",
       "    }\n",
       "\n",
       "    .dataframe thead th {\n",
       "        text-align: right;\n",
       "    }\n",
       "</style>\n",
       "<table border=\"1\" class=\"dataframe\">\n",
       "  <thead>\n",
       "    <tr style=\"text-align: right;\">\n",
       "      <th></th>\n",
       "      <th>category</th>\n",
       "      <th>title</th>\n",
       "      <th>brand</th>\n",
       "      <th>main_cat</th>\n",
       "      <th>price</th>\n",
       "      <th>asin</th>\n",
       "      <th>overall</th>\n",
       "      <th>verified</th>\n",
       "      <th>reviewTime</th>\n",
       "      <th>reviewerID</th>\n",
       "      <th>reviewerName</th>\n",
       "      <th>unixReviewTime</th>\n",
       "      <th>Review</th>\n",
       "    </tr>\n",
       "  </thead>\n",
       "  <tbody>\n",
       "    <tr>\n",
       "      <th>0</th>\n",
       "      <td>[Patio, Lawn &amp; Garden, Pest Control, Bug Zappers]</td>\n",
       "      <td>Johnson Road</td>\n",
       "      <td>Visit Amazon's Clayton E Spriggs Page</td>\n",
       "      <td>Books</td>\n",
       "      <td>0.00</td>\n",
       "      <td>0986121126</td>\n",
       "      <td>5</td>\n",
       "      <td>True</td>\n",
       "      <td>2015-05-30</td>\n",
       "      <td>A1SP1855LVHRVS</td>\n",
       "      <td>Genevieve Luke</td>\n",
       "      <td>1432944000</td>\n",
       "      <td>WOW, VERY GOOD STORY.VERY GOOD STORY.</td>\n",
       "    </tr>\n",
       "    <tr>\n",
       "      <th>1</th>\n",
       "      <td>[Patio, Lawn &amp; Garden, Pest Control, Bug Zappers]</td>\n",
       "      <td>Johnson Road</td>\n",
       "      <td>Visit Amazon's Clayton E Spriggs Page</td>\n",
       "      <td>Books</td>\n",
       "      <td>0.00</td>\n",
       "      <td>0986121126</td>\n",
       "      <td>5</td>\n",
       "      <td>True</td>\n",
       "      <td>2015-05-08</td>\n",
       "      <td>AOAIHJZU5XMMH</td>\n",
       "      <td>Lisa H</td>\n",
       "      <td>1431043200</td>\n",
       "      <td>Great First Novel!  Mr. Spriggs is a very tale...</td>\n",
       "    </tr>\n",
       "    <tr>\n",
       "      <th>2</th>\n",
       "      <td>[Patio, Lawn &amp; Garden, Pest Control, Bug Zappers]</td>\n",
       "      <td>Johnson Road</td>\n",
       "      <td>Visit Amazon's Clayton E Spriggs Page</td>\n",
       "      <td>Books</td>\n",
       "      <td>0.00</td>\n",
       "      <td>0986121126</td>\n",
       "      <td>4</td>\n",
       "      <td>True</td>\n",
       "      <td>2016-11-28</td>\n",
       "      <td>A2Z9J0DD7PX7D3</td>\n",
       "      <td>NanaWillow</td>\n",
       "      <td>1480291200</td>\n",
       "      <td>I was having trouble trying to put into words ...</td>\n",
       "    </tr>\n",
       "    <tr>\n",
       "      <th>3</th>\n",
       "      <td>[Patio, Lawn &amp; Garden, Pest Control, Bug Zappers]</td>\n",
       "      <td>Johnson Road</td>\n",
       "      <td>Visit Amazon's Clayton E Spriggs Page</td>\n",
       "      <td>Books</td>\n",
       "      <td>0.00</td>\n",
       "      <td>0986121126</td>\n",
       "      <td>4</td>\n",
       "      <td>False</td>\n",
       "      <td>2016-11-23</td>\n",
       "      <td>A2FT1DZIV8CVOT</td>\n",
       "      <td>Dave Carver</td>\n",
       "      <td>1479859200</td>\n",
       "      <td>A consistent theme in this book is the detecti...</td>\n",
       "    </tr>\n",
       "    <tr>\n",
       "      <th>4</th>\n",
       "      <td>[Patio, Lawn &amp; Garden, Pest Control, Bug Zappers]</td>\n",
       "      <td>Johnson Road</td>\n",
       "      <td>Visit Amazon's Clayton E Spriggs Page</td>\n",
       "      <td>Books</td>\n",
       "      <td>0.00</td>\n",
       "      <td>0986121126</td>\n",
       "      <td>4</td>\n",
       "      <td>True</td>\n",
       "      <td>2016-11-19</td>\n",
       "      <td>A1HYKFP21Y02V4</td>\n",
       "      <td>JEC</td>\n",
       "      <td>1479513600</td>\n",
       "      <td>Keeps you just a little off balance, while rea...</td>\n",
       "    </tr>\n",
       "    <tr>\n",
       "      <th>...</th>\n",
       "      <td>...</td>\n",
       "      <td>...</td>\n",
       "      <td>...</td>\n",
       "      <td>...</td>\n",
       "      <td>...</td>\n",
       "      <td>...</td>\n",
       "      <td>...</td>\n",
       "      <td>...</td>\n",
       "      <td>...</td>\n",
       "      <td>...</td>\n",
       "      <td>...</td>\n",
       "      <td>...</td>\n",
       "      <td>...</td>\n",
       "    </tr>\n",
       "    <tr>\n",
       "      <th>199802</th>\n",
       "      <td>[Patio, Lawn &amp; Garden, Pest Control, Repellents]</td>\n",
       "      <td>Thermacell MR150 Portable Mosquito Repeller</td>\n",
       "      <td>Thermacell</td>\n",
       "      <td>Amazon Home</td>\n",
       "      <td>3.05</td>\n",
       "      <td>B000068XMM</td>\n",
       "      <td>5</td>\n",
       "      <td>True</td>\n",
       "      <td>2013-08-23</td>\n",
       "      <td>A37E1Q63V1ITDE</td>\n",
       "      <td>robert t willard</td>\n",
       "      <td>1377216000</td>\n",
       "      <td>I have used it in my back yard and in the wood...</td>\n",
       "    </tr>\n",
       "    <tr>\n",
       "      <th>199803</th>\n",
       "      <td>[Patio, Lawn &amp; Garden, Pest Control, Repellents]</td>\n",
       "      <td>Thermacell MR150 Portable Mosquito Repeller</td>\n",
       "      <td>Thermacell</td>\n",
       "      <td>Amazon Home</td>\n",
       "      <td>3.05</td>\n",
       "      <td>B000068XMM</td>\n",
       "      <td>5</td>\n",
       "      <td>True</td>\n",
       "      <td>2013-08-23</td>\n",
       "      <td>A28L1K6L57ATYT</td>\n",
       "      <td>Kindle Customer</td>\n",
       "      <td>1377216000</td>\n",
       "      <td>Great for ballgames and all outdoor activities...</td>\n",
       "    </tr>\n",
       "    <tr>\n",
       "      <th>199804</th>\n",
       "      <td>[Patio, Lawn &amp; Garden, Pest Control, Repellents]</td>\n",
       "      <td>Thermacell MR150 Portable Mosquito Repeller</td>\n",
       "      <td>Thermacell</td>\n",
       "      <td>Amazon Home</td>\n",
       "      <td>3.05</td>\n",
       "      <td>B000068XMM</td>\n",
       "      <td>2</td>\n",
       "      <td>True</td>\n",
       "      <td>2013-08-23</td>\n",
       "      <td>A3LUJFBABNZCT</td>\n",
       "      <td>LYNN MARIE</td>\n",
       "      <td>1377216000</td>\n",
       "      <td>Tried to send it back but since it's a dangero...</td>\n",
       "    </tr>\n",
       "    <tr>\n",
       "      <th>199805</th>\n",
       "      <td>[Patio, Lawn &amp; Garden, Pest Control, Repellents]</td>\n",
       "      <td>Thermacell MR150 Portable Mosquito Repeller</td>\n",
       "      <td>Thermacell</td>\n",
       "      <td>Amazon Home</td>\n",
       "      <td>3.05</td>\n",
       "      <td>B000068XMM</td>\n",
       "      <td>4</td>\n",
       "      <td>True</td>\n",
       "      <td>2013-08-22</td>\n",
       "      <td>A3VQ4T0N4V094D</td>\n",
       "      <td>K. L. Williams</td>\n",
       "      <td>1377129600</td>\n",
       "      <td>Its just confusing when to know the canister i...</td>\n",
       "    </tr>\n",
       "    <tr>\n",
       "      <th>199806</th>\n",
       "      <td>[Patio, Lawn &amp; Garden, Pest Control, Repellents]</td>\n",
       "      <td>Thermacell MR150 Portable Mosquito Repeller</td>\n",
       "      <td>Thermacell</td>\n",
       "      <td>Amazon Home</td>\n",
       "      <td>3.05</td>\n",
       "      <td>B000068XMM</td>\n",
       "      <td>4</td>\n",
       "      <td>True</td>\n",
       "      <td>2013-08-22</td>\n",
       "      <td>A3JDEA2I31CSKP</td>\n",
       "      <td>Iukie</td>\n",
       "      <td>1377129600</td>\n",
       "      <td>The system seems to work very well it keeps bu...</td>\n",
       "    </tr>\n",
       "  </tbody>\n",
       "</table>\n",
       "<p>199719 rows × 13 columns</p>\n",
       "</div>"
      ],
      "text/plain": [
       "                                                 category  \\\n",
       "0       [Patio, Lawn & Garden, Pest Control, Bug Zappers]   \n",
       "1       [Patio, Lawn & Garden, Pest Control, Bug Zappers]   \n",
       "2       [Patio, Lawn & Garden, Pest Control, Bug Zappers]   \n",
       "3       [Patio, Lawn & Garden, Pest Control, Bug Zappers]   \n",
       "4       [Patio, Lawn & Garden, Pest Control, Bug Zappers]   \n",
       "...                                                   ...   \n",
       "199802   [Patio, Lawn & Garden, Pest Control, Repellents]   \n",
       "199803   [Patio, Lawn & Garden, Pest Control, Repellents]   \n",
       "199804   [Patio, Lawn & Garden, Pest Control, Repellents]   \n",
       "199805   [Patio, Lawn & Garden, Pest Control, Repellents]   \n",
       "199806   [Patio, Lawn & Garden, Pest Control, Repellents]   \n",
       "\n",
       "                                              title  \\\n",
       "0                                      Johnson Road   \n",
       "1                                      Johnson Road   \n",
       "2                                      Johnson Road   \n",
       "3                                      Johnson Road   \n",
       "4                                      Johnson Road   \n",
       "...                                             ...   \n",
       "199802  Thermacell MR150 Portable Mosquito Repeller   \n",
       "199803  Thermacell MR150 Portable Mosquito Repeller   \n",
       "199804  Thermacell MR150 Portable Mosquito Repeller   \n",
       "199805  Thermacell MR150 Portable Mosquito Repeller   \n",
       "199806  Thermacell MR150 Portable Mosquito Repeller   \n",
       "\n",
       "                                        brand     main_cat  price        asin  \\\n",
       "0       Visit Amazon's Clayton E Spriggs Page        Books   0.00  0986121126   \n",
       "1       Visit Amazon's Clayton E Spriggs Page        Books   0.00  0986121126   \n",
       "2       Visit Amazon's Clayton E Spriggs Page        Books   0.00  0986121126   \n",
       "3       Visit Amazon's Clayton E Spriggs Page        Books   0.00  0986121126   \n",
       "4       Visit Amazon's Clayton E Spriggs Page        Books   0.00  0986121126   \n",
       "...                                       ...          ...    ...         ...   \n",
       "199802                             Thermacell  Amazon Home   3.05  B000068XMM   \n",
       "199803                             Thermacell  Amazon Home   3.05  B000068XMM   \n",
       "199804                             Thermacell  Amazon Home   3.05  B000068XMM   \n",
       "199805                             Thermacell  Amazon Home   3.05  B000068XMM   \n",
       "199806                             Thermacell  Amazon Home   3.05  B000068XMM   \n",
       "\n",
       "        overall  verified reviewTime      reviewerID      reviewerName  \\\n",
       "0             5      True 2015-05-30  A1SP1855LVHRVS    Genevieve Luke   \n",
       "1             5      True 2015-05-08   AOAIHJZU5XMMH            Lisa H   \n",
       "2             4      True 2016-11-28  A2Z9J0DD7PX7D3        NanaWillow   \n",
       "3             4     False 2016-11-23  A2FT1DZIV8CVOT       Dave Carver   \n",
       "4             4      True 2016-11-19  A1HYKFP21Y02V4               JEC   \n",
       "...         ...       ...        ...             ...               ...   \n",
       "199802        5      True 2013-08-23  A37E1Q63V1ITDE  robert t willard   \n",
       "199803        5      True 2013-08-23  A28L1K6L57ATYT   Kindle Customer   \n",
       "199804        2      True 2013-08-23   A3LUJFBABNZCT        LYNN MARIE   \n",
       "199805        4      True 2013-08-22  A3VQ4T0N4V094D    K. L. Williams   \n",
       "199806        4      True 2013-08-22  A3JDEA2I31CSKP             Iukie   \n",
       "\n",
       "        unixReviewTime                                             Review  \n",
       "0           1432944000              WOW, VERY GOOD STORY.VERY GOOD STORY.  \n",
       "1           1431043200  Great First Novel!  Mr. Spriggs is a very tale...  \n",
       "2           1480291200  I was having trouble trying to put into words ...  \n",
       "3           1479859200  A consistent theme in this book is the detecti...  \n",
       "4           1479513600  Keeps you just a little off balance, while rea...  \n",
       "...                ...                                                ...  \n",
       "199802      1377216000  I have used it in my back yard and in the wood...  \n",
       "199803      1377216000  Great for ballgames and all outdoor activities...  \n",
       "199804      1377216000  Tried to send it back but since it's a dangero...  \n",
       "199805      1377129600  Its just confusing when to know the canister i...  \n",
       "199806      1377129600  The system seems to work very well it keeps bu...  \n",
       "\n",
       "[199719 rows x 13 columns]"
      ]
     },
     "execution_count": 90,
     "metadata": {},
     "output_type": "execute_result"
    }
   ],
   "source": [
    "M"
   ]
  },
  {
   "cell_type": "code",
   "execution_count": 91,
   "id": "863d991d",
   "metadata": {},
   "outputs": [
    {
     "data": {
      "text/plain": [
       "Index(['category', 'title', 'brand', 'main_cat', 'price', 'asin', 'overall',\n",
       "       'verified', 'reviewTime', 'reviewerID', 'reviewerName',\n",
       "       'unixReviewTime', 'Review'],\n",
       "      dtype='object')"
      ]
     },
     "execution_count": 91,
     "metadata": {},
     "output_type": "execute_result"
    }
   ],
   "source": [
    "M.columns"
   ]
  },
  {
   "cell_type": "markdown",
   "id": "4c8bc50e",
   "metadata": {},
   "source": [
    "# cleaning"
   ]
  },
  {
   "cell_type": "code",
   "execution_count": 92,
   "id": "4f584fde",
   "metadata": {},
   "outputs": [],
   "source": [
    "import string\n",
    "import re"
   ]
  },
  {
   "cell_type": "code",
   "execution_count": 93,
   "id": "73c50348",
   "metadata": {},
   "outputs": [],
   "source": [
    "def clean_text(text):\n",
    "    \n",
    "    \"\"\"\n",
    "    Return clean version of the text\n",
    "    \"\"\"\n",
    "    text = str(text).lower()\n",
    "    # Remove all non-letters and non-spaces except for hyphens and digits\n",
    "    text = re.sub(\"[^0-9A-Za-z\\- ]+\", \" \", text)\n",
    "    # Remove all numbers except those attached to a word\n",
    "    text = re.sub(\"(?<!\\w)\\d+\", \"\", text)\n",
    "    # Remove all hyphens except between two words\n",
    "    text = re.sub(\"-(?!\\w)|(?<!\\w)-\", \"\", text)\n",
    "    # Remove multiple spaces and lowercase everything\n",
    "    text = \" \".join(text.split())\n",
    "\n",
    "    return text\n",
    "    \n",
    "  "
   ]
  },
  {
   "cell_type": "code",
   "execution_count": 94,
   "id": "ee7e1d74",
   "metadata": {},
   "outputs": [
    {
     "data": {
      "text/html": [
       "<div>\n",
       "<style scoped>\n",
       "    .dataframe tbody tr th:only-of-type {\n",
       "        vertical-align: middle;\n",
       "    }\n",
       "\n",
       "    .dataframe tbody tr th {\n",
       "        vertical-align: top;\n",
       "    }\n",
       "\n",
       "    .dataframe thead th {\n",
       "        text-align: right;\n",
       "    }\n",
       "</style>\n",
       "<table border=\"1\" class=\"dataframe\">\n",
       "  <thead>\n",
       "    <tr style=\"text-align: right;\">\n",
       "      <th></th>\n",
       "      <th>category</th>\n",
       "      <th>title</th>\n",
       "      <th>brand</th>\n",
       "      <th>main_cat</th>\n",
       "      <th>price</th>\n",
       "      <th>asin</th>\n",
       "      <th>overall</th>\n",
       "      <th>verified</th>\n",
       "      <th>reviewTime</th>\n",
       "      <th>reviewerID</th>\n",
       "      <th>reviewerName</th>\n",
       "      <th>unixReviewTime</th>\n",
       "      <th>Review</th>\n",
       "    </tr>\n",
       "  </thead>\n",
       "  <tbody>\n",
       "    <tr>\n",
       "      <th>0</th>\n",
       "      <td>[Patio, Lawn &amp; Garden, Pest Control, Bug Zappers]</td>\n",
       "      <td>Johnson Road</td>\n",
       "      <td>Visit Amazon's Clayton E Spriggs Page</td>\n",
       "      <td>Books</td>\n",
       "      <td>0.0</td>\n",
       "      <td>0986121126</td>\n",
       "      <td>5</td>\n",
       "      <td>True</td>\n",
       "      <td>2015-05-30</td>\n",
       "      <td>A1SP1855LVHRVS</td>\n",
       "      <td>Genevieve Luke</td>\n",
       "      <td>1432944000</td>\n",
       "      <td>WOW, VERY GOOD STORY.VERY GOOD STORY.</td>\n",
       "    </tr>\n",
       "    <tr>\n",
       "      <th>1</th>\n",
       "      <td>[Patio, Lawn &amp; Garden, Pest Control, Bug Zappers]</td>\n",
       "      <td>Johnson Road</td>\n",
       "      <td>Visit Amazon's Clayton E Spriggs Page</td>\n",
       "      <td>Books</td>\n",
       "      <td>0.0</td>\n",
       "      <td>0986121126</td>\n",
       "      <td>5</td>\n",
       "      <td>True</td>\n",
       "      <td>2015-05-08</td>\n",
       "      <td>AOAIHJZU5XMMH</td>\n",
       "      <td>Lisa H</td>\n",
       "      <td>1431043200</td>\n",
       "      <td>Great First Novel!  Mr. Spriggs is a very tale...</td>\n",
       "    </tr>\n",
       "    <tr>\n",
       "      <th>2</th>\n",
       "      <td>[Patio, Lawn &amp; Garden, Pest Control, Bug Zappers]</td>\n",
       "      <td>Johnson Road</td>\n",
       "      <td>Visit Amazon's Clayton E Spriggs Page</td>\n",
       "      <td>Books</td>\n",
       "      <td>0.0</td>\n",
       "      <td>0986121126</td>\n",
       "      <td>4</td>\n",
       "      <td>True</td>\n",
       "      <td>2016-11-28</td>\n",
       "      <td>A2Z9J0DD7PX7D3</td>\n",
       "      <td>NanaWillow</td>\n",
       "      <td>1480291200</td>\n",
       "      <td>I was having trouble trying to put into words ...</td>\n",
       "    </tr>\n",
       "    <tr>\n",
       "      <th>3</th>\n",
       "      <td>[Patio, Lawn &amp; Garden, Pest Control, Bug Zappers]</td>\n",
       "      <td>Johnson Road</td>\n",
       "      <td>Visit Amazon's Clayton E Spriggs Page</td>\n",
       "      <td>Books</td>\n",
       "      <td>0.0</td>\n",
       "      <td>0986121126</td>\n",
       "      <td>4</td>\n",
       "      <td>False</td>\n",
       "      <td>2016-11-23</td>\n",
       "      <td>A2FT1DZIV8CVOT</td>\n",
       "      <td>Dave Carver</td>\n",
       "      <td>1479859200</td>\n",
       "      <td>A consistent theme in this book is the detecti...</td>\n",
       "    </tr>\n",
       "    <tr>\n",
       "      <th>4</th>\n",
       "      <td>[Patio, Lawn &amp; Garden, Pest Control, Bug Zappers]</td>\n",
       "      <td>Johnson Road</td>\n",
       "      <td>Visit Amazon's Clayton E Spriggs Page</td>\n",
       "      <td>Books</td>\n",
       "      <td>0.0</td>\n",
       "      <td>0986121126</td>\n",
       "      <td>4</td>\n",
       "      <td>True</td>\n",
       "      <td>2016-11-19</td>\n",
       "      <td>A1HYKFP21Y02V4</td>\n",
       "      <td>JEC</td>\n",
       "      <td>1479513600</td>\n",
       "      <td>Keeps you just a little off balance, while rea...</td>\n",
       "    </tr>\n",
       "  </tbody>\n",
       "</table>\n",
       "</div>"
      ],
      "text/plain": [
       "                                            category         title  \\\n",
       "0  [Patio, Lawn & Garden, Pest Control, Bug Zappers]  Johnson Road   \n",
       "1  [Patio, Lawn & Garden, Pest Control, Bug Zappers]  Johnson Road   \n",
       "2  [Patio, Lawn & Garden, Pest Control, Bug Zappers]  Johnson Road   \n",
       "3  [Patio, Lawn & Garden, Pest Control, Bug Zappers]  Johnson Road   \n",
       "4  [Patio, Lawn & Garden, Pest Control, Bug Zappers]  Johnson Road   \n",
       "\n",
       "                                   brand main_cat  price        asin  overall  \\\n",
       "0  Visit Amazon's Clayton E Spriggs Page    Books    0.0  0986121126        5   \n",
       "1  Visit Amazon's Clayton E Spriggs Page    Books    0.0  0986121126        5   \n",
       "2  Visit Amazon's Clayton E Spriggs Page    Books    0.0  0986121126        4   \n",
       "3  Visit Amazon's Clayton E Spriggs Page    Books    0.0  0986121126        4   \n",
       "4  Visit Amazon's Clayton E Spriggs Page    Books    0.0  0986121126        4   \n",
       "\n",
       "   verified reviewTime      reviewerID    reviewerName  unixReviewTime  \\\n",
       "0      True 2015-05-30  A1SP1855LVHRVS  Genevieve Luke      1432944000   \n",
       "1      True 2015-05-08   AOAIHJZU5XMMH          Lisa H      1431043200   \n",
       "2      True 2016-11-28  A2Z9J0DD7PX7D3      NanaWillow      1480291200   \n",
       "3     False 2016-11-23  A2FT1DZIV8CVOT     Dave Carver      1479859200   \n",
       "4      True 2016-11-19  A1HYKFP21Y02V4             JEC      1479513600   \n",
       "\n",
       "                                              Review  \n",
       "0              WOW, VERY GOOD STORY.VERY GOOD STORY.  \n",
       "1  Great First Novel!  Mr. Spriggs is a very tale...  \n",
       "2  I was having trouble trying to put into words ...  \n",
       "3  A consistent theme in this book is the detecti...  \n",
       "4  Keeps you just a little off balance, while rea...  "
      ]
     },
     "execution_count": 94,
     "metadata": {},
     "output_type": "execute_result"
    }
   ],
   "source": [
    "M.head(5)"
   ]
  },
  {
   "cell_type": "code",
   "execution_count": 95,
   "id": "76875f44",
   "metadata": {},
   "outputs": [],
   "source": [
    "M['Review'] = M['Review'].apply(lambda x:clean_text(x))"
   ]
  },
  {
   "cell_type": "code",
   "execution_count": 96,
   "id": "f65f3a5c",
   "metadata": {},
   "outputs": [
    {
     "data": {
      "text/html": [
       "<div>\n",
       "<style scoped>\n",
       "    .dataframe tbody tr th:only-of-type {\n",
       "        vertical-align: middle;\n",
       "    }\n",
       "\n",
       "    .dataframe tbody tr th {\n",
       "        vertical-align: top;\n",
       "    }\n",
       "\n",
       "    .dataframe thead th {\n",
       "        text-align: right;\n",
       "    }\n",
       "</style>\n",
       "<table border=\"1\" class=\"dataframe\">\n",
       "  <thead>\n",
       "    <tr style=\"text-align: right;\">\n",
       "      <th></th>\n",
       "      <th>category</th>\n",
       "      <th>title</th>\n",
       "      <th>brand</th>\n",
       "      <th>main_cat</th>\n",
       "      <th>price</th>\n",
       "      <th>asin</th>\n",
       "      <th>overall</th>\n",
       "      <th>verified</th>\n",
       "      <th>reviewTime</th>\n",
       "      <th>reviewerID</th>\n",
       "      <th>reviewerName</th>\n",
       "      <th>unixReviewTime</th>\n",
       "      <th>Review</th>\n",
       "    </tr>\n",
       "  </thead>\n",
       "  <tbody>\n",
       "    <tr>\n",
       "      <th>0</th>\n",
       "      <td>[Patio, Lawn &amp; Garden, Pest Control, Bug Zappers]</td>\n",
       "      <td>Johnson Road</td>\n",
       "      <td>Visit Amazon's Clayton E Spriggs Page</td>\n",
       "      <td>Books</td>\n",
       "      <td>0.0</td>\n",
       "      <td>0986121126</td>\n",
       "      <td>5</td>\n",
       "      <td>True</td>\n",
       "      <td>2015-05-30</td>\n",
       "      <td>A1SP1855LVHRVS</td>\n",
       "      <td>Genevieve Luke</td>\n",
       "      <td>1432944000</td>\n",
       "      <td>wow very good story very good story</td>\n",
       "    </tr>\n",
       "    <tr>\n",
       "      <th>1</th>\n",
       "      <td>[Patio, Lawn &amp; Garden, Pest Control, Bug Zappers]</td>\n",
       "      <td>Johnson Road</td>\n",
       "      <td>Visit Amazon's Clayton E Spriggs Page</td>\n",
       "      <td>Books</td>\n",
       "      <td>0.0</td>\n",
       "      <td>0986121126</td>\n",
       "      <td>5</td>\n",
       "      <td>True</td>\n",
       "      <td>2015-05-08</td>\n",
       "      <td>AOAIHJZU5XMMH</td>\n",
       "      <td>Lisa H</td>\n",
       "      <td>1431043200</td>\n",
       "      <td>great first novel mr spriggs is a very talente...</td>\n",
       "    </tr>\n",
       "    <tr>\n",
       "      <th>2</th>\n",
       "      <td>[Patio, Lawn &amp; Garden, Pest Control, Bug Zappers]</td>\n",
       "      <td>Johnson Road</td>\n",
       "      <td>Visit Amazon's Clayton E Spriggs Page</td>\n",
       "      <td>Books</td>\n",
       "      <td>0.0</td>\n",
       "      <td>0986121126</td>\n",
       "      <td>4</td>\n",
       "      <td>True</td>\n",
       "      <td>2016-11-28</td>\n",
       "      <td>A2Z9J0DD7PX7D3</td>\n",
       "      <td>NanaWillow</td>\n",
       "      <td>1480291200</td>\n",
       "      <td>i was having trouble trying to put into words ...</td>\n",
       "    </tr>\n",
       "    <tr>\n",
       "      <th>3</th>\n",
       "      <td>[Patio, Lawn &amp; Garden, Pest Control, Bug Zappers]</td>\n",
       "      <td>Johnson Road</td>\n",
       "      <td>Visit Amazon's Clayton E Spriggs Page</td>\n",
       "      <td>Books</td>\n",
       "      <td>0.0</td>\n",
       "      <td>0986121126</td>\n",
       "      <td>4</td>\n",
       "      <td>False</td>\n",
       "      <td>2016-11-23</td>\n",
       "      <td>A2FT1DZIV8CVOT</td>\n",
       "      <td>Dave Carver</td>\n",
       "      <td>1479859200</td>\n",
       "      <td>a consistent theme in this book is the detecti...</td>\n",
       "    </tr>\n",
       "    <tr>\n",
       "      <th>4</th>\n",
       "      <td>[Patio, Lawn &amp; Garden, Pest Control, Bug Zappers]</td>\n",
       "      <td>Johnson Road</td>\n",
       "      <td>Visit Amazon's Clayton E Spriggs Page</td>\n",
       "      <td>Books</td>\n",
       "      <td>0.0</td>\n",
       "      <td>0986121126</td>\n",
       "      <td>4</td>\n",
       "      <td>True</td>\n",
       "      <td>2016-11-19</td>\n",
       "      <td>A1HYKFP21Y02V4</td>\n",
       "      <td>JEC</td>\n",
       "      <td>1479513600</td>\n",
       "      <td>keeps you just a little off balance while read...</td>\n",
       "    </tr>\n",
       "  </tbody>\n",
       "</table>\n",
       "</div>"
      ],
      "text/plain": [
       "                                            category         title  \\\n",
       "0  [Patio, Lawn & Garden, Pest Control, Bug Zappers]  Johnson Road   \n",
       "1  [Patio, Lawn & Garden, Pest Control, Bug Zappers]  Johnson Road   \n",
       "2  [Patio, Lawn & Garden, Pest Control, Bug Zappers]  Johnson Road   \n",
       "3  [Patio, Lawn & Garden, Pest Control, Bug Zappers]  Johnson Road   \n",
       "4  [Patio, Lawn & Garden, Pest Control, Bug Zappers]  Johnson Road   \n",
       "\n",
       "                                   brand main_cat  price        asin  overall  \\\n",
       "0  Visit Amazon's Clayton E Spriggs Page    Books    0.0  0986121126        5   \n",
       "1  Visit Amazon's Clayton E Spriggs Page    Books    0.0  0986121126        5   \n",
       "2  Visit Amazon's Clayton E Spriggs Page    Books    0.0  0986121126        4   \n",
       "3  Visit Amazon's Clayton E Spriggs Page    Books    0.0  0986121126        4   \n",
       "4  Visit Amazon's Clayton E Spriggs Page    Books    0.0  0986121126        4   \n",
       "\n",
       "   verified reviewTime      reviewerID    reviewerName  unixReviewTime  \\\n",
       "0      True 2015-05-30  A1SP1855LVHRVS  Genevieve Luke      1432944000   \n",
       "1      True 2015-05-08   AOAIHJZU5XMMH          Lisa H      1431043200   \n",
       "2      True 2016-11-28  A2Z9J0DD7PX7D3      NanaWillow      1480291200   \n",
       "3     False 2016-11-23  A2FT1DZIV8CVOT     Dave Carver      1479859200   \n",
       "4      True 2016-11-19  A1HYKFP21Y02V4             JEC      1479513600   \n",
       "\n",
       "                                              Review  \n",
       "0                wow very good story very good story  \n",
       "1  great first novel mr spriggs is a very talente...  \n",
       "2  i was having trouble trying to put into words ...  \n",
       "3  a consistent theme in this book is the detecti...  \n",
       "4  keeps you just a little off balance while read...  "
      ]
     },
     "execution_count": 96,
     "metadata": {},
     "output_type": "execute_result"
    }
   ],
   "source": [
    "M.head(5)"
   ]
  },
  {
   "cell_type": "code",
   "execution_count": 97,
   "id": "09340693",
   "metadata": {},
   "outputs": [
    {
     "data": {
      "text/plain": [
       "category          0\n",
       "title             0\n",
       "brand             0\n",
       "main_cat          0\n",
       "price             0\n",
       "asin              0\n",
       "overall           0\n",
       "verified          0\n",
       "reviewTime        0\n",
       "reviewerID        0\n",
       "reviewerName      0\n",
       "unixReviewTime    0\n",
       "Review            0\n",
       "dtype: int64"
      ]
     },
     "execution_count": 97,
     "metadata": {},
     "output_type": "execute_result"
    }
   ],
   "source": [
    "M.isnull().sum()"
   ]
  },
  {
   "cell_type": "code",
   "execution_count": 98,
   "id": "122f67b9",
   "metadata": {},
   "outputs": [],
   "source": [
    "# SENTIMENT ANALYSIS"
   ]
  },
  {
   "cell_type": "code",
   "execution_count": 99,
   "id": "61b4ddf7",
   "metadata": {},
   "outputs": [],
   "source": [
    "from textblob import TextBlob"
   ]
  },
  {
   "cell_type": "code",
   "execution_count": 100,
   "id": "9db5e8ee",
   "metadata": {},
   "outputs": [],
   "source": [
    "# Create a new column for sentiment polarity scores\n",
    "\n",
    "M[\"polarity\"] = M[\"Review\"].apply(lambda x: TextBlob(x).sentiment.polarity)"
   ]
  },
  {
   "cell_type": "code",
   "execution_count": 102,
   "id": "83698c21",
   "metadata": {},
   "outputs": [
    {
     "data": {
      "text/html": [
       "<div>\n",
       "<style scoped>\n",
       "    .dataframe tbody tr th:only-of-type {\n",
       "        vertical-align: middle;\n",
       "    }\n",
       "\n",
       "    .dataframe tbody tr th {\n",
       "        vertical-align: top;\n",
       "    }\n",
       "\n",
       "    .dataframe thead th {\n",
       "        text-align: right;\n",
       "    }\n",
       "</style>\n",
       "<table border=\"1\" class=\"dataframe\">\n",
       "  <thead>\n",
       "    <tr style=\"text-align: right;\">\n",
       "      <th></th>\n",
       "      <th>category</th>\n",
       "      <th>title</th>\n",
       "      <th>brand</th>\n",
       "      <th>main_cat</th>\n",
       "      <th>price</th>\n",
       "      <th>asin</th>\n",
       "      <th>overall</th>\n",
       "      <th>verified</th>\n",
       "      <th>reviewTime</th>\n",
       "      <th>reviewerID</th>\n",
       "      <th>reviewerName</th>\n",
       "      <th>unixReviewTime</th>\n",
       "      <th>Review</th>\n",
       "      <th>polarity</th>\n",
       "    </tr>\n",
       "  </thead>\n",
       "  <tbody>\n",
       "    <tr>\n",
       "      <th>0</th>\n",
       "      <td>[Patio, Lawn &amp; Garden, Pest Control, Bug Zappers]</td>\n",
       "      <td>Johnson Road</td>\n",
       "      <td>Visit Amazon's Clayton E Spriggs Page</td>\n",
       "      <td>Books</td>\n",
       "      <td>0.0</td>\n",
       "      <td>0986121126</td>\n",
       "      <td>5</td>\n",
       "      <td>True</td>\n",
       "      <td>2015-05-30</td>\n",
       "      <td>A1SP1855LVHRVS</td>\n",
       "      <td>Genevieve Luke</td>\n",
       "      <td>1432944000</td>\n",
       "      <td>wow very good story very good story</td>\n",
       "      <td>0.640000</td>\n",
       "    </tr>\n",
       "    <tr>\n",
       "      <th>1</th>\n",
       "      <td>[Patio, Lawn &amp; Garden, Pest Control, Bug Zappers]</td>\n",
       "      <td>Johnson Road</td>\n",
       "      <td>Visit Amazon's Clayton E Spriggs Page</td>\n",
       "      <td>Books</td>\n",
       "      <td>0.0</td>\n",
       "      <td>0986121126</td>\n",
       "      <td>5</td>\n",
       "      <td>True</td>\n",
       "      <td>2015-05-08</td>\n",
       "      <td>AOAIHJZU5XMMH</td>\n",
       "      <td>Lisa H</td>\n",
       "      <td>1431043200</td>\n",
       "      <td>great first novel mr spriggs is a very talente...</td>\n",
       "      <td>0.152865</td>\n",
       "    </tr>\n",
       "    <tr>\n",
       "      <th>2</th>\n",
       "      <td>[Patio, Lawn &amp; Garden, Pest Control, Bug Zappers]</td>\n",
       "      <td>Johnson Road</td>\n",
       "      <td>Visit Amazon's Clayton E Spriggs Page</td>\n",
       "      <td>Books</td>\n",
       "      <td>0.0</td>\n",
       "      <td>0986121126</td>\n",
       "      <td>4</td>\n",
       "      <td>True</td>\n",
       "      <td>2016-11-28</td>\n",
       "      <td>A2Z9J0DD7PX7D3</td>\n",
       "      <td>NanaWillow</td>\n",
       "      <td>1480291200</td>\n",
       "      <td>i was having trouble trying to put into words ...</td>\n",
       "      <td>0.175312</td>\n",
       "    </tr>\n",
       "    <tr>\n",
       "      <th>3</th>\n",
       "      <td>[Patio, Lawn &amp; Garden, Pest Control, Bug Zappers]</td>\n",
       "      <td>Johnson Road</td>\n",
       "      <td>Visit Amazon's Clayton E Spriggs Page</td>\n",
       "      <td>Books</td>\n",
       "      <td>0.0</td>\n",
       "      <td>0986121126</td>\n",
       "      <td>4</td>\n",
       "      <td>False</td>\n",
       "      <td>2016-11-23</td>\n",
       "      <td>A2FT1DZIV8CVOT</td>\n",
       "      <td>Dave Carver</td>\n",
       "      <td>1479859200</td>\n",
       "      <td>a consistent theme in this book is the detecti...</td>\n",
       "      <td>-0.124167</td>\n",
       "    </tr>\n",
       "    <tr>\n",
       "      <th>4</th>\n",
       "      <td>[Patio, Lawn &amp; Garden, Pest Control, Bug Zappers]</td>\n",
       "      <td>Johnson Road</td>\n",
       "      <td>Visit Amazon's Clayton E Spriggs Page</td>\n",
       "      <td>Books</td>\n",
       "      <td>0.0</td>\n",
       "      <td>0986121126</td>\n",
       "      <td>4</td>\n",
       "      <td>True</td>\n",
       "      <td>2016-11-19</td>\n",
       "      <td>A1HYKFP21Y02V4</td>\n",
       "      <td>JEC</td>\n",
       "      <td>1479513600</td>\n",
       "      <td>keeps you just a little off balance while read...</td>\n",
       "      <td>-0.118750</td>\n",
       "    </tr>\n",
       "  </tbody>\n",
       "</table>\n",
       "</div>"
      ],
      "text/plain": [
       "                                            category         title  \\\n",
       "0  [Patio, Lawn & Garden, Pest Control, Bug Zappers]  Johnson Road   \n",
       "1  [Patio, Lawn & Garden, Pest Control, Bug Zappers]  Johnson Road   \n",
       "2  [Patio, Lawn & Garden, Pest Control, Bug Zappers]  Johnson Road   \n",
       "3  [Patio, Lawn & Garden, Pest Control, Bug Zappers]  Johnson Road   \n",
       "4  [Patio, Lawn & Garden, Pest Control, Bug Zappers]  Johnson Road   \n",
       "\n",
       "                                   brand main_cat  price        asin  overall  \\\n",
       "0  Visit Amazon's Clayton E Spriggs Page    Books    0.0  0986121126        5   \n",
       "1  Visit Amazon's Clayton E Spriggs Page    Books    0.0  0986121126        5   \n",
       "2  Visit Amazon's Clayton E Spriggs Page    Books    0.0  0986121126        4   \n",
       "3  Visit Amazon's Clayton E Spriggs Page    Books    0.0  0986121126        4   \n",
       "4  Visit Amazon's Clayton E Spriggs Page    Books    0.0  0986121126        4   \n",
       "\n",
       "   verified reviewTime      reviewerID    reviewerName  unixReviewTime  \\\n",
       "0      True 2015-05-30  A1SP1855LVHRVS  Genevieve Luke      1432944000   \n",
       "1      True 2015-05-08   AOAIHJZU5XMMH          Lisa H      1431043200   \n",
       "2      True 2016-11-28  A2Z9J0DD7PX7D3      NanaWillow      1480291200   \n",
       "3     False 2016-11-23  A2FT1DZIV8CVOT     Dave Carver      1479859200   \n",
       "4      True 2016-11-19  A1HYKFP21Y02V4             JEC      1479513600   \n",
       "\n",
       "                                              Review  polarity  \n",
       "0                wow very good story very good story  0.640000  \n",
       "1  great first novel mr spriggs is a very talente...  0.152865  \n",
       "2  i was having trouble trying to put into words ...  0.175312  \n",
       "3  a consistent theme in this book is the detecti... -0.124167  \n",
       "4  keeps you just a little off balance while read... -0.118750  "
      ]
     },
     "execution_count": 102,
     "metadata": {},
     "output_type": "execute_result"
    }
   ],
   "source": [
    "M.head(5)"
   ]
  },
  {
   "cell_type": "code",
   "execution_count": 103,
   "id": "d6808c24",
   "metadata": {},
   "outputs": [
    {
     "data": {
      "text/plain": [
       "0         0.640000\n",
       "1         0.152865\n",
       "2         0.175312\n",
       "3        -0.124167\n",
       "4        -0.118750\n",
       "            ...   \n",
       "199802    0.508333\n",
       "199803    0.470833\n",
       "199804   -0.121429\n",
       "199805   -0.133333\n",
       "199806    0.215625\n",
       "Name: polarity, Length: 199719, dtype: float64"
      ]
     },
     "execution_count": 103,
     "metadata": {},
     "output_type": "execute_result"
    }
   ],
   "source": [
    "M[\"polarity\"]"
   ]
  },
  {
   "cell_type": "code",
   "execution_count": null,
   "id": "3e9b7d8c",
   "metadata": {},
   "outputs": [],
   "source": [
    "#Creating 'sentiment' column"
   ]
  },
  {
   "cell_type": "code",
   "execution_count": 104,
   "id": "9f581f26",
   "metadata": {},
   "outputs": [],
   "source": [
    "def pos_neg(score):\n",
    "    \n",
    "    '''Returns the sentiment of the polarity'''\n",
    "    \n",
    "    if score < 0:\n",
    "        sentiment_type = 'Negative'\n",
    "    elif score == 0:\n",
    "        sentiment_type = 'Neutral'\n",
    "    else:\n",
    "        sentiment_type = 'Positive'\n",
    "        \n",
    "    return sentiment_type"
   ]
  },
  {
   "cell_type": "code",
   "execution_count": 105,
   "id": "dc77e47e",
   "metadata": {},
   "outputs": [],
   "source": [
    "M['Sentiment'] = M['polarity'].apply(pos_neg)"
   ]
  },
  {
   "cell_type": "code",
   "execution_count": 106,
   "id": "c7019c7f",
   "metadata": {},
   "outputs": [
    {
     "data": {
      "text/html": [
       "<div>\n",
       "<style scoped>\n",
       "    .dataframe tbody tr th:only-of-type {\n",
       "        vertical-align: middle;\n",
       "    }\n",
       "\n",
       "    .dataframe tbody tr th {\n",
       "        vertical-align: top;\n",
       "    }\n",
       "\n",
       "    .dataframe thead th {\n",
       "        text-align: right;\n",
       "    }\n",
       "</style>\n",
       "<table border=\"1\" class=\"dataframe\">\n",
       "  <thead>\n",
       "    <tr style=\"text-align: right;\">\n",
       "      <th></th>\n",
       "      <th>category</th>\n",
       "      <th>title</th>\n",
       "      <th>brand</th>\n",
       "      <th>main_cat</th>\n",
       "      <th>price</th>\n",
       "      <th>asin</th>\n",
       "      <th>overall</th>\n",
       "      <th>verified</th>\n",
       "      <th>reviewTime</th>\n",
       "      <th>reviewerID</th>\n",
       "      <th>reviewerName</th>\n",
       "      <th>unixReviewTime</th>\n",
       "      <th>Review</th>\n",
       "      <th>polarity</th>\n",
       "      <th>Sentiment</th>\n",
       "    </tr>\n",
       "  </thead>\n",
       "  <tbody>\n",
       "    <tr>\n",
       "      <th>0</th>\n",
       "      <td>[Patio, Lawn &amp; Garden, Pest Control, Bug Zappers]</td>\n",
       "      <td>Johnson Road</td>\n",
       "      <td>Visit Amazon's Clayton E Spriggs Page</td>\n",
       "      <td>Books</td>\n",
       "      <td>0.0</td>\n",
       "      <td>0986121126</td>\n",
       "      <td>5</td>\n",
       "      <td>True</td>\n",
       "      <td>2015-05-30</td>\n",
       "      <td>A1SP1855LVHRVS</td>\n",
       "      <td>Genevieve Luke</td>\n",
       "      <td>1432944000</td>\n",
       "      <td>wow very good story very good story</td>\n",
       "      <td>0.640000</td>\n",
       "      <td>Positive</td>\n",
       "    </tr>\n",
       "    <tr>\n",
       "      <th>1</th>\n",
       "      <td>[Patio, Lawn &amp; Garden, Pest Control, Bug Zappers]</td>\n",
       "      <td>Johnson Road</td>\n",
       "      <td>Visit Amazon's Clayton E Spriggs Page</td>\n",
       "      <td>Books</td>\n",
       "      <td>0.0</td>\n",
       "      <td>0986121126</td>\n",
       "      <td>5</td>\n",
       "      <td>True</td>\n",
       "      <td>2015-05-08</td>\n",
       "      <td>AOAIHJZU5XMMH</td>\n",
       "      <td>Lisa H</td>\n",
       "      <td>1431043200</td>\n",
       "      <td>great first novel mr spriggs is a very talente...</td>\n",
       "      <td>0.152865</td>\n",
       "      <td>Positive</td>\n",
       "    </tr>\n",
       "    <tr>\n",
       "      <th>2</th>\n",
       "      <td>[Patio, Lawn &amp; Garden, Pest Control, Bug Zappers]</td>\n",
       "      <td>Johnson Road</td>\n",
       "      <td>Visit Amazon's Clayton E Spriggs Page</td>\n",
       "      <td>Books</td>\n",
       "      <td>0.0</td>\n",
       "      <td>0986121126</td>\n",
       "      <td>4</td>\n",
       "      <td>True</td>\n",
       "      <td>2016-11-28</td>\n",
       "      <td>A2Z9J0DD7PX7D3</td>\n",
       "      <td>NanaWillow</td>\n",
       "      <td>1480291200</td>\n",
       "      <td>i was having trouble trying to put into words ...</td>\n",
       "      <td>0.175312</td>\n",
       "      <td>Positive</td>\n",
       "    </tr>\n",
       "    <tr>\n",
       "      <th>3</th>\n",
       "      <td>[Patio, Lawn &amp; Garden, Pest Control, Bug Zappers]</td>\n",
       "      <td>Johnson Road</td>\n",
       "      <td>Visit Amazon's Clayton E Spriggs Page</td>\n",
       "      <td>Books</td>\n",
       "      <td>0.0</td>\n",
       "      <td>0986121126</td>\n",
       "      <td>4</td>\n",
       "      <td>False</td>\n",
       "      <td>2016-11-23</td>\n",
       "      <td>A2FT1DZIV8CVOT</td>\n",
       "      <td>Dave Carver</td>\n",
       "      <td>1479859200</td>\n",
       "      <td>a consistent theme in this book is the detecti...</td>\n",
       "      <td>-0.124167</td>\n",
       "      <td>Negative</td>\n",
       "    </tr>\n",
       "    <tr>\n",
       "      <th>4</th>\n",
       "      <td>[Patio, Lawn &amp; Garden, Pest Control, Bug Zappers]</td>\n",
       "      <td>Johnson Road</td>\n",
       "      <td>Visit Amazon's Clayton E Spriggs Page</td>\n",
       "      <td>Books</td>\n",
       "      <td>0.0</td>\n",
       "      <td>0986121126</td>\n",
       "      <td>4</td>\n",
       "      <td>True</td>\n",
       "      <td>2016-11-19</td>\n",
       "      <td>A1HYKFP21Y02V4</td>\n",
       "      <td>JEC</td>\n",
       "      <td>1479513600</td>\n",
       "      <td>keeps you just a little off balance while read...</td>\n",
       "      <td>-0.118750</td>\n",
       "      <td>Negative</td>\n",
       "    </tr>\n",
       "  </tbody>\n",
       "</table>\n",
       "</div>"
      ],
      "text/plain": [
       "                                            category         title  \\\n",
       "0  [Patio, Lawn & Garden, Pest Control, Bug Zappers]  Johnson Road   \n",
       "1  [Patio, Lawn & Garden, Pest Control, Bug Zappers]  Johnson Road   \n",
       "2  [Patio, Lawn & Garden, Pest Control, Bug Zappers]  Johnson Road   \n",
       "3  [Patio, Lawn & Garden, Pest Control, Bug Zappers]  Johnson Road   \n",
       "4  [Patio, Lawn & Garden, Pest Control, Bug Zappers]  Johnson Road   \n",
       "\n",
       "                                   brand main_cat  price        asin  overall  \\\n",
       "0  Visit Amazon's Clayton E Spriggs Page    Books    0.0  0986121126        5   \n",
       "1  Visit Amazon's Clayton E Spriggs Page    Books    0.0  0986121126        5   \n",
       "2  Visit Amazon's Clayton E Spriggs Page    Books    0.0  0986121126        4   \n",
       "3  Visit Amazon's Clayton E Spriggs Page    Books    0.0  0986121126        4   \n",
       "4  Visit Amazon's Clayton E Spriggs Page    Books    0.0  0986121126        4   \n",
       "\n",
       "   verified reviewTime      reviewerID    reviewerName  unixReviewTime  \\\n",
       "0      True 2015-05-30  A1SP1855LVHRVS  Genevieve Luke      1432944000   \n",
       "1      True 2015-05-08   AOAIHJZU5XMMH          Lisa H      1431043200   \n",
       "2      True 2016-11-28  A2Z9J0DD7PX7D3      NanaWillow      1480291200   \n",
       "3     False 2016-11-23  A2FT1DZIV8CVOT     Dave Carver      1479859200   \n",
       "4      True 2016-11-19  A1HYKFP21Y02V4             JEC      1479513600   \n",
       "\n",
       "                                              Review  polarity Sentiment  \n",
       "0                wow very good story very good story  0.640000  Positive  \n",
       "1  great first novel mr spriggs is a very talente...  0.152865  Positive  \n",
       "2  i was having trouble trying to put into words ...  0.175312  Positive  \n",
       "3  a consistent theme in this book is the detecti... -0.124167  Negative  \n",
       "4  keeps you just a little off balance while read... -0.118750  Negative  "
      ]
     },
     "execution_count": 106,
     "metadata": {},
     "output_type": "execute_result"
    }
   ],
   "source": [
    "M.head(5)"
   ]
  },
  {
   "cell_type": "code",
   "execution_count": 107,
   "id": "9e587f96",
   "metadata": {},
   "outputs": [],
   "source": [
    "import csv"
   ]
  },
  {
   "cell_type": "code",
   "execution_count": 108,
   "id": "2d342418",
   "metadata": {},
   "outputs": [],
   "source": [
    "merge_data1.to_csv('lawn_garden_data.csv')"
   ]
  },
  {
   "cell_type": "markdown",
   "id": "67698d6a",
   "metadata": {},
   "source": [
    "# time series"
   ]
  },
  {
   "cell_type": "code",
   "execution_count": null,
   "id": "3ac0fd30",
   "metadata": {},
   "outputs": [],
   "source": []
  },
  {
   "cell_type": "code",
   "execution_count": 1,
   "id": "f6c7d68d",
   "metadata": {},
   "outputs": [],
   "source": [
    "import pandas as pd\n",
    "import numpy as np"
   ]
  },
  {
   "cell_type": "code",
   "execution_count": 2,
   "id": "5152ac88",
   "metadata": {},
   "outputs": [],
   "source": [
    "from statsmodels.tsa.seasonal import seasonal_decompose        \n",
    "from statsmodels.tsa.stattools import adfuller                     \n",
    "from statsmodels.graphics.tsaplots import plot_acf, plot_pacf      "
   ]
  },
  {
   "cell_type": "code",
   "execution_count": 3,
   "id": "a770a14f",
   "metadata": {},
   "outputs": [
    {
     "data": {
      "text/html": [
       "<div>\n",
       "<style scoped>\n",
       "    .dataframe tbody tr th:only-of-type {\n",
       "        vertical-align: middle;\n",
       "    }\n",
       "\n",
       "    .dataframe tbody tr th {\n",
       "        vertical-align: top;\n",
       "    }\n",
       "\n",
       "    .dataframe thead th {\n",
       "        text-align: right;\n",
       "    }\n",
       "</style>\n",
       "<table border=\"1\" class=\"dataframe\">\n",
       "  <thead>\n",
       "    <tr style=\"text-align: right;\">\n",
       "      <th></th>\n",
       "      <th>Unnamed: 0</th>\n",
       "      <th>overall</th>\n",
       "      <th>verified</th>\n",
       "      <th>reviewTime</th>\n",
       "      <th>reviewerID</th>\n",
       "      <th>asin</th>\n",
       "      <th>reviewerName</th>\n",
       "      <th>unixReviewTime</th>\n",
       "      <th>category</th>\n",
       "      <th>title</th>\n",
       "      <th>brand</th>\n",
       "      <th>main_cat</th>\n",
       "      <th>price</th>\n",
       "      <th>Review</th>\n",
       "      <th>polarity</th>\n",
       "      <th>Sentiment</th>\n",
       "    </tr>\n",
       "  </thead>\n",
       "  <tbody>\n",
       "    <tr>\n",
       "      <th>0</th>\n",
       "      <td>0</td>\n",
       "      <td>1</td>\n",
       "      <td>True</td>\n",
       "      <td>2015-10-29</td>\n",
       "      <td>A2WLGLBD9ZPO79</td>\n",
       "      <td>8805003557</td>\n",
       "      <td>Dawn Marie Martel</td>\n",
       "      <td>1446076800</td>\n",
       "      <td>['Patio, Lawn &amp; Garden', 'Patio Furniture &amp; Ac...</td>\n",
       "      <td>9ft Blue Sunshade Umbrella Metal Pole Outdoor ...</td>\n",
       "      <td>Unknown</td>\n",
       "      <td>Amazon Home</td>\n",
       "      <td>51.79</td>\n",
       "      <td>fell apart in one day as soon as we put it up ...</td>\n",
       "      <td>-0.400000</td>\n",
       "      <td>Negative</td>\n",
       "    </tr>\n",
       "    <tr>\n",
       "      <th>1</th>\n",
       "      <td>1</td>\n",
       "      <td>5</td>\n",
       "      <td>True</td>\n",
       "      <td>2015-10-19</td>\n",
       "      <td>A3FI13YT94SYLM</td>\n",
       "      <td>8805003557</td>\n",
       "      <td>Jamie</td>\n",
       "      <td>1445212800</td>\n",
       "      <td>['Patio, Lawn &amp; Garden', 'Patio Furniture &amp; Ac...</td>\n",
       "      <td>9ft Blue Sunshade Umbrella Metal Pole Outdoor ...</td>\n",
       "      <td>Unknown</td>\n",
       "      <td>Amazon Home</td>\n",
       "      <td>51.79</td>\n",
       "      <td>love it five stars</td>\n",
       "      <td>0.500000</td>\n",
       "      <td>Positive</td>\n",
       "    </tr>\n",
       "    <tr>\n",
       "      <th>2</th>\n",
       "      <td>2</td>\n",
       "      <td>5</td>\n",
       "      <td>True</td>\n",
       "      <td>2015-10-13</td>\n",
       "      <td>A24EE8S2QSJM6P</td>\n",
       "      <td>8805003557</td>\n",
       "      <td>Gardening Megan</td>\n",
       "      <td>1444694400</td>\n",
       "      <td>['Patio, Lawn &amp; Garden', 'Patio Furniture &amp; Ac...</td>\n",
       "      <td>9ft Blue Sunshade Umbrella Metal Pole Outdoor ...</td>\n",
       "      <td>Unknown</td>\n",
       "      <td>Amazon Home</td>\n",
       "      <td>51.79</td>\n",
       "      <td>love it great price sturdy arrived very quickl...</td>\n",
       "      <td>0.633333</td>\n",
       "      <td>Positive</td>\n",
       "    </tr>\n",
       "    <tr>\n",
       "      <th>3</th>\n",
       "      <td>3</td>\n",
       "      <td>5</td>\n",
       "      <td>True</td>\n",
       "      <td>2015-08-19</td>\n",
       "      <td>A3RUMDD6RBYKLF</td>\n",
       "      <td>8805003557</td>\n",
       "      <td>Diana Gardner</td>\n",
       "      <td>1439942400</td>\n",
       "      <td>['Patio, Lawn &amp; Garden', 'Patio Furniture &amp; Ac...</td>\n",
       "      <td>9ft Blue Sunshade Umbrella Metal Pole Outdoor ...</td>\n",
       "      <td>Unknown</td>\n",
       "      <td>Amazon Home</td>\n",
       "      <td>51.79</td>\n",
       "      <td>excellent product and great value five stars</td>\n",
       "      <td>0.900000</td>\n",
       "      <td>Positive</td>\n",
       "    </tr>\n",
       "    <tr>\n",
       "      <th>4</th>\n",
       "      <td>4</td>\n",
       "      <td>2</td>\n",
       "      <td>True</td>\n",
       "      <td>2015-08-18</td>\n",
       "      <td>A3CXXIGKXWGOUG</td>\n",
       "      <td>8805003557</td>\n",
       "      <td>Cory Stepanek</td>\n",
       "      <td>1439856000</td>\n",
       "      <td>['Patio, Lawn &amp; Garden', 'Patio Furniture &amp; Ac...</td>\n",
       "      <td>9ft Blue Sunshade Umbrella Metal Pole Outdoor ...</td>\n",
       "      <td>Unknown</td>\n",
       "      <td>Amazon Home</td>\n",
       "      <td>51.79</td>\n",
       "      <td>it looks nice but the seams are not thatchers ...</td>\n",
       "      <td>0.092857</td>\n",
       "      <td>Positive</td>\n",
       "    </tr>\n",
       "    <tr>\n",
       "      <th>...</th>\n",
       "      <td>...</td>\n",
       "      <td>...</td>\n",
       "      <td>...</td>\n",
       "      <td>...</td>\n",
       "      <td>...</td>\n",
       "      <td>...</td>\n",
       "      <td>...</td>\n",
       "      <td>...</td>\n",
       "      <td>...</td>\n",
       "      <td>...</td>\n",
       "      <td>...</td>\n",
       "      <td>...</td>\n",
       "      <td>...</td>\n",
       "      <td>...</td>\n",
       "      <td>...</td>\n",
       "      <td>...</td>\n",
       "    </tr>\n",
       "    <tr>\n",
       "      <th>88414</th>\n",
       "      <td>88414</td>\n",
       "      <td>5</td>\n",
       "      <td>True</td>\n",
       "      <td>2013-08-23</td>\n",
       "      <td>A37E1Q63V1ITDE</td>\n",
       "      <td>B000068XMM</td>\n",
       "      <td>robert t willard</td>\n",
       "      <td>1377216000</td>\n",
       "      <td>['Patio, Lawn &amp; Garden', 'Pest Control', 'Repe...</td>\n",
       "      <td>Thermacell MR150 Portable Mosquito Repeller</td>\n",
       "      <td>Thermacell</td>\n",
       "      <td>Amazon Home</td>\n",
       "      <td>3.05</td>\n",
       "      <td>i have used it in my back yard and in the wood...</td>\n",
       "      <td>0.508333</td>\n",
       "      <td>Positive</td>\n",
       "    </tr>\n",
       "    <tr>\n",
       "      <th>88415</th>\n",
       "      <td>88415</td>\n",
       "      <td>5</td>\n",
       "      <td>True</td>\n",
       "      <td>2013-08-23</td>\n",
       "      <td>A28L1K6L57ATYT</td>\n",
       "      <td>B000068XMM</td>\n",
       "      <td>Kindle Customer</td>\n",
       "      <td>1377216000</td>\n",
       "      <td>['Patio, Lawn &amp; Garden', 'Pest Control', 'Repe...</td>\n",
       "      <td>Thermacell MR150 Portable Mosquito Repeller</td>\n",
       "      <td>Thermacell</td>\n",
       "      <td>Amazon Home</td>\n",
       "      <td>3.05</td>\n",
       "      <td>great for ballgames and all outdoor activities...</td>\n",
       "      <td>0.470833</td>\n",
       "      <td>Positive</td>\n",
       "    </tr>\n",
       "    <tr>\n",
       "      <th>88416</th>\n",
       "      <td>88416</td>\n",
       "      <td>2</td>\n",
       "      <td>True</td>\n",
       "      <td>2013-08-23</td>\n",
       "      <td>A3LUJFBABNZCT</td>\n",
       "      <td>B000068XMM</td>\n",
       "      <td>LYNN MARIE</td>\n",
       "      <td>1377216000</td>\n",
       "      <td>['Patio, Lawn &amp; Garden', 'Pest Control', 'Repe...</td>\n",
       "      <td>Thermacell MR150 Portable Mosquito Repeller</td>\n",
       "      <td>Thermacell</td>\n",
       "      <td>Amazon Home</td>\n",
       "      <td>3.05</td>\n",
       "      <td>tried to send it back but since it s a dangero...</td>\n",
       "      <td>-0.121429</td>\n",
       "      <td>Negative</td>\n",
       "    </tr>\n",
       "    <tr>\n",
       "      <th>88417</th>\n",
       "      <td>88417</td>\n",
       "      <td>4</td>\n",
       "      <td>True</td>\n",
       "      <td>2013-08-22</td>\n",
       "      <td>A3VQ4T0N4V094D</td>\n",
       "      <td>B000068XMM</td>\n",
       "      <td>K. L. Williams</td>\n",
       "      <td>1377129600</td>\n",
       "      <td>['Patio, Lawn &amp; Garden', 'Pest Control', 'Repe...</td>\n",
       "      <td>Thermacell MR150 Portable Mosquito Repeller</td>\n",
       "      <td>Thermacell</td>\n",
       "      <td>Amazon Home</td>\n",
       "      <td>3.05</td>\n",
       "      <td>its just confusing when to know the canister i...</td>\n",
       "      <td>-0.133333</td>\n",
       "      <td>Negative</td>\n",
       "    </tr>\n",
       "    <tr>\n",
       "      <th>88418</th>\n",
       "      <td>88418</td>\n",
       "      <td>4</td>\n",
       "      <td>True</td>\n",
       "      <td>2013-08-22</td>\n",
       "      <td>A3JDEA2I31CSKP</td>\n",
       "      <td>B000068XMM</td>\n",
       "      <td>Iukie</td>\n",
       "      <td>1377129600</td>\n",
       "      <td>['Patio, Lawn &amp; Garden', 'Pest Control', 'Repe...</td>\n",
       "      <td>Thermacell MR150 Portable Mosquito Repeller</td>\n",
       "      <td>Thermacell</td>\n",
       "      <td>Amazon Home</td>\n",
       "      <td>3.05</td>\n",
       "      <td>the system seems to work very well it keeps bu...</td>\n",
       "      <td>0.215625</td>\n",
       "      <td>Positive</td>\n",
       "    </tr>\n",
       "  </tbody>\n",
       "</table>\n",
       "<p>88419 rows × 16 columns</p>\n",
       "</div>"
      ],
      "text/plain": [
       "       Unnamed: 0  overall  verified  reviewTime      reviewerID        asin  \\\n",
       "0               0        1      True  2015-10-29  A2WLGLBD9ZPO79  8805003557   \n",
       "1               1        5      True  2015-10-19  A3FI13YT94SYLM  8805003557   \n",
       "2               2        5      True  2015-10-13  A24EE8S2QSJM6P  8805003557   \n",
       "3               3        5      True  2015-08-19  A3RUMDD6RBYKLF  8805003557   \n",
       "4               4        2      True  2015-08-18  A3CXXIGKXWGOUG  8805003557   \n",
       "...           ...      ...       ...         ...             ...         ...   \n",
       "88414       88414        5      True  2013-08-23  A37E1Q63V1ITDE  B000068XMM   \n",
       "88415       88415        5      True  2013-08-23  A28L1K6L57ATYT  B000068XMM   \n",
       "88416       88416        2      True  2013-08-23   A3LUJFBABNZCT  B000068XMM   \n",
       "88417       88417        4      True  2013-08-22  A3VQ4T0N4V094D  B000068XMM   \n",
       "88418       88418        4      True  2013-08-22  A3JDEA2I31CSKP  B000068XMM   \n",
       "\n",
       "            reviewerName  unixReviewTime  \\\n",
       "0      Dawn Marie Martel      1446076800   \n",
       "1                  Jamie      1445212800   \n",
       "2        Gardening Megan      1444694400   \n",
       "3          Diana Gardner      1439942400   \n",
       "4          Cory Stepanek      1439856000   \n",
       "...                  ...             ...   \n",
       "88414   robert t willard      1377216000   \n",
       "88415    Kindle Customer      1377216000   \n",
       "88416         LYNN MARIE      1377216000   \n",
       "88417     K. L. Williams      1377129600   \n",
       "88418              Iukie      1377129600   \n",
       "\n",
       "                                                category  \\\n",
       "0      ['Patio, Lawn & Garden', 'Patio Furniture & Ac...   \n",
       "1      ['Patio, Lawn & Garden', 'Patio Furniture & Ac...   \n",
       "2      ['Patio, Lawn & Garden', 'Patio Furniture & Ac...   \n",
       "3      ['Patio, Lawn & Garden', 'Patio Furniture & Ac...   \n",
       "4      ['Patio, Lawn & Garden', 'Patio Furniture & Ac...   \n",
       "...                                                  ...   \n",
       "88414  ['Patio, Lawn & Garden', 'Pest Control', 'Repe...   \n",
       "88415  ['Patio, Lawn & Garden', 'Pest Control', 'Repe...   \n",
       "88416  ['Patio, Lawn & Garden', 'Pest Control', 'Repe...   \n",
       "88417  ['Patio, Lawn & Garden', 'Pest Control', 'Repe...   \n",
       "88418  ['Patio, Lawn & Garden', 'Pest Control', 'Repe...   \n",
       "\n",
       "                                                   title       brand  \\\n",
       "0      9ft Blue Sunshade Umbrella Metal Pole Outdoor ...     Unknown   \n",
       "1      9ft Blue Sunshade Umbrella Metal Pole Outdoor ...     Unknown   \n",
       "2      9ft Blue Sunshade Umbrella Metal Pole Outdoor ...     Unknown   \n",
       "3      9ft Blue Sunshade Umbrella Metal Pole Outdoor ...     Unknown   \n",
       "4      9ft Blue Sunshade Umbrella Metal Pole Outdoor ...     Unknown   \n",
       "...                                                  ...         ...   \n",
       "88414        Thermacell MR150 Portable Mosquito Repeller  Thermacell   \n",
       "88415        Thermacell MR150 Portable Mosquito Repeller  Thermacell   \n",
       "88416        Thermacell MR150 Portable Mosquito Repeller  Thermacell   \n",
       "88417        Thermacell MR150 Portable Mosquito Repeller  Thermacell   \n",
       "88418        Thermacell MR150 Portable Mosquito Repeller  Thermacell   \n",
       "\n",
       "          main_cat  price                                             Review  \\\n",
       "0      Amazon Home  51.79  fell apart in one day as soon as we put it up ...   \n",
       "1      Amazon Home  51.79                                 love it five stars   \n",
       "2      Amazon Home  51.79  love it great price sturdy arrived very quickl...   \n",
       "3      Amazon Home  51.79       excellent product and great value five stars   \n",
       "4      Amazon Home  51.79  it looks nice but the seams are not thatchers ...   \n",
       "...            ...    ...                                                ...   \n",
       "88414  Amazon Home   3.05  i have used it in my back yard and in the wood...   \n",
       "88415  Amazon Home   3.05  great for ballgames and all outdoor activities...   \n",
       "88416  Amazon Home   3.05  tried to send it back but since it s a dangero...   \n",
       "88417  Amazon Home   3.05  its just confusing when to know the canister i...   \n",
       "88418  Amazon Home   3.05  the system seems to work very well it keeps bu...   \n",
       "\n",
       "       polarity Sentiment  \n",
       "0     -0.400000  Negative  \n",
       "1      0.500000  Positive  \n",
       "2      0.633333  Positive  \n",
       "3      0.900000  Positive  \n",
       "4      0.092857  Positive  \n",
       "...         ...       ...  \n",
       "88414  0.508333  Positive  \n",
       "88415  0.470833  Positive  \n",
       "88416 -0.121429  Negative  \n",
       "88417 -0.133333  Negative  \n",
       "88418  0.215625  Positive  \n",
       "\n",
       "[88419 rows x 16 columns]"
      ]
     },
     "execution_count": 3,
     "metadata": {},
     "output_type": "execute_result"
    }
   ],
   "source": [
    "Lawn=pd.read_csv('lawn_garden_data.csv')\n",
    "Lawn"
   ]
  },
  {
   "cell_type": "code",
   "execution_count": 4,
   "id": "5ecce059",
   "metadata": {},
   "outputs": [
    {
     "name": "stdout",
     "output_type": "stream",
     "text": [
      "<class 'pandas.core.frame.DataFrame'>\n",
      "RangeIndex: 88419 entries, 0 to 88418\n",
      "Data columns (total 16 columns):\n",
      " #   Column          Non-Null Count  Dtype  \n",
      "---  ------          --------------  -----  \n",
      " 0   Unnamed: 0      88419 non-null  int64  \n",
      " 1   overall         88419 non-null  int64  \n",
      " 2   verified        88419 non-null  bool   \n",
      " 3   reviewTime      88419 non-null  object \n",
      " 4   reviewerID      88419 non-null  object \n",
      " 5   asin            88419 non-null  object \n",
      " 6   reviewerName    88417 non-null  object \n",
      " 7   unixReviewTime  88419 non-null  int64  \n",
      " 8   category        88419 non-null  object \n",
      " 9   title           88419 non-null  object \n",
      " 10  brand           88419 non-null  object \n",
      " 11  main_cat        88419 non-null  object \n",
      " 12  price           88419 non-null  float64\n",
      " 13  Review          88418 non-null  object \n",
      " 14  polarity        88419 non-null  float64\n",
      " 15  Sentiment       88419 non-null  object \n",
      "dtypes: bool(1), float64(2), int64(3), object(10)\n",
      "memory usage: 10.2+ MB\n"
     ]
    }
   ],
   "source": [
    "Lawn.info()"
   ]
  },
  {
   "cell_type": "code",
   "execution_count": 5,
   "id": "ad16577a",
   "metadata": {},
   "outputs": [],
   "source": [
    "Lawn[\"reviewTime\"] = pd.to_datetime(Lawn[\"reviewTime\"])"
   ]
  },
  {
   "cell_type": "code",
   "execution_count": 6,
   "id": "0627d14d",
   "metadata": {},
   "outputs": [
    {
     "name": "stdout",
     "output_type": "stream",
     "text": [
      "<class 'pandas.core.frame.DataFrame'>\n",
      "RangeIndex: 88419 entries, 0 to 88418\n",
      "Data columns (total 16 columns):\n",
      " #   Column          Non-Null Count  Dtype         \n",
      "---  ------          --------------  -----         \n",
      " 0   Unnamed: 0      88419 non-null  int64         \n",
      " 1   overall         88419 non-null  int64         \n",
      " 2   verified        88419 non-null  bool          \n",
      " 3   reviewTime      88419 non-null  datetime64[ns]\n",
      " 4   reviewerID      88419 non-null  object        \n",
      " 5   asin            88419 non-null  object        \n",
      " 6   reviewerName    88417 non-null  object        \n",
      " 7   unixReviewTime  88419 non-null  int64         \n",
      " 8   category        88419 non-null  object        \n",
      " 9   title           88419 non-null  object        \n",
      " 10  brand           88419 non-null  object        \n",
      " 11  main_cat        88419 non-null  object        \n",
      " 12  price           88419 non-null  float64       \n",
      " 13  Review          88418 non-null  object        \n",
      " 14  polarity        88419 non-null  float64       \n",
      " 15  Sentiment       88419 non-null  object        \n",
      "dtypes: bool(1), datetime64[ns](1), float64(2), int64(3), object(9)\n",
      "memory usage: 10.2+ MB\n"
     ]
    }
   ],
   "source": [
    "Lawn.info()"
   ]
  },
  {
   "cell_type": "code",
   "execution_count": 7,
   "id": "f8cc4143",
   "metadata": {},
   "outputs": [],
   "source": [
    " # drop unnamed column"
   ]
  },
  {
   "cell_type": "code",
   "execution_count": 8,
   "id": "c8a8e52a",
   "metadata": {},
   "outputs": [],
   "source": [
    "Lawn.drop('Unnamed: 0',axis=1,inplace=True)         "
   ]
  },
  {
   "cell_type": "code",
   "execution_count": 9,
   "id": "6d7542a8",
   "metadata": {},
   "outputs": [
    {
     "data": {
      "text/plain": [
       "(88419, 15)"
      ]
     },
     "execution_count": 9,
     "metadata": {},
     "output_type": "execute_result"
    }
   ],
   "source": [
    "Lawn.shape"
   ]
  },
  {
   "cell_type": "code",
   "execution_count": 10,
   "id": "5c3da75d",
   "metadata": {},
   "outputs": [],
   "source": [
    "#check null value"
   ]
  },
  {
   "cell_type": "code",
   "execution_count": 11,
   "id": "d812130c",
   "metadata": {},
   "outputs": [
    {
     "data": {
      "text/plain": [
       "overall           0\n",
       "verified          0\n",
       "reviewTime        0\n",
       "reviewerID        0\n",
       "asin              0\n",
       "reviewerName      2\n",
       "unixReviewTime    0\n",
       "category          0\n",
       "title             0\n",
       "brand             0\n",
       "main_cat          0\n",
       "price             0\n",
       "Review            1\n",
       "polarity          0\n",
       "Sentiment         0\n",
       "dtype: int64"
      ]
     },
     "execution_count": 11,
     "metadata": {},
     "output_type": "execute_result"
    }
   ],
   "source": [
    "Lawn.isnull().sum() "
   ]
  },
  {
   "cell_type": "code",
   "execution_count": 12,
   "id": "bb2b7e60",
   "metadata": {},
   "outputs": [],
   "source": [
    "#drop null value"
   ]
  },
  {
   "cell_type": "code",
   "execution_count": 13,
   "id": "899d4327",
   "metadata": {},
   "outputs": [],
   "source": [
    "Lawn.dropna(inplace=True)  "
   ]
  },
  {
   "cell_type": "code",
   "execution_count": 14,
   "id": "1dcd85b9",
   "metadata": {},
   "outputs": [
    {
     "data": {
      "text/plain": [
       "overall           0\n",
       "verified          0\n",
       "reviewTime        0\n",
       "reviewerID        0\n",
       "asin              0\n",
       "reviewerName      0\n",
       "unixReviewTime    0\n",
       "category          0\n",
       "title             0\n",
       "brand             0\n",
       "main_cat          0\n",
       "price             0\n",
       "Review            0\n",
       "polarity          0\n",
       "Sentiment         0\n",
       "dtype: int64"
      ]
     },
     "execution_count": 14,
     "metadata": {},
     "output_type": "execute_result"
    }
   ],
   "source": [
    "Lawn.isnull().sum() "
   ]
  },
  {
   "cell_type": "code",
   "execution_count": 15,
   "id": "4980c996",
   "metadata": {},
   "outputs": [
    {
     "data": {
      "text/html": [
       "<div>\n",
       "<style scoped>\n",
       "    .dataframe tbody tr th:only-of-type {\n",
       "        vertical-align: middle;\n",
       "    }\n",
       "\n",
       "    .dataframe tbody tr th {\n",
       "        vertical-align: top;\n",
       "    }\n",
       "\n",
       "    .dataframe thead th {\n",
       "        text-align: right;\n",
       "    }\n",
       "</style>\n",
       "<table border=\"1\" class=\"dataframe\">\n",
       "  <thead>\n",
       "    <tr style=\"text-align: right;\">\n",
       "      <th></th>\n",
       "      <th>overall</th>\n",
       "      <th>verified</th>\n",
       "      <th>reviewTime</th>\n",
       "      <th>reviewerID</th>\n",
       "      <th>asin</th>\n",
       "      <th>reviewerName</th>\n",
       "      <th>unixReviewTime</th>\n",
       "      <th>category</th>\n",
       "      <th>title</th>\n",
       "      <th>brand</th>\n",
       "      <th>main_cat</th>\n",
       "      <th>price</th>\n",
       "      <th>Review</th>\n",
       "      <th>polarity</th>\n",
       "      <th>Sentiment</th>\n",
       "    </tr>\n",
       "  </thead>\n",
       "  <tbody>\n",
       "    <tr>\n",
       "      <th>0</th>\n",
       "      <td>1</td>\n",
       "      <td>True</td>\n",
       "      <td>2015-10-29</td>\n",
       "      <td>A2WLGLBD9ZPO79</td>\n",
       "      <td>8805003557</td>\n",
       "      <td>Dawn Marie Martel</td>\n",
       "      <td>1446076800</td>\n",
       "      <td>['Patio, Lawn &amp; Garden', 'Patio Furniture &amp; Ac...</td>\n",
       "      <td>9ft Blue Sunshade Umbrella Metal Pole Outdoor ...</td>\n",
       "      <td>Unknown</td>\n",
       "      <td>Amazon Home</td>\n",
       "      <td>51.79</td>\n",
       "      <td>fell apart in one day as soon as we put it up ...</td>\n",
       "      <td>-0.4</td>\n",
       "      <td>Negative</td>\n",
       "    </tr>\n",
       "    <tr>\n",
       "      <th>1</th>\n",
       "      <td>5</td>\n",
       "      <td>True</td>\n",
       "      <td>2015-10-19</td>\n",
       "      <td>A3FI13YT94SYLM</td>\n",
       "      <td>8805003557</td>\n",
       "      <td>Jamie</td>\n",
       "      <td>1445212800</td>\n",
       "      <td>['Patio, Lawn &amp; Garden', 'Patio Furniture &amp; Ac...</td>\n",
       "      <td>9ft Blue Sunshade Umbrella Metal Pole Outdoor ...</td>\n",
       "      <td>Unknown</td>\n",
       "      <td>Amazon Home</td>\n",
       "      <td>51.79</td>\n",
       "      <td>love it five stars</td>\n",
       "      <td>0.5</td>\n",
       "      <td>Positive</td>\n",
       "    </tr>\n",
       "  </tbody>\n",
       "</table>\n",
       "</div>"
      ],
      "text/plain": [
       "   overall  verified reviewTime      reviewerID        asin  \\\n",
       "0        1      True 2015-10-29  A2WLGLBD9ZPO79  8805003557   \n",
       "1        5      True 2015-10-19  A3FI13YT94SYLM  8805003557   \n",
       "\n",
       "        reviewerName  unixReviewTime  \\\n",
       "0  Dawn Marie Martel      1446076800   \n",
       "1              Jamie      1445212800   \n",
       "\n",
       "                                            category  \\\n",
       "0  ['Patio, Lawn & Garden', 'Patio Furniture & Ac...   \n",
       "1  ['Patio, Lawn & Garden', 'Patio Furniture & Ac...   \n",
       "\n",
       "                                               title    brand     main_cat  \\\n",
       "0  9ft Blue Sunshade Umbrella Metal Pole Outdoor ...  Unknown  Amazon Home   \n",
       "1  9ft Blue Sunshade Umbrella Metal Pole Outdoor ...  Unknown  Amazon Home   \n",
       "\n",
       "   price                                             Review  polarity  \\\n",
       "0  51.79  fell apart in one day as soon as we put it up ...      -0.4   \n",
       "1  51.79                                 love it five stars       0.5   \n",
       "\n",
       "  Sentiment  \n",
       "0  Negative  \n",
       "1  Positive  "
      ]
     },
     "execution_count": 15,
     "metadata": {},
     "output_type": "execute_result"
    }
   ],
   "source": [
    "Lawn.head(2)"
   ]
  },
  {
   "cell_type": "code",
   "execution_count": 16,
   "id": "a53d7a5e",
   "metadata": {},
   "outputs": [],
   "source": [
    "Lawn.sort_values(by=[\"reviewTime\"],inplace=True)"
   ]
  },
  {
   "cell_type": "code",
   "execution_count": 17,
   "id": "392f6868",
   "metadata": {},
   "outputs": [
    {
     "data": {
      "text/html": [
       "<div>\n",
       "<style scoped>\n",
       "    .dataframe tbody tr th:only-of-type {\n",
       "        vertical-align: middle;\n",
       "    }\n",
       "\n",
       "    .dataframe tbody tr th {\n",
       "        vertical-align: top;\n",
       "    }\n",
       "\n",
       "    .dataframe thead th {\n",
       "        text-align: right;\n",
       "    }\n",
       "</style>\n",
       "<table border=\"1\" class=\"dataframe\">\n",
       "  <thead>\n",
       "    <tr style=\"text-align: right;\">\n",
       "      <th></th>\n",
       "      <th>overall</th>\n",
       "      <th>verified</th>\n",
       "      <th>reviewTime</th>\n",
       "      <th>reviewerID</th>\n",
       "      <th>asin</th>\n",
       "      <th>reviewerName</th>\n",
       "      <th>unixReviewTime</th>\n",
       "      <th>category</th>\n",
       "      <th>title</th>\n",
       "      <th>brand</th>\n",
       "      <th>main_cat</th>\n",
       "      <th>price</th>\n",
       "      <th>Review</th>\n",
       "      <th>polarity</th>\n",
       "      <th>Sentiment</th>\n",
       "    </tr>\n",
       "  </thead>\n",
       "  <tbody>\n",
       "    <tr>\n",
       "      <th>2596</th>\n",
       "      <td>3</td>\n",
       "      <td>False</td>\n",
       "      <td>1999-12-13</td>\n",
       "      <td>A3GC0EL0VHT1UP</td>\n",
       "      <td>B00002N66H</td>\n",
       "      <td>Jay Ciucci</td>\n",
       "      <td>945043200</td>\n",
       "      <td>['Patio, Lawn &amp; Garden', 'Fiskars']</td>\n",
       "      <td>Fiskars 91095935J Steel Bypass Pruning Shears</td>\n",
       "      <td>Fiskars</td>\n",
       "      <td>Amazon Home</td>\n",
       "      <td>11.98</td>\n",
       "      <td>the blades are sharp the capacity is good but ...</td>\n",
       "      <td>0.131250</td>\n",
       "      <td>Positive</td>\n",
       "    </tr>\n",
       "    <tr>\n",
       "      <th>21</th>\n",
       "      <td>5</td>\n",
       "      <td>False</td>\n",
       "      <td>2000-03-19</td>\n",
       "      <td>A9Q28YTLYREO7</td>\n",
       "      <td>B0000001QY</td>\n",
       "      <td>MAXIMILLIAN MUHAMMAD</td>\n",
       "      <td>953424000</td>\n",
       "      <td>['Patio, Lawn &amp; Garden', 'Gardening &amp; Lawn Car...</td>\n",
       "      <td>Collection</td>\n",
       "      <td>Larry Carlton</td>\n",
       "      <td>&lt;img src=\"https://images-na.ssl-images-amazon....</td>\n",
       "      <td>6.92</td>\n",
       "      <td>this disc has some great solid performances on...</td>\n",
       "      <td>0.402857</td>\n",
       "      <td>Positive</td>\n",
       "    </tr>\n",
       "  </tbody>\n",
       "</table>\n",
       "</div>"
      ],
      "text/plain": [
       "      overall  verified reviewTime      reviewerID        asin  \\\n",
       "2596        3     False 1999-12-13  A3GC0EL0VHT1UP  B00002N66H   \n",
       "21          5     False 2000-03-19   A9Q28YTLYREO7  B0000001QY   \n",
       "\n",
       "              reviewerName  unixReviewTime  \\\n",
       "2596            Jay Ciucci       945043200   \n",
       "21    MAXIMILLIAN MUHAMMAD       953424000   \n",
       "\n",
       "                                               category  \\\n",
       "2596                ['Patio, Lawn & Garden', 'Fiskars']   \n",
       "21    ['Patio, Lawn & Garden', 'Gardening & Lawn Car...   \n",
       "\n",
       "                                              title          brand  \\\n",
       "2596  Fiskars 91095935J Steel Bypass Pruning Shears        Fiskars   \n",
       "21                                       Collection  Larry Carlton   \n",
       "\n",
       "                                               main_cat  price  \\\n",
       "2596                                        Amazon Home  11.98   \n",
       "21    <img src=\"https://images-na.ssl-images-amazon....   6.92   \n",
       "\n",
       "                                                 Review  polarity Sentiment  \n",
       "2596  the blades are sharp the capacity is good but ...  0.131250  Positive  \n",
       "21    this disc has some great solid performances on...  0.402857  Positive  "
      ]
     },
     "execution_count": 17,
     "metadata": {},
     "output_type": "execute_result"
    }
   ],
   "source": [
    "Lawn.head(2)"
   ]
  },
  {
   "cell_type": "code",
   "execution_count": 18,
   "id": "65528b8e",
   "metadata": {},
   "outputs": [
    {
     "data": {
      "text/html": [
       "<div>\n",
       "<style scoped>\n",
       "    .dataframe tbody tr th:only-of-type {\n",
       "        vertical-align: middle;\n",
       "    }\n",
       "\n",
       "    .dataframe tbody tr th {\n",
       "        vertical-align: top;\n",
       "    }\n",
       "\n",
       "    .dataframe thead th {\n",
       "        text-align: right;\n",
       "    }\n",
       "</style>\n",
       "<table border=\"1\" class=\"dataframe\">\n",
       "  <thead>\n",
       "    <tr style=\"text-align: right;\">\n",
       "      <th></th>\n",
       "      <th>overall</th>\n",
       "      <th>verified</th>\n",
       "      <th>reviewerID</th>\n",
       "      <th>asin</th>\n",
       "      <th>reviewerName</th>\n",
       "      <th>unixReviewTime</th>\n",
       "      <th>category</th>\n",
       "      <th>title</th>\n",
       "      <th>brand</th>\n",
       "      <th>main_cat</th>\n",
       "      <th>price</th>\n",
       "      <th>Review</th>\n",
       "      <th>polarity</th>\n",
       "      <th>Sentiment</th>\n",
       "    </tr>\n",
       "    <tr>\n",
       "      <th>reviewTime</th>\n",
       "      <th></th>\n",
       "      <th></th>\n",
       "      <th></th>\n",
       "      <th></th>\n",
       "      <th></th>\n",
       "      <th></th>\n",
       "      <th></th>\n",
       "      <th></th>\n",
       "      <th></th>\n",
       "      <th></th>\n",
       "      <th></th>\n",
       "      <th></th>\n",
       "      <th></th>\n",
       "      <th></th>\n",
       "    </tr>\n",
       "  </thead>\n",
       "  <tbody>\n",
       "    <tr>\n",
       "      <th>1999-12-13</th>\n",
       "      <td>3</td>\n",
       "      <td>False</td>\n",
       "      <td>A3GC0EL0VHT1UP</td>\n",
       "      <td>B00002N66H</td>\n",
       "      <td>Jay Ciucci</td>\n",
       "      <td>945043200</td>\n",
       "      <td>['Patio, Lawn &amp; Garden', 'Fiskars']</td>\n",
       "      <td>Fiskars 91095935J Steel Bypass Pruning Shears</td>\n",
       "      <td>Fiskars</td>\n",
       "      <td>Amazon Home</td>\n",
       "      <td>11.98</td>\n",
       "      <td>the blades are sharp the capacity is good but ...</td>\n",
       "      <td>0.131250</td>\n",
       "      <td>Positive</td>\n",
       "    </tr>\n",
       "    <tr>\n",
       "      <th>2000-03-19</th>\n",
       "      <td>5</td>\n",
       "      <td>False</td>\n",
       "      <td>A9Q28YTLYREO7</td>\n",
       "      <td>B0000001QY</td>\n",
       "      <td>MAXIMILLIAN MUHAMMAD</td>\n",
       "      <td>953424000</td>\n",
       "      <td>['Patio, Lawn &amp; Garden', 'Gardening &amp; Lawn Car...</td>\n",
       "      <td>Collection</td>\n",
       "      <td>Larry Carlton</td>\n",
       "      <td>&lt;img src=\"https://images-na.ssl-images-amazon....</td>\n",
       "      <td>6.92</td>\n",
       "      <td>this disc has some great solid performances on...</td>\n",
       "      <td>0.402857</td>\n",
       "      <td>Positive</td>\n",
       "    </tr>\n",
       "    <tr>\n",
       "      <th>2000-04-05</th>\n",
       "      <td>4</td>\n",
       "      <td>False</td>\n",
       "      <td>AVBLGXSWRN666</td>\n",
       "      <td>B00004RA1S</td>\n",
       "      <td>S. Jentsch</td>\n",
       "      <td>954892800</td>\n",
       "      <td>['Patio, Lawn &amp; Garden', 'Gardening &amp; Lawn Car...</td>\n",
       "      <td>Garden Weasel Gold Garden Claw Cultivator 9130...</td>\n",
       "      <td>Garden Weasel</td>\n",
       "      <td>Amazon Home</td>\n",
       "      <td>89.99</td>\n",
       "      <td>this is a handy tool for cultivating small are...</td>\n",
       "      <td>0.355844</td>\n",
       "      <td>Positive</td>\n",
       "    </tr>\n",
       "    <tr>\n",
       "      <th>2000-05-01</th>\n",
       "      <td>5</td>\n",
       "      <td>True</td>\n",
       "      <td>A2ECNMZXWB94FR</td>\n",
       "      <td>B00004DTNH</td>\n",
       "      <td>K. J. Jarnot</td>\n",
       "      <td>957139200</td>\n",
       "      <td>['Patio, Lawn &amp; Garden', 'Gardening &amp; Lawn Car...</td>\n",
       "      <td>BLACK+DECKER LE750 12 Amp 2-in-1 Landscape Edg...</td>\n",
       "      <td>BLACK+DECKER</td>\n",
       "      <td>Amazon Home</td>\n",
       "      <td>5.71</td>\n",
       "      <td>very easy to use you can easily get straight e...</td>\n",
       "      <td>0.431333</td>\n",
       "      <td>Positive</td>\n",
       "    </tr>\n",
       "    <tr>\n",
       "      <th>2000-05-02</th>\n",
       "      <td>4</td>\n",
       "      <td>False</td>\n",
       "      <td>A392PQ1N5ICL2M</td>\n",
       "      <td>B00002N8LL</td>\n",
       "      <td>Paul Rogers</td>\n",
       "      <td>957225600</td>\n",
       "      <td>['Patio, Lawn &amp; Garden', 'Gardening &amp; Lawn Car...</td>\n",
       "      <td>Hudson 60136 Rose N Garden 1/2 Gallon Sprayer ...</td>\n",
       "      <td>HD Hudson</td>\n",
       "      <td>Amazon Home</td>\n",
       "      <td>2.78</td>\n",
       "      <td>i like these a lot i ve got two one for insect...</td>\n",
       "      <td>0.202262</td>\n",
       "      <td>Positive</td>\n",
       "    </tr>\n",
       "  </tbody>\n",
       "</table>\n",
       "</div>"
      ],
      "text/plain": [
       "            overall  verified      reviewerID        asin  \\\n",
       "reviewTime                                                  \n",
       "1999-12-13        3     False  A3GC0EL0VHT1UP  B00002N66H   \n",
       "2000-03-19        5     False   A9Q28YTLYREO7  B0000001QY   \n",
       "2000-04-05        4     False   AVBLGXSWRN666  B00004RA1S   \n",
       "2000-05-01        5      True  A2ECNMZXWB94FR  B00004DTNH   \n",
       "2000-05-02        4     False  A392PQ1N5ICL2M  B00002N8LL   \n",
       "\n",
       "                    reviewerName  unixReviewTime  \\\n",
       "reviewTime                                         \n",
       "1999-12-13            Jay Ciucci       945043200   \n",
       "2000-03-19  MAXIMILLIAN MUHAMMAD       953424000   \n",
       "2000-04-05            S. Jentsch       954892800   \n",
       "2000-05-01          K. J. Jarnot       957139200   \n",
       "2000-05-02           Paul Rogers       957225600   \n",
       "\n",
       "                                                     category  \\\n",
       "reviewTime                                                      \n",
       "1999-12-13                ['Patio, Lawn & Garden', 'Fiskars']   \n",
       "2000-03-19  ['Patio, Lawn & Garden', 'Gardening & Lawn Car...   \n",
       "2000-04-05  ['Patio, Lawn & Garden', 'Gardening & Lawn Car...   \n",
       "2000-05-01  ['Patio, Lawn & Garden', 'Gardening & Lawn Car...   \n",
       "2000-05-02  ['Patio, Lawn & Garden', 'Gardening & Lawn Car...   \n",
       "\n",
       "                                                        title          brand  \\\n",
       "reviewTime                                                                     \n",
       "1999-12-13      Fiskars 91095935J Steel Bypass Pruning Shears        Fiskars   \n",
       "2000-03-19                                         Collection  Larry Carlton   \n",
       "2000-04-05  Garden Weasel Gold Garden Claw Cultivator 9130...  Garden Weasel   \n",
       "2000-05-01  BLACK+DECKER LE750 12 Amp 2-in-1 Landscape Edg...   BLACK+DECKER   \n",
       "2000-05-02  Hudson 60136 Rose N Garden 1/2 Gallon Sprayer ...      HD Hudson   \n",
       "\n",
       "                                                     main_cat  price  \\\n",
       "reviewTime                                                             \n",
       "1999-12-13                                        Amazon Home  11.98   \n",
       "2000-03-19  <img src=\"https://images-na.ssl-images-amazon....   6.92   \n",
       "2000-04-05                                        Amazon Home  89.99   \n",
       "2000-05-01                                        Amazon Home   5.71   \n",
       "2000-05-02                                        Amazon Home   2.78   \n",
       "\n",
       "                                                       Review  polarity  \\\n",
       "reviewTime                                                                \n",
       "1999-12-13  the blades are sharp the capacity is good but ...  0.131250   \n",
       "2000-03-19  this disc has some great solid performances on...  0.402857   \n",
       "2000-04-05  this is a handy tool for cultivating small are...  0.355844   \n",
       "2000-05-01  very easy to use you can easily get straight e...  0.431333   \n",
       "2000-05-02  i like these a lot i ve got two one for insect...  0.202262   \n",
       "\n",
       "           Sentiment  \n",
       "reviewTime            \n",
       "1999-12-13  Positive  \n",
       "2000-03-19  Positive  \n",
       "2000-04-05  Positive  \n",
       "2000-05-01  Positive  \n",
       "2000-05-02  Positive  "
      ]
     },
     "execution_count": 18,
     "metadata": {},
     "output_type": "execute_result"
    }
   ],
   "source": [
    "Lawn= Lawn.set_index('reviewTime')\n",
    "Lawn.head()"
   ]
  },
  {
   "cell_type": "code",
   "execution_count": 19,
   "id": "ddda9c11",
   "metadata": {},
   "outputs": [
    {
     "data": {
      "text/plain": [
       "Index(['overall', 'verified', 'reviewerID', 'asin', 'reviewerName',\n",
       "       'unixReviewTime', 'category', 'title', 'brand', 'main_cat', 'price',\n",
       "       'Review', 'polarity', 'Sentiment'],\n",
       "      dtype='object')"
      ]
     },
     "execution_count": 19,
     "metadata": {},
     "output_type": "execute_result"
    }
   ],
   "source": [
    "Lawn.columns"
   ]
  },
  {
   "cell_type": "code",
   "execution_count": 20,
   "id": "bde55065",
   "metadata": {},
   "outputs": [
    {
     "data": {
      "text/html": [
       "<div>\n",
       "<style scoped>\n",
       "    .dataframe tbody tr th:only-of-type {\n",
       "        vertical-align: middle;\n",
       "    }\n",
       "\n",
       "    .dataframe tbody tr th {\n",
       "        vertical-align: top;\n",
       "    }\n",
       "\n",
       "    .dataframe thead th {\n",
       "        text-align: right;\n",
       "    }\n",
       "</style>\n",
       "<table border=\"1\" class=\"dataframe\">\n",
       "  <thead>\n",
       "    <tr style=\"text-align: right;\">\n",
       "      <th></th>\n",
       "      <th>polarity</th>\n",
       "    </tr>\n",
       "    <tr>\n",
       "      <th>reviewTime</th>\n",
       "      <th></th>\n",
       "    </tr>\n",
       "  </thead>\n",
       "  <tbody>\n",
       "    <tr>\n",
       "      <th>1999-12-13</th>\n",
       "      <td>0.131250</td>\n",
       "    </tr>\n",
       "    <tr>\n",
       "      <th>2000-03-19</th>\n",
       "      <td>0.402857</td>\n",
       "    </tr>\n",
       "    <tr>\n",
       "      <th>2000-04-05</th>\n",
       "      <td>0.355844</td>\n",
       "    </tr>\n",
       "    <tr>\n",
       "      <th>2000-05-01</th>\n",
       "      <td>0.431333</td>\n",
       "    </tr>\n",
       "    <tr>\n",
       "      <th>2000-05-02</th>\n",
       "      <td>0.202262</td>\n",
       "    </tr>\n",
       "    <tr>\n",
       "      <th>...</th>\n",
       "      <td>...</td>\n",
       "    </tr>\n",
       "    <tr>\n",
       "      <th>2018-05-14</th>\n",
       "      <td>0.309524</td>\n",
       "    </tr>\n",
       "    <tr>\n",
       "      <th>2018-05-14</th>\n",
       "      <td>0.103333</td>\n",
       "    </tr>\n",
       "    <tr>\n",
       "      <th>2018-05-14</th>\n",
       "      <td>0.134792</td>\n",
       "    </tr>\n",
       "    <tr>\n",
       "      <th>2018-05-14</th>\n",
       "      <td>0.000000</td>\n",
       "    </tr>\n",
       "    <tr>\n",
       "      <th>2018-05-14</th>\n",
       "      <td>0.000000</td>\n",
       "    </tr>\n",
       "  </tbody>\n",
       "</table>\n",
       "<p>88416 rows × 1 columns</p>\n",
       "</div>"
      ],
      "text/plain": [
       "            polarity\n",
       "reviewTime          \n",
       "1999-12-13  0.131250\n",
       "2000-03-19  0.402857\n",
       "2000-04-05  0.355844\n",
       "2000-05-01  0.431333\n",
       "2000-05-02  0.202262\n",
       "...              ...\n",
       "2018-05-14  0.309524\n",
       "2018-05-14  0.103333\n",
       "2018-05-14  0.134792\n",
       "2018-05-14  0.000000\n",
       "2018-05-14  0.000000\n",
       "\n",
       "[88416 rows x 1 columns]"
      ]
     },
     "execution_count": 20,
     "metadata": {},
     "output_type": "execute_result"
    }
   ],
   "source": [
    "df=Lawn[['polarity']]\n",
    "df"
   ]
  },
  {
   "cell_type": "code",
   "execution_count": 21,
   "id": "f54a07da",
   "metadata": {},
   "outputs": [],
   "source": [
    "import matplotlib.pyplot as plt"
   ]
  },
  {
   "cell_type": "code",
   "execution_count": 22,
   "id": "3edab1df",
   "metadata": {},
   "outputs": [],
   "source": [
    "# resample the data by month"
   ]
  },
  {
   "cell_type": "code",
   "execution_count": 23,
   "id": "79aa3795",
   "metadata": {},
   "outputs": [],
   "source": [
    "df= df.resample('MS').mean()"
   ]
  },
  {
   "cell_type": "code",
   "execution_count": 24,
   "id": "27ee9c74",
   "metadata": {},
   "outputs": [
    {
     "data": {
      "text/plain": [
       "polarity    2\n",
       "dtype: int64"
      ]
     },
     "execution_count": 24,
     "metadata": {},
     "output_type": "execute_result"
    }
   ],
   "source": [
    "df.isnull().sum()"
   ]
  },
  {
   "cell_type": "code",
   "execution_count": 25,
   "id": "5eb3b5d8",
   "metadata": {},
   "outputs": [
    {
     "data": {
      "text/plain": [
       "[<matplotlib.lines.Line2D at 0x176d2f4cf40>]"
      ]
     },
     "execution_count": 25,
     "metadata": {},
     "output_type": "execute_result"
    },
    {
     "data": {
      "image/png": "[encoded data removed]",
      "text/plain": [
       "<Figure size 640x480 with 1 Axes>"
      ]
     },
     "metadata": {},
     "output_type": "display_data"
    }
   ],
   "source": [
    "plt.plot(df)"
   ]
  },
  {
   "cell_type": "code",
   "execution_count": 26,
   "id": "a0f51d8a",
   "metadata": {},
   "outputs": [],
   "source": [
    "df[\"polarity\"] = df[\"polarity\"].interpolate(option=\"spline\")"
   ]
  },
  {
   "cell_type": "code",
   "execution_count": 27,
   "id": "124cdb1a",
   "metadata": {},
   "outputs": [
    {
     "data": {
      "text/plain": [
       "polarity    0\n",
       "dtype: int64"
      ]
     },
     "execution_count": 27,
     "metadata": {},
     "output_type": "execute_result"
    }
   ],
   "source": [
    "df.isnull().sum()"
   ]
  },
  {
   "cell_type": "code",
   "execution_count": 28,
   "id": "5ef82f59",
   "metadata": {},
   "outputs": [],
   "source": [
    "# Decompose"
   ]
  },
  {
   "cell_type": "code",
   "execution_count": 29,
   "id": "c48eacf1",
   "metadata": {},
   "outputs": [],
   "source": [
    "import matplotlib.pyplot as plt"
   ]
  },
  {
   "cell_type": "code",
   "execution_count": 30,
   "id": "2ee9a5a0",
   "metadata": {},
   "outputs": [],
   "source": [
    "d = seasonal_decompose(df, period = 12)\n",
    "d_trend = d.trend\n",
    "d_seasonal = d.seasonal\n",
    "d_residual = d.resid"
   ]
  },
  {
   "cell_type": "code",
   "execution_count": 31,
   "id": "85e21ba0",
   "metadata": {},
   "outputs": [
    {
     "data": {
      "text/plain": [
       "[<matplotlib.lines.Line2D at 0x176d4126280>]"
      ]
     },
     "execution_count": 31,
     "metadata": {},
     "output_type": "execute_result"
    },
    {
     "data": {
      "image/png": "[encoded data removed]",
      "text/plain": [
       "<Figure size 1100x1200 with 4 Axes>"
      ]
     },
     "metadata": {},
     "output_type": "display_data"
    }
   ],
   "source": [
    "fig, ax = plt.subplots(4,1,figsize = (11,12))\n",
    "plt.subplot(411)\n",
    "plt.plot(df)\n",
    "plt.subplot(412)\n",
    "plt.plot(d_trend)\n",
    "plt.subplot(413)\n",
    "plt.plot(d_seasonal)\n",
    "plt.subplot(414)\n",
    "plt.plot(d_residual)"
   ]
  },
  {
   "cell_type": "code",
   "execution_count": 32,
   "id": "4e60d5ce",
   "metadata": {},
   "outputs": [],
   "source": [
    "# statinary check"
   ]
  },
  {
   "cell_type": "code",
   "execution_count": 33,
   "id": "37b7ee4d",
   "metadata": {},
   "outputs": [],
   "source": [
    "from statsmodels.tsa.stattools import adfuller"
   ]
  },
  {
   "cell_type": "code",
   "execution_count": 34,
   "id": "e0492c39",
   "metadata": {},
   "outputs": [],
   "source": [
    "def check_data(data):\n",
    "    pvalue = adfuller(data)[1]\n",
    "    print(\"pvalue\",pvalue)\n",
    "    if pvalue < 0.05:\n",
    "        msg = \"Data is stationary\"\n",
    "    else:\n",
    "        msg = \"Data is not stationary\"\n",
    "    return msg"
   ]
  },
  {
   "cell_type": "code",
   "execution_count": 35,
   "id": "80b81a5a",
   "metadata": {},
   "outputs": [
    {
     "name": "stdout",
     "output_type": "stream",
     "text": [
      "pvalue 0.5159710908222658\n"
     ]
    },
    {
     "data": {
      "text/plain": [
       "'Data is not stationary'"
      ]
     },
     "execution_count": 35,
     "metadata": {},
     "output_type": "execute_result"
    }
   ],
   "source": [
    "check_data(df)"
   ]
  },
  {
   "cell_type": "code",
   "execution_count": 36,
   "id": "0ca8dd80",
   "metadata": {},
   "outputs": [
    {
     "name": "stdout",
     "output_type": "stream",
     "text": [
      "pvalue 3.141565764851848e-13\n",
      "Shift value 1 Data is stationary\n"
     ]
    }
   ],
   "source": [
    "for i in range(1,5):\n",
    "    x = df-df.shift(i)\n",
    "    x.dropna(inplace=True)\n",
    "    msg = check_data(x)\n",
    "    if msg == \"Data is stationary\":\n",
    "        print(\"Shift value\",i,msg)\n",
    "        break"
   ]
  },
  {
   "cell_type": "code",
   "execution_count": 37,
   "id": "d80ec01c",
   "metadata": {},
   "outputs": [],
   "source": [
    "# acf, pacf"
   ]
  },
  {
   "cell_type": "code",
   "execution_count": 38,
   "id": "1f02943a",
   "metadata": {},
   "outputs": [],
   "source": [
    "import statsmodels.api as sm\n",
    "from statsmodels.graphics.tsaplots import plot_acf, plot_pacf"
   ]
  },
  {
   "cell_type": "code",
   "execution_count": 39,
   "id": "32dad503",
   "metadata": {},
   "outputs": [
    {
     "name": "stderr",
     "output_type": "stream",
     "text": [
      "C:\\Users\\lenovo\\anaconda3\\lib\\site-packages\\statsmodels\\graphics\\tsaplots.py:348: FutureWarning: The default method 'yw' can produce PACF values outside of the [-1,1] interval. After 0.13, the default will change tounadjusted Yule-Walker ('ywm'). You can use this method now by setting method='ywm'.\n",
      "  warnings.warn(\n"
     ]
    },
    {
     "data": {
      "image/png": "[encoded data removed]",
      "text/plain": [
       "<Figure size 600x700 with 2 Axes>"
      ]
     },
     "metadata": {},
     "output_type": "display_data"
    }
   ],
   "source": [
    "fig = plt.figure(figsize = (6,7))\n",
    "ax1 = fig.add_subplot(211)\n",
    "sm.graphics.tsa.plot_acf(df, lags=20, ax=ax1)\n",
    "\n",
    "ax2 = fig.add_subplot(212)\n",
    "sm.graphics.tsa.plot_pacf(df, lags=20, ax=ax2);"
   ]
  },
  {
   "cell_type": "code",
   "execution_count": 41,
   "id": "65a2d0b2",
   "metadata": {},
   "outputs": [],
   "source": [
    "q = 12 \n",
    "p = 5\n",
    "d = 1"
   ]
  },
  {
   "cell_type": "code",
   "execution_count": 42,
   "id": "5c51df74",
   "metadata": {},
   "outputs": [
    {
     "name": "stdout",
     "output_type": "stream",
     "text": [
      "p is  0 q is  0 AIC is -685.5470922608977\n",
      "p is  0 q is  1 AIC is -760.7928495956114\n",
      "p is  0 q is  2 AIC is -769.39303591984\n",
      "p is  0 q is  3 AIC is -767.9039639639597\n",
      "p is  0 q is  4 AIC is -766.6493928462409\n"
     ]
    },
    {
     "name": "stderr",
     "output_type": "stream",
     "text": [
      "C:\\Users\\lenovo\\anaconda3\\lib\\site-packages\\statsmodels\\tsa\\statespace\\sarimax.py:978: UserWarning: Non-invertible starting MA parameters found. Using zeros as starting parameters.\n",
      "  warn('Non-invertible starting MA parameters found.'\n"
     ]
    },
    {
     "name": "stdout",
     "output_type": "stream",
     "text": [
      "p is  0 q is  5 AIC is -767.1630564368315\n"
     ]
    },
    {
     "name": "stderr",
     "output_type": "stream",
     "text": [
      "C:\\Users\\lenovo\\anaconda3\\lib\\site-packages\\statsmodels\\tsa\\statespace\\sarimax.py:978: UserWarning: Non-invertible starting MA parameters found. Using zeros as starting parameters.\n",
      "  warn('Non-invertible starting MA parameters found.'\n"
     ]
    },
    {
     "name": "stdout",
     "output_type": "stream",
     "text": [
      "p is  0 q is  6 AIC is -774.4944766818478\n"
     ]
    },
    {
     "name": "stderr",
     "output_type": "stream",
     "text": [
      "C:\\Users\\lenovo\\anaconda3\\lib\\site-packages\\statsmodels\\base\\model.py:604: ConvergenceWarning: Maximum Likelihood optimization failed to converge. Check mle_retvals\n",
      "  warnings.warn(\"Maximum Likelihood optimization failed to \"\n"
     ]
    },
    {
     "name": "stdout",
     "output_type": "stream",
     "text": [
      "p is  0 q is  7 AIC is -772.8629331063051\n",
      "p is  0 q is  8 AIC is -771.0236513818147\n",
      "p is  0 q is  9 AIC is -770.298959297159\n"
     ]
    },
    {
     "name": "stderr",
     "output_type": "stream",
     "text": [
      "C:\\Users\\lenovo\\anaconda3\\lib\\site-packages\\statsmodels\\base\\model.py:604: ConvergenceWarning: Maximum Likelihood optimization failed to converge. Check mle_retvals\n",
      "  warnings.warn(\"Maximum Likelihood optimization failed to \"\n",
      "C:\\Users\\lenovo\\anaconda3\\lib\\site-packages\\statsmodels\\tsa\\statespace\\sarimax.py:978: UserWarning: Non-invertible starting MA parameters found. Using zeros as starting parameters.\n",
      "  warn('Non-invertible starting MA parameters found.'\n"
     ]
    },
    {
     "name": "stdout",
     "output_type": "stream",
     "text": [
      "p is  0 q is  10 AIC is -768.3374321247843\n"
     ]
    },
    {
     "name": "stderr",
     "output_type": "stream",
     "text": [
      "C:\\Users\\lenovo\\anaconda3\\lib\\site-packages\\statsmodels\\base\\model.py:604: ConvergenceWarning: Maximum Likelihood optimization failed to converge. Check mle_retvals\n",
      "  warnings.warn(\"Maximum Likelihood optimization failed to \"\n"
     ]
    },
    {
     "name": "stdout",
     "output_type": "stream",
     "text": [
      "p is  0 q is  11 AIC is -767.1253465001704\n"
     ]
    },
    {
     "name": "stderr",
     "output_type": "stream",
     "text": [
      "C:\\Users\\lenovo\\anaconda3\\lib\\site-packages\\statsmodels\\base\\model.py:604: ConvergenceWarning: Maximum Likelihood optimization failed to converge. Check mle_retvals\n",
      "  warnings.warn(\"Maximum Likelihood optimization failed to \"\n"
     ]
    },
    {
     "name": "stdout",
     "output_type": "stream",
     "text": [
      "p is  0 q is  12 AIC is -767.3141050995516\n",
      "p is  1 q is  0 AIC is -710.8697707302772\n",
      "p is  1 q is  1 AIC is -768.1330498594316\n",
      "p is  1 q is  2 AIC is -768.2881344776047\n",
      "p is  1 q is  3 AIC is -766.3953512285622\n"
     ]
    },
    {
     "name": "stderr",
     "output_type": "stream",
     "text": [
      "C:\\Users\\lenovo\\anaconda3\\lib\\site-packages\\statsmodels\\base\\model.py:604: ConvergenceWarning: Maximum Likelihood optimization failed to converge. Check mle_retvals\n",
      "  warnings.warn(\"Maximum Likelihood optimization failed to \"\n",
      "C:\\Users\\lenovo\\anaconda3\\lib\\site-packages\\statsmodels\\tsa\\statespace\\sarimax.py:978: UserWarning: Non-invertible starting MA parameters found. Using zeros as starting parameters.\n",
      "  warn('Non-invertible starting MA parameters found.'\n"
     ]
    },
    {
     "name": "stdout",
     "output_type": "stream",
     "text": [
      "p is  1 q is  4 AIC is -764.0837204875451\n",
      "p is  1 q is  5 AIC is -762.6692815682525\n"
     ]
    },
    {
     "name": "stderr",
     "output_type": "stream",
     "text": [
      "C:\\Users\\lenovo\\anaconda3\\lib\\site-packages\\statsmodels\\tsa\\statespace\\sarimax.py:978: UserWarning: Non-invertible starting MA parameters found. Using zeros as starting parameters.\n",
      "  warn('Non-invertible starting MA parameters found.'\n",
      "C:\\Users\\lenovo\\anaconda3\\lib\\site-packages\\statsmodels\\base\\model.py:604: ConvergenceWarning: Maximum Likelihood optimization failed to converge. Check mle_retvals\n",
      "  warnings.warn(\"Maximum Likelihood optimization failed to \"\n"
     ]
    },
    {
     "name": "stdout",
     "output_type": "stream",
     "text": [
      "p is  1 q is  6 AIC is -771.9389356353312\n"
     ]
    },
    {
     "name": "stderr",
     "output_type": "stream",
     "text": [
      "C:\\Users\\lenovo\\anaconda3\\lib\\site-packages\\statsmodels\\base\\model.py:604: ConvergenceWarning: Maximum Likelihood optimization failed to converge. Check mle_retvals\n",
      "  warnings.warn(\"Maximum Likelihood optimization failed to \"\n",
      "C:\\Users\\lenovo\\anaconda3\\lib\\site-packages\\statsmodels\\tsa\\statespace\\sarimax.py:978: UserWarning: Non-invertible starting MA parameters found. Using zeros as starting parameters.\n",
      "  warn('Non-invertible starting MA parameters found.'\n"
     ]
    },
    {
     "name": "stdout",
     "output_type": "stream",
     "text": [
      "p is  1 q is  7 AIC is -770.894156104215\n",
      "p is  1 q is  8 AIC is -769.173994409591\n"
     ]
    },
    {
     "name": "stderr",
     "output_type": "stream",
     "text": [
      "C:\\Users\\lenovo\\anaconda3\\lib\\site-packages\\statsmodels\\base\\model.py:604: ConvergenceWarning: Maximum Likelihood optimization failed to converge. Check mle_retvals\n",
      "  warnings.warn(\"Maximum Likelihood optimization failed to \"\n"
     ]
    },
    {
     "name": "stdout",
     "output_type": "stream",
     "text": [
      "p is  1 q is  9 AIC is -767.330473245519\n"
     ]
    },
    {
     "name": "stderr",
     "output_type": "stream",
     "text": [
      "C:\\Users\\lenovo\\anaconda3\\lib\\site-packages\\statsmodels\\base\\model.py:604: ConvergenceWarning: Maximum Likelihood optimization failed to converge. Check mle_retvals\n",
      "  warnings.warn(\"Maximum Likelihood optimization failed to \"\n",
      "C:\\Users\\lenovo\\anaconda3\\lib\\site-packages\\statsmodels\\tsa\\statespace\\sarimax.py:978: UserWarning: Non-invertible starting MA parameters found. Using zeros as starting parameters.\n",
      "  warn('Non-invertible starting MA parameters found.'\n"
     ]
    },
    {
     "name": "stdout",
     "output_type": "stream",
     "text": [
      "p is  1 q is  10 AIC is -766.356927214485\n"
     ]
    },
    {
     "name": "stderr",
     "output_type": "stream",
     "text": [
      "C:\\Users\\lenovo\\anaconda3\\lib\\site-packages\\statsmodels\\base\\model.py:604: ConvergenceWarning: Maximum Likelihood optimization failed to converge. Check mle_retvals\n",
      "  warnings.warn(\"Maximum Likelihood optimization failed to \"\n"
     ]
    },
    {
     "name": "stdout",
     "output_type": "stream",
     "text": [
      "p is  1 q is  11 AIC is -764.3826478677531\n"
     ]
    },
    {
     "name": "stderr",
     "output_type": "stream",
     "text": [
      "C:\\Users\\lenovo\\anaconda3\\lib\\site-packages\\statsmodels\\base\\model.py:604: ConvergenceWarning: Maximum Likelihood optimization failed to converge. Check mle_retvals\n",
      "  warnings.warn(\"Maximum Likelihood optimization failed to \"\n"
     ]
    },
    {
     "name": "stdout",
     "output_type": "stream",
     "text": [
      "p is  1 q is  12 AIC is -765.2967963297133\n",
      "p is  2 q is  0 AIC is -731.8276725298515\n",
      "p is  2 q is  1 AIC is -767.0960988383003\n"
     ]
    },
    {
     "name": "stderr",
     "output_type": "stream",
     "text": [
      "C:\\Users\\lenovo\\anaconda3\\lib\\site-packages\\statsmodels\\base\\model.py:604: ConvergenceWarning: Maximum Likelihood optimization failed to converge. Check mle_retvals\n",
      "  warnings.warn(\"Maximum Likelihood optimization failed to \"\n"
     ]
    },
    {
     "name": "stdout",
     "output_type": "stream",
     "text": [
      "p is  2 q is  2 AIC is -766.4811362494193\n",
      "p is  2 q is  3 AIC is -764.3525774621497\n"
     ]
    },
    {
     "name": "stderr",
     "output_type": "stream",
     "text": [
      "C:\\Users\\lenovo\\anaconda3\\lib\\site-packages\\statsmodels\\base\\model.py:604: ConvergenceWarning: Maximum Likelihood optimization failed to converge. Check mle_retvals\n",
      "  warnings.warn(\"Maximum Likelihood optimization failed to \"\n"
     ]
    },
    {
     "name": "stdout",
     "output_type": "stream",
     "text": [
      "p is  2 q is  4 AIC is -767.8173367591022\n"
     ]
    },
    {
     "name": "stderr",
     "output_type": "stream",
     "text": [
      "C:\\Users\\lenovo\\anaconda3\\lib\\site-packages\\statsmodels\\base\\model.py:604: ConvergenceWarning: Maximum Likelihood optimization failed to converge. Check mle_retvals\n",
      "  warnings.warn(\"Maximum Likelihood optimization failed to \"\n"
     ]
    },
    {
     "name": "stdout",
     "output_type": "stream",
     "text": [
      "p is  2 q is  5 AIC is -772.6028017269159\n"
     ]
    },
    {
     "name": "stderr",
     "output_type": "stream",
     "text": [
      "C:\\Users\\lenovo\\anaconda3\\lib\\site-packages\\statsmodels\\base\\model.py:604: ConvergenceWarning: Maximum Likelihood optimization failed to converge. Check mle_retvals\n",
      "  warnings.warn(\"Maximum Likelihood optimization failed to \"\n"
     ]
    },
    {
     "name": "stdout",
     "output_type": "stream",
     "text": [
      "p is  2 q is  6 AIC is -770.8461711719024\n"
     ]
    },
    {
     "name": "stderr",
     "output_type": "stream",
     "text": [
      "C:\\Users\\lenovo\\anaconda3\\lib\\site-packages\\statsmodels\\base\\model.py:604: ConvergenceWarning: Maximum Likelihood optimization failed to converge. Check mle_retvals\n",
      "  warnings.warn(\"Maximum Likelihood optimization failed to \"\n"
     ]
    },
    {
     "name": "stdout",
     "output_type": "stream",
     "text": [
      "p is  2 q is  7 AIC is -768.8852125385879\n"
     ]
    },
    {
     "name": "stderr",
     "output_type": "stream",
     "text": [
      "C:\\Users\\lenovo\\anaconda3\\lib\\site-packages\\statsmodels\\base\\model.py:604: ConvergenceWarning: Maximum Likelihood optimization failed to converge. Check mle_retvals\n",
      "  warnings.warn(\"Maximum Likelihood optimization failed to \"\n"
     ]
    },
    {
     "name": "stdout",
     "output_type": "stream",
     "text": [
      "p is  2 q is  8 AIC is -771.4064217541791\n"
     ]
    },
    {
     "name": "stderr",
     "output_type": "stream",
     "text": [
      "C:\\Users\\lenovo\\anaconda3\\lib\\site-packages\\statsmodels\\base\\model.py:604: ConvergenceWarning: Maximum Likelihood optimization failed to converge. Check mle_retvals\n",
      "  warnings.warn(\"Maximum Likelihood optimization failed to \"\n"
     ]
    },
    {
     "name": "stdout",
     "output_type": "stream",
     "text": [
      "p is  2 q is  9 AIC is -769.040414264145\n"
     ]
    },
    {
     "name": "stderr",
     "output_type": "stream",
     "text": [
      "C:\\Users\\lenovo\\anaconda3\\lib\\site-packages\\statsmodels\\base\\model.py:604: ConvergenceWarning: Maximum Likelihood optimization failed to converge. Check mle_retvals\n",
      "  warnings.warn(\"Maximum Likelihood optimization failed to \"\n"
     ]
    },
    {
     "name": "stdout",
     "output_type": "stream",
     "text": [
      "p is  2 q is  10 AIC is -764.6216613209948\n"
     ]
    },
    {
     "name": "stderr",
     "output_type": "stream",
     "text": [
      "C:\\Users\\lenovo\\anaconda3\\lib\\site-packages\\statsmodels\\base\\model.py:604: ConvergenceWarning: Maximum Likelihood optimization failed to converge. Check mle_retvals\n",
      "  warnings.warn(\"Maximum Likelihood optimization failed to \"\n"
     ]
    },
    {
     "name": "stdout",
     "output_type": "stream",
     "text": [
      "p is  2 q is  11 AIC is -766.2454315251621\n"
     ]
    },
    {
     "name": "stderr",
     "output_type": "stream",
     "text": [
      "C:\\Users\\lenovo\\anaconda3\\lib\\site-packages\\statsmodels\\base\\model.py:604: ConvergenceWarning: Maximum Likelihood optimization failed to converge. Check mle_retvals\n",
      "  warnings.warn(\"Maximum Likelihood optimization failed to \"\n"
     ]
    },
    {
     "name": "stdout",
     "output_type": "stream",
     "text": [
      "p is  2 q is  12 AIC is -764.6893357572835\n",
      "p is  3 q is  0 AIC is -731.3697465428017\n",
      "p is  3 q is  1 AIC is -765.2175956080608\n"
     ]
    },
    {
     "name": "stderr",
     "output_type": "stream",
     "text": [
      "C:\\Users\\lenovo\\anaconda3\\lib\\site-packages\\statsmodels\\tsa\\statespace\\sarimax.py:978: UserWarning: Non-invertible starting MA parameters found. Using zeros as starting parameters.\n",
      "  warn('Non-invertible starting MA parameters found.'\n",
      "C:\\Users\\lenovo\\anaconda3\\lib\\site-packages\\statsmodels\\base\\model.py:604: ConvergenceWarning: Maximum Likelihood optimization failed to converge. Check mle_retvals\n",
      "  warnings.warn(\"Maximum Likelihood optimization failed to \"\n"
     ]
    },
    {
     "name": "stdout",
     "output_type": "stream",
     "text": [
      "p is  3 q is  2 AIC is -763.9791691106095\n"
     ]
    },
    {
     "name": "stderr",
     "output_type": "stream",
     "text": [
      "C:\\Users\\lenovo\\anaconda3\\lib\\site-packages\\statsmodels\\base\\model.py:604: ConvergenceWarning: Maximum Likelihood optimization failed to converge. Check mle_retvals\n",
      "  warnings.warn(\"Maximum Likelihood optimization failed to \"\n"
     ]
    },
    {
     "name": "stdout",
     "output_type": "stream",
     "text": [
      "p is  3 q is  3 AIC is -763.9882031893358\n"
     ]
    },
    {
     "name": "stderr",
     "output_type": "stream",
     "text": [
      "C:\\Users\\lenovo\\anaconda3\\lib\\site-packages\\statsmodels\\base\\model.py:604: ConvergenceWarning: Maximum Likelihood optimization failed to converge. Check mle_retvals\n",
      "  warnings.warn(\"Maximum Likelihood optimization failed to \"\n"
     ]
    },
    {
     "name": "stdout",
     "output_type": "stream",
     "text": [
      "p is  3 q is  4 AIC is -765.4035350528159\n"
     ]
    },
    {
     "name": "stderr",
     "output_type": "stream",
     "text": [
      "C:\\Users\\lenovo\\anaconda3\\lib\\site-packages\\statsmodels\\base\\model.py:604: ConvergenceWarning: Maximum Likelihood optimization failed to converge. Check mle_retvals\n",
      "  warnings.warn(\"Maximum Likelihood optimization failed to \"\n"
     ]
    },
    {
     "name": "stdout",
     "output_type": "stream",
     "text": [
      "p is  3 q is  5 AIC is -767.6142553461832\n"
     ]
    },
    {
     "name": "stderr",
     "output_type": "stream",
     "text": [
      "C:\\Users\\lenovo\\anaconda3\\lib\\site-packages\\statsmodels\\base\\model.py:604: ConvergenceWarning: Maximum Likelihood optimization failed to converge. Check mle_retvals\n",
      "  warnings.warn(\"Maximum Likelihood optimization failed to \"\n",
      "C:\\Users\\lenovo\\anaconda3\\lib\\site-packages\\statsmodels\\tsa\\statespace\\sarimax.py:978: UserWarning: Non-invertible starting MA parameters found. Using zeros as starting parameters.\n",
      "  warn('Non-invertible starting MA parameters found.'\n"
     ]
    },
    {
     "name": "stdout",
     "output_type": "stream",
     "text": [
      "p is  3 q is  6 AIC is -770.1181755124055\n"
     ]
    },
    {
     "name": "stderr",
     "output_type": "stream",
     "text": [
      "C:\\Users\\lenovo\\anaconda3\\lib\\site-packages\\statsmodels\\base\\model.py:604: ConvergenceWarning: Maximum Likelihood optimization failed to converge. Check mle_retvals\n",
      "  warnings.warn(\"Maximum Likelihood optimization failed to \"\n"
     ]
    },
    {
     "name": "stdout",
     "output_type": "stream",
     "text": [
      "p is  3 q is  7 AIC is -769.4904839557017\n"
     ]
    },
    {
     "name": "stderr",
     "output_type": "stream",
     "text": [
      "C:\\Users\\lenovo\\anaconda3\\lib\\site-packages\\statsmodels\\base\\model.py:604: ConvergenceWarning: Maximum Likelihood optimization failed to converge. Check mle_retvals\n",
      "  warnings.warn(\"Maximum Likelihood optimization failed to \"\n"
     ]
    },
    {
     "name": "stdout",
     "output_type": "stream",
     "text": [
      "p is  3 q is  8 AIC is -770.2496649189834\n"
     ]
    },
    {
     "name": "stderr",
     "output_type": "stream",
     "text": [
      "C:\\Users\\lenovo\\anaconda3\\lib\\site-packages\\statsmodels\\base\\model.py:604: ConvergenceWarning: Maximum Likelihood optimization failed to converge. Check mle_retvals\n",
      "  warnings.warn(\"Maximum Likelihood optimization failed to \"\n"
     ]
    },
    {
     "name": "stdout",
     "output_type": "stream",
     "text": [
      "p is  3 q is  9 AIC is -767.7388261519164\n"
     ]
    },
    {
     "name": "stderr",
     "output_type": "stream",
     "text": [
      "C:\\Users\\lenovo\\anaconda3\\lib\\site-packages\\statsmodels\\base\\model.py:604: ConvergenceWarning: Maximum Likelihood optimization failed to converge. Check mle_retvals\n",
      "  warnings.warn(\"Maximum Likelihood optimization failed to \"\n"
     ]
    },
    {
     "name": "stdout",
     "output_type": "stream",
     "text": [
      "p is  3 q is  10 AIC is -764.2179977375008\n"
     ]
    },
    {
     "name": "stderr",
     "output_type": "stream",
     "text": [
      "C:\\Users\\lenovo\\anaconda3\\lib\\site-packages\\statsmodels\\base\\model.py:604: ConvergenceWarning: Maximum Likelihood optimization failed to converge. Check mle_retvals\n",
      "  warnings.warn(\"Maximum Likelihood optimization failed to \"\n"
     ]
    },
    {
     "name": "stdout",
     "output_type": "stream",
     "text": [
      "p is  3 q is  11 AIC is -763.0678254652655\n"
     ]
    },
    {
     "name": "stderr",
     "output_type": "stream",
     "text": [
      "C:\\Users\\lenovo\\anaconda3\\lib\\site-packages\\statsmodels\\base\\model.py:604: ConvergenceWarning: Maximum Likelihood optimization failed to converge. Check mle_retvals\n",
      "  warnings.warn(\"Maximum Likelihood optimization failed to \"\n"
     ]
    },
    {
     "name": "stdout",
     "output_type": "stream",
     "text": [
      "p is  3 q is  12 AIC is -763.3179207700014\n",
      "p is  4 q is  0 AIC is -741.1111661579149\n",
      "p is  4 q is  1 AIC is -771.776539505504\n"
     ]
    },
    {
     "name": "stderr",
     "output_type": "stream",
     "text": [
      "C:\\Users\\lenovo\\anaconda3\\lib\\site-packages\\statsmodels\\tsa\\statespace\\sarimax.py:966: UserWarning: Non-stationary starting autoregressive parameters found. Using zeros as starting parameters.\n",
      "  warn('Non-stationary starting autoregressive parameters'\n",
      "C:\\Users\\lenovo\\anaconda3\\lib\\site-packages\\statsmodels\\tsa\\statespace\\sarimax.py:978: UserWarning: Non-invertible starting MA parameters found. Using zeros as starting parameters.\n",
      "  warn('Non-invertible starting MA parameters found.'\n",
      "C:\\Users\\lenovo\\anaconda3\\lib\\site-packages\\statsmodels\\base\\model.py:604: ConvergenceWarning: Maximum Likelihood optimization failed to converge. Check mle_retvals\n",
      "  warnings.warn(\"Maximum Likelihood optimization failed to \"\n"
     ]
    },
    {
     "name": "stdout",
     "output_type": "stream",
     "text": [
      "p is  4 q is  2 AIC is -764.4026868929077\n"
     ]
    },
    {
     "name": "stderr",
     "output_type": "stream",
     "text": [
      "C:\\Users\\lenovo\\anaconda3\\lib\\site-packages\\statsmodels\\base\\model.py:604: ConvergenceWarning: Maximum Likelihood optimization failed to converge. Check mle_retvals\n",
      "  warnings.warn(\"Maximum Likelihood optimization failed to \"\n"
     ]
    },
    {
     "name": "stdout",
     "output_type": "stream",
     "text": [
      "p is  4 q is  3 AIC is -772.934394914992\n"
     ]
    },
    {
     "name": "stderr",
     "output_type": "stream",
     "text": [
      "C:\\Users\\lenovo\\anaconda3\\lib\\site-packages\\statsmodels\\base\\model.py:604: ConvergenceWarning: Maximum Likelihood optimization failed to converge. Check mle_retvals\n",
      "  warnings.warn(\"Maximum Likelihood optimization failed to \"\n"
     ]
    },
    {
     "name": "stdout",
     "output_type": "stream",
     "text": [
      "p is  4 q is  4 AIC is -764.408607721628\n"
     ]
    },
    {
     "name": "stderr",
     "output_type": "stream",
     "text": [
      "C:\\Users\\lenovo\\anaconda3\\lib\\site-packages\\statsmodels\\base\\model.py:604: ConvergenceWarning: Maximum Likelihood optimization failed to converge. Check mle_retvals\n",
      "  warnings.warn(\"Maximum Likelihood optimization failed to \"\n"
     ]
    },
    {
     "name": "stdout",
     "output_type": "stream",
     "text": [
      "p is  4 q is  5 AIC is -770.5633899197186\n"
     ]
    },
    {
     "name": "stderr",
     "output_type": "stream",
     "text": [
      "C:\\Users\\lenovo\\anaconda3\\lib\\site-packages\\statsmodels\\base\\model.py:604: ConvergenceWarning: Maximum Likelihood optimization failed to converge. Check mle_retvals\n",
      "  warnings.warn(\"Maximum Likelihood optimization failed to \"\n",
      "C:\\Users\\lenovo\\anaconda3\\lib\\site-packages\\statsmodels\\tsa\\statespace\\sarimax.py:978: UserWarning: Non-invertible starting MA parameters found. Using zeros as starting parameters.\n",
      "  warn('Non-invertible starting MA parameters found.'\n"
     ]
    },
    {
     "name": "stdout",
     "output_type": "stream",
     "text": [
      "p is  4 q is  6 AIC is -765.0513941816239\n"
     ]
    },
    {
     "name": "stderr",
     "output_type": "stream",
     "text": [
      "C:\\Users\\lenovo\\anaconda3\\lib\\site-packages\\statsmodels\\base\\model.py:604: ConvergenceWarning: Maximum Likelihood optimization failed to converge. Check mle_retvals\n",
      "  warnings.warn(\"Maximum Likelihood optimization failed to \"\n"
     ]
    },
    {
     "name": "stdout",
     "output_type": "stream",
     "text": [
      "p is  4 q is  7 AIC is -766.244135930746\n"
     ]
    },
    {
     "name": "stderr",
     "output_type": "stream",
     "text": [
      "C:\\Users\\lenovo\\anaconda3\\lib\\site-packages\\statsmodels\\base\\model.py:604: ConvergenceWarning: Maximum Likelihood optimization failed to converge. Check mle_retvals\n",
      "  warnings.warn(\"Maximum Likelihood optimization failed to \"\n"
     ]
    },
    {
     "name": "stdout",
     "output_type": "stream",
     "text": [
      "p is  4 q is  8 AIC is -771.5240539312254\n"
     ]
    },
    {
     "name": "stderr",
     "output_type": "stream",
     "text": [
      "C:\\Users\\lenovo\\anaconda3\\lib\\site-packages\\statsmodels\\base\\model.py:604: ConvergenceWarning: Maximum Likelihood optimization failed to converge. Check mle_retvals\n",
      "  warnings.warn(\"Maximum Likelihood optimization failed to \"\n"
     ]
    },
    {
     "name": "stdout",
     "output_type": "stream",
     "text": [
      "p is  4 q is  9 AIC is -766.414054029281\n"
     ]
    },
    {
     "name": "stderr",
     "output_type": "stream",
     "text": [
      "C:\\Users\\lenovo\\anaconda3\\lib\\site-packages\\statsmodels\\base\\model.py:604: ConvergenceWarning: Maximum Likelihood optimization failed to converge. Check mle_retvals\n",
      "  warnings.warn(\"Maximum Likelihood optimization failed to \"\n",
      "C:\\Users\\lenovo\\anaconda3\\lib\\site-packages\\statsmodels\\tsa\\statespace\\sarimax.py:966: UserWarning: Non-stationary starting autoregressive parameters found. Using zeros as starting parameters.\n",
      "  warn('Non-stationary starting autoregressive parameters'\n",
      "C:\\Users\\lenovo\\anaconda3\\lib\\site-packages\\statsmodels\\tsa\\statespace\\sarimax.py:978: UserWarning: Non-invertible starting MA parameters found. Using zeros as starting parameters.\n",
      "  warn('Non-invertible starting MA parameters found.'\n"
     ]
    },
    {
     "name": "stdout",
     "output_type": "stream",
     "text": [
      "p is  4 q is  10 AIC is -762.6757359044857\n"
     ]
    },
    {
     "name": "stderr",
     "output_type": "stream",
     "text": [
      "C:\\Users\\lenovo\\anaconda3\\lib\\site-packages\\statsmodels\\base\\model.py:604: ConvergenceWarning: Maximum Likelihood optimization failed to converge. Check mle_retvals\n",
      "  warnings.warn(\"Maximum Likelihood optimization failed to \"\n"
     ]
    },
    {
     "name": "stdout",
     "output_type": "stream",
     "text": [
      "p is  4 q is  11 AIC is -760.4373234630884\n"
     ]
    },
    {
     "name": "stderr",
     "output_type": "stream",
     "text": [
      "C:\\Users\\lenovo\\anaconda3\\lib\\site-packages\\statsmodels\\base\\model.py:604: ConvergenceWarning: Maximum Likelihood optimization failed to converge. Check mle_retvals\n",
      "  warnings.warn(\"Maximum Likelihood optimization failed to \"\n"
     ]
    },
    {
     "name": "stdout",
     "output_type": "stream",
     "text": [
      "p is  4 q is  12 AIC is -762.5110320933402\n",
      "p is  5 q is  0 AIC is -755.3317758000228\n"
     ]
    },
    {
     "name": "stderr",
     "output_type": "stream",
     "text": [
      "C:\\Users\\lenovo\\anaconda3\\lib\\site-packages\\statsmodels\\base\\model.py:604: ConvergenceWarning: Maximum Likelihood optimization failed to converge. Check mle_retvals\n",
      "  warnings.warn(\"Maximum Likelihood optimization failed to \"\n"
     ]
    },
    {
     "name": "stdout",
     "output_type": "stream",
     "text": [
      "p is  5 q is  1 AIC is -771.0586383676441\n",
      "p is  5 q is  2 AIC is -769.3577513802545\n"
     ]
    },
    {
     "name": "stderr",
     "output_type": "stream",
     "text": [
      "C:\\Users\\lenovo\\anaconda3\\lib\\site-packages\\statsmodels\\base\\model.py:604: ConvergenceWarning: Maximum Likelihood optimization failed to converge. Check mle_retvals\n",
      "  warnings.warn(\"Maximum Likelihood optimization failed to \"\n",
      "C:\\Users\\lenovo\\anaconda3\\lib\\site-packages\\statsmodels\\tsa\\statespace\\sarimax.py:966: UserWarning: Non-stationary starting autoregressive parameters found. Using zeros as starting parameters.\n",
      "  warn('Non-stationary starting autoregressive parameters'\n",
      "C:\\Users\\lenovo\\anaconda3\\lib\\site-packages\\statsmodels\\tsa\\statespace\\sarimax.py:978: UserWarning: Non-invertible starting MA parameters found. Using zeros as starting parameters.\n",
      "  warn('Non-invertible starting MA parameters found.'\n"
     ]
    },
    {
     "name": "stdout",
     "output_type": "stream",
     "text": [
      "p is  5 q is  3 AIC is -769.9194628579528\n"
     ]
    },
    {
     "name": "stderr",
     "output_type": "stream",
     "text": [
      "C:\\Users\\lenovo\\anaconda3\\lib\\site-packages\\statsmodels\\base\\model.py:604: ConvergenceWarning: Maximum Likelihood optimization failed to converge. Check mle_retvals\n",
      "  warnings.warn(\"Maximum Likelihood optimization failed to \"\n"
     ]
    },
    {
     "name": "stdout",
     "output_type": "stream",
     "text": [
      "p is  5 q is  4 AIC is -765.8089933643865\n"
     ]
    },
    {
     "name": "stderr",
     "output_type": "stream",
     "text": [
      "C:\\Users\\lenovo\\anaconda3\\lib\\site-packages\\statsmodels\\base\\model.py:604: ConvergenceWarning: Maximum Likelihood optimization failed to converge. Check mle_retvals\n",
      "  warnings.warn(\"Maximum Likelihood optimization failed to \"\n",
      "C:\\Users\\lenovo\\anaconda3\\lib\\site-packages\\statsmodels\\tsa\\statespace\\sarimax.py:978: UserWarning: Non-invertible starting MA parameters found. Using zeros as starting parameters.\n",
      "  warn('Non-invertible starting MA parameters found.'\n"
     ]
    },
    {
     "name": "stdout",
     "output_type": "stream",
     "text": [
      "p is  5 q is  5 AIC is -768.2085032750892\n"
     ]
    },
    {
     "name": "stderr",
     "output_type": "stream",
     "text": [
      "C:\\Users\\lenovo\\anaconda3\\lib\\site-packages\\statsmodels\\base\\model.py:604: ConvergenceWarning: Maximum Likelihood optimization failed to converge. Check mle_retvals\n",
      "  warnings.warn(\"Maximum Likelihood optimization failed to \"\n",
      "C:\\Users\\lenovo\\anaconda3\\lib\\site-packages\\statsmodels\\tsa\\statespace\\sarimax.py:978: UserWarning: Non-invertible starting MA parameters found. Using zeros as starting parameters.\n",
      "  warn('Non-invertible starting MA parameters found.'\n"
     ]
    },
    {
     "name": "stdout",
     "output_type": "stream",
     "text": [
      "p is  5 q is  6 AIC is -765.2319407999787\n"
     ]
    },
    {
     "name": "stderr",
     "output_type": "stream",
     "text": [
      "C:\\Users\\lenovo\\anaconda3\\lib\\site-packages\\statsmodels\\base\\model.py:604: ConvergenceWarning: Maximum Likelihood optimization failed to converge. Check mle_retvals\n",
      "  warnings.warn(\"Maximum Likelihood optimization failed to \"\n",
      "C:\\Users\\lenovo\\anaconda3\\lib\\site-packages\\statsmodels\\tsa\\statespace\\sarimax.py:966: UserWarning: Non-stationary starting autoregressive parameters found. Using zeros as starting parameters.\n",
      "  warn('Non-stationary starting autoregressive parameters'\n",
      "C:\\Users\\lenovo\\anaconda3\\lib\\site-packages\\statsmodels\\tsa\\statespace\\sarimax.py:978: UserWarning: Non-invertible starting MA parameters found. Using zeros as starting parameters.\n",
      "  warn('Non-invertible starting MA parameters found.'\n"
     ]
    },
    {
     "name": "stdout",
     "output_type": "stream",
     "text": [
      "p is  5 q is  7 AIC is -767.0447397903624\n"
     ]
    },
    {
     "name": "stderr",
     "output_type": "stream",
     "text": [
      "C:\\Users\\lenovo\\anaconda3\\lib\\site-packages\\statsmodels\\base\\model.py:604: ConvergenceWarning: Maximum Likelihood optimization failed to converge. Check mle_retvals\n",
      "  warnings.warn(\"Maximum Likelihood optimization failed to \"\n"
     ]
    },
    {
     "name": "stdout",
     "output_type": "stream",
     "text": [
      "p is  5 q is  8 AIC is -763.7527593353648\n"
     ]
    },
    {
     "name": "stderr",
     "output_type": "stream",
     "text": [
      "C:\\Users\\lenovo\\anaconda3\\lib\\site-packages\\statsmodels\\base\\model.py:604: ConvergenceWarning: Maximum Likelihood optimization failed to converge. Check mle_retvals\n",
      "  warnings.warn(\"Maximum Likelihood optimization failed to \"\n"
     ]
    },
    {
     "name": "stdout",
     "output_type": "stream",
     "text": [
      "p is  5 q is  9 AIC is -762.7613731617519\n"
     ]
    },
    {
     "name": "stderr",
     "output_type": "stream",
     "text": [
      "C:\\Users\\lenovo\\anaconda3\\lib\\site-packages\\statsmodels\\base\\model.py:604: ConvergenceWarning: Maximum Likelihood optimization failed to converge. Check mle_retvals\n",
      "  warnings.warn(\"Maximum Likelihood optimization failed to \"\n",
      "C:\\Users\\lenovo\\anaconda3\\lib\\site-packages\\statsmodels\\tsa\\statespace\\sarimax.py:978: UserWarning: Non-invertible starting MA parameters found. Using zeros as starting parameters.\n",
      "  warn('Non-invertible starting MA parameters found.'\n"
     ]
    },
    {
     "name": "stdout",
     "output_type": "stream",
     "text": [
      "p is  5 q is  10 AIC is -762.5164200897623\n"
     ]
    },
    {
     "name": "stderr",
     "output_type": "stream",
     "text": [
      "C:\\Users\\lenovo\\anaconda3\\lib\\site-packages\\statsmodels\\base\\model.py:604: ConvergenceWarning: Maximum Likelihood optimization failed to converge. Check mle_retvals\n",
      "  warnings.warn(\"Maximum Likelihood optimization failed to \"\n"
     ]
    },
    {
     "name": "stdout",
     "output_type": "stream",
     "text": [
      "p is  5 q is  11 AIC is -754.4639203196609\n",
      "p is  5 q is  12 AIC is -760.2070514873769\n"
     ]
    },
    {
     "name": "stderr",
     "output_type": "stream",
     "text": [
      "C:\\Users\\lenovo\\anaconda3\\lib\\site-packages\\statsmodels\\base\\model.py:604: ConvergenceWarning: Maximum Likelihood optimization failed to converge. Check mle_retvals\n",
      "  warnings.warn(\"Maximum Likelihood optimization failed to \"\n"
     ]
    }
   ],
   "source": [
    "from statsmodels.tsa.arima.model import ARIMA\n",
    "\n",
    "a=[]\n",
    "for p in range(0,6):\n",
    "    for q in range(0,13):\n",
    "        model=ARIMA(df, order = (p,1,q))  \n",
    "        selection = model.fit()                                             \n",
    "        print(\"p is \",p,\"q is \",q, \"AIC is\", selection.aic)\n",
    "        a.append(selection.aic)"
   ]
  },
  {
   "cell_type": "code",
   "execution_count": null,
   "id": "78779987",
   "metadata": {},
   "outputs": [],
   "source": [
    "p = 0, q = 0"
   ]
  },
  {
   "cell_type": "code",
   "execution_count": 5,
   "id": "a6e4a0cc",
   "metadata": {},
   "outputs": [],
   "source": [
    "import statsmodels.api as sm"
   ]
  },
  {
   "cell_type": "code",
   "execution_count": null,
   "id": "7dd2ab78",
   "metadata": {},
   "outputs": [
    {
     "name": "stdout",
     "output_type": "stream",
     "text": [
      "1 \t 1 \t -651.6456488279242\n"
     ]
    },
    {
     "name": "stderr",
     "output_type": "stream",
     "text": [
      "C:\\Users\\lenovo\\anaconda3\\lib\\site-packages\\statsmodels\\base\\model.py:604: ConvergenceWarning: Maximum Likelihood optimization failed to converge. Check mle_retvals\n",
      "  warnings.warn(\"Maximum Likelihood optimization failed to \"\n"
     ]
    },
    {
     "name": "stdout",
     "output_type": "stream",
     "text": [
      "1 \t 2 \t -649.0366932993915\n"
     ]
    },
    {
     "name": "stderr",
     "output_type": "stream",
     "text": [
      "C:\\Users\\lenovo\\anaconda3\\lib\\site-packages\\statsmodels\\tsa\\statespace\\sarimax.py:1009: UserWarning: Non-invertible starting seasonal moving average Using zeros as starting parameters.\n",
      "  warn('Non-invertible starting seasonal moving average'\n"
     ]
    },
    {
     "name": "stdout",
     "output_type": "stream",
     "text": [
      "1 \t 3 \t -646.8626238363274\n"
     ]
    },
    {
     "name": "stderr",
     "output_type": "stream",
     "text": [
      "C:\\Users\\lenovo\\anaconda3\\lib\\site-packages\\statsmodels\\tsa\\statespace\\sarimax.py:866: UserWarning: Too few observations to estimate starting parameters for seasonal ARMA. All parameters except for variances will be set to zeros.\n",
      "  warn('Too few observations to estimate starting parameters%s.'\n"
     ]
    },
    {
     "name": "stdout",
     "output_type": "stream",
     "text": [
      "1 \t 4 \t -646.7757717674604\n"
     ]
    },
    {
     "name": "stderr",
     "output_type": "stream",
     "text": [
      "C:\\Users\\lenovo\\anaconda3\\lib\\site-packages\\statsmodels\\tsa\\statespace\\sarimax.py:866: UserWarning: Too few observations to estimate starting parameters for seasonal ARMA. All parameters except for variances will be set to zeros.\n",
      "  warn('Too few observations to estimate starting parameters%s.'\n"
     ]
    },
    {
     "name": "stdout",
     "output_type": "stream",
     "text": [
      "1 \t 5 \t -644.9010975087417\n"
     ]
    },
    {
     "name": "stderr",
     "output_type": "stream",
     "text": [
      "C:\\Users\\lenovo\\anaconda3\\lib\\site-packages\\statsmodels\\tsa\\statespace\\sarimax.py:866: UserWarning: Too few observations to estimate starting parameters for seasonal ARMA. All parameters except for variances will be set to zeros.\n",
      "  warn('Too few observations to estimate starting parameters%s.'\n",
      "C:\\Users\\lenovo\\anaconda3\\lib\\site-packages\\statsmodels\\base\\model.py:604: ConvergenceWarning: Maximum Likelihood optimization failed to converge. Check mle_retvals\n",
      "  warnings.warn(\"Maximum Likelihood optimization failed to \"\n"
     ]
    },
    {
     "name": "stdout",
     "output_type": "stream",
     "text": [
      "1 \t 6 \t -642.8949228800157\n"
     ]
    },
    {
     "name": "stderr",
     "output_type": "stream",
     "text": [
      "C:\\Users\\lenovo\\anaconda3\\lib\\site-packages\\statsmodels\\tsa\\statespace\\sarimax.py:866: UserWarning: Too few observations to estimate starting parameters for seasonal ARMA. All parameters except for variances will be set to zeros.\n",
      "  warn('Too few observations to estimate starting parameters%s.'\n",
      "C:\\Users\\lenovo\\anaconda3\\lib\\site-packages\\statsmodels\\base\\model.py:604: ConvergenceWarning: Maximum Likelihood optimization failed to converge. Check mle_retvals\n",
      "  warnings.warn(\"Maximum Likelihood optimization failed to \"\n"
     ]
    },
    {
     "name": "stdout",
     "output_type": "stream",
     "text": [
      "1 \t 7 \t -641.6233915042798\n"
     ]
    },
    {
     "name": "stderr",
     "output_type": "stream",
     "text": [
      "C:\\Users\\lenovo\\anaconda3\\lib\\site-packages\\statsmodels\\tsa\\statespace\\sarimax.py:866: UserWarning: Too few observations to estimate starting parameters for seasonal ARMA. All parameters except for variances will be set to zeros.\n",
      "  warn('Too few observations to estimate starting parameters%s.'\n",
      "C:\\Users\\lenovo\\anaconda3\\lib\\site-packages\\statsmodels\\base\\model.py:604: ConvergenceWarning: Maximum Likelihood optimization failed to converge. Check mle_retvals\n",
      "  warnings.warn(\"Maximum Likelihood optimization failed to \"\n"
     ]
    },
    {
     "name": "stdout",
     "output_type": "stream",
     "text": [
      "1 \t 8 \t -639.8818937010362\n"
     ]
    },
    {
     "name": "stderr",
     "output_type": "stream",
     "text": [
      "C:\\Users\\lenovo\\anaconda3\\lib\\site-packages\\statsmodels\\base\\model.py:604: ConvergenceWarning: Maximum Likelihood optimization failed to converge. Check mle_retvals\n",
      "  warnings.warn(\"Maximum Likelihood optimization failed to \"\n"
     ]
    },
    {
     "name": "stdout",
     "output_type": "stream",
     "text": [
      "2 \t 1 \t -649.6935151501509\n"
     ]
    },
    {
     "name": "stderr",
     "output_type": "stream",
     "text": [
      "C:\\Users\\lenovo\\anaconda3\\lib\\site-packages\\statsmodels\\base\\model.py:604: ConvergenceWarning: Maximum Likelihood optimization failed to converge. Check mle_retvals\n",
      "  warnings.warn(\"Maximum Likelihood optimization failed to \"\n"
     ]
    },
    {
     "name": "stdout",
     "output_type": "stream",
     "text": [
      "2 \t 2 \t -647.9596440298758\n"
     ]
    },
    {
     "name": "stderr",
     "output_type": "stream",
     "text": [
      "C:\\Users\\lenovo\\anaconda3\\lib\\site-packages\\statsmodels\\tsa\\statespace\\sarimax.py:1009: UserWarning: Non-invertible starting seasonal moving average Using zeros as starting parameters.\n",
      "  warn('Non-invertible starting seasonal moving average'\n",
      "C:\\Users\\lenovo\\anaconda3\\lib\\site-packages\\statsmodels\\base\\model.py:604: ConvergenceWarning: Maximum Likelihood optimization failed to converge. Check mle_retvals\n",
      "  warnings.warn(\"Maximum Likelihood optimization failed to \"\n"
     ]
    },
    {
     "name": "stdout",
     "output_type": "stream",
     "text": [
      "2 \t 3 \t -646.3529769748877\n"
     ]
    },
    {
     "name": "stderr",
     "output_type": "stream",
     "text": [
      "C:\\Users\\lenovo\\anaconda3\\lib\\site-packages\\statsmodels\\tsa\\statespace\\sarimax.py:866: UserWarning: Too few observations to estimate starting parameters for seasonal ARMA. All parameters except for variances will be set to zeros.\n",
      "  warn('Too few observations to estimate starting parameters%s.'\n"
     ]
    },
    {
     "name": "stdout",
     "output_type": "stream",
     "text": [
      "2 \t 4 \t -644.7558069558008\n"
     ]
    },
    {
     "name": "stderr",
     "output_type": "stream",
     "text": [
      "C:\\Users\\lenovo\\anaconda3\\lib\\site-packages\\statsmodels\\tsa\\statespace\\sarimax.py:866: UserWarning: Too few observations to estimate starting parameters for seasonal ARMA. All parameters except for variances will be set to zeros.\n",
      "  warn('Too few observations to estimate starting parameters%s.'\n",
      "C:\\Users\\lenovo\\anaconda3\\lib\\site-packages\\statsmodels\\base\\model.py:604: ConvergenceWarning: Maximum Likelihood optimization failed to converge. Check mle_retvals\n",
      "  warnings.warn(\"Maximum Likelihood optimization failed to \"\n"
     ]
    },
    {
     "name": "stdout",
     "output_type": "stream",
     "text": [
      "2 \t 5 \t -642.9820593963611\n"
     ]
    },
    {
     "name": "stderr",
     "output_type": "stream",
     "text": [
      "C:\\Users\\lenovo\\anaconda3\\lib\\site-packages\\statsmodels\\tsa\\statespace\\sarimax.py:866: UserWarning: Too few observations to estimate starting parameters for seasonal ARMA. All parameters except for variances will be set to zeros.\n",
      "  warn('Too few observations to estimate starting parameters%s.'\n",
      "C:\\Users\\lenovo\\anaconda3\\lib\\site-packages\\statsmodels\\base\\model.py:604: ConvergenceWarning: Maximum Likelihood optimization failed to converge. Check mle_retvals\n",
      "  warnings.warn(\"Maximum Likelihood optimization failed to \"\n"
     ]
    },
    {
     "name": "stdout",
     "output_type": "stream",
     "text": [
      "2 \t 6 \t -641.0699751481825\n"
     ]
    },
    {
     "name": "stderr",
     "output_type": "stream",
     "text": [
      "C:\\Users\\lenovo\\anaconda3\\lib\\site-packages\\statsmodels\\tsa\\statespace\\sarimax.py:866: UserWarning: Too few observations to estimate starting parameters for seasonal ARMA. All parameters except for variances will be set to zeros.\n",
      "  warn('Too few observations to estimate starting parameters%s.'\n",
      "C:\\Users\\lenovo\\anaconda3\\lib\\site-packages\\statsmodels\\base\\model.py:604: ConvergenceWarning: Maximum Likelihood optimization failed to converge. Check mle_retvals\n",
      "  warnings.warn(\"Maximum Likelihood optimization failed to \"\n"
     ]
    },
    {
     "name": "stdout",
     "output_type": "stream",
     "text": [
      "2 \t 7 \t -639.7323829861762\n"
     ]
    },
    {
     "name": "stderr",
     "output_type": "stream",
     "text": [
      "C:\\Users\\lenovo\\anaconda3\\lib\\site-packages\\statsmodels\\tsa\\statespace\\sarimax.py:866: UserWarning: Too few observations to estimate starting parameters for seasonal ARMA. All parameters except for variances will be set to zeros.\n",
      "  warn('Too few observations to estimate starting parameters%s.'\n"
     ]
    },
    {
     "name": "stdout",
     "output_type": "stream",
     "text": [
      "2 \t 8 \t -637.6230300812844\n"
     ]
    },
    {
     "name": "stderr",
     "output_type": "stream",
     "text": [
      "C:\\Users\\lenovo\\anaconda3\\lib\\site-packages\\statsmodels\\base\\model.py:604: ConvergenceWarning: Maximum Likelihood optimization failed to converge. Check mle_retvals\n",
      "  warnings.warn(\"Maximum Likelihood optimization failed to \"\n"
     ]
    },
    {
     "name": "stdout",
     "output_type": "stream",
     "text": [
      "3 \t 1 \t -640.4275736607328\n",
      "3 \t 2 \t -647.0129233854573\n"
     ]
    },
    {
     "name": "stderr",
     "output_type": "stream",
     "text": [
      "C:\\Users\\lenovo\\anaconda3\\lib\\site-packages\\statsmodels\\tsa\\statespace\\sarimax.py:1009: UserWarning: Non-invertible starting seasonal moving average Using zeros as starting parameters.\n",
      "  warn('Non-invertible starting seasonal moving average'\n"
     ]
    }
   ],
   "source": [
    "import statsmodels.api as sm\n",
    "lowest_aic = float('inf')\n",
    "final_P=0\n",
    "final_Q=0\n",
    "\n",
    "for P in range(0,9):\n",
    "    for Q in range(0,9):\n",
    "        sarima_model= sm.tsa.statespace.SARIMAX(df, order=(1,1,1),seasonal_order=(P,1,Q,20))\n",
    "        my_selection =sarima_model.fit()\n",
    "        print(P,\"\\t\",Q,\"\\t\",my_selection.aic)\n",
    "        if my_selection.aic <lowest_aic:\n",
    "            lowest_aic=my_selection.aic\n",
    "            final_P=P\n",
    "            final_Q=Q\n",
    "        \n",
    "print(\"p = \",final_P,\"Q = \",final_Q,\"aic = \",lowest_aic)"
   ]
  },
  {
   "cell_type": "code",
   "execution_count": null,
   "id": "c632d270",
   "metadata": {},
   "outputs": [],
   "source": [
    "P = 2 , Q = 8 , -637.6230300812844"
   ]
  },
  {
   "cell_type": "code",
   "execution_count": 52,
   "id": "d3ef5335",
   "metadata": {},
   "outputs": [
    {
     "name": "stderr",
     "output_type": "stream",
     "text": [
      "C:\\Users\\lenovo\\anaconda3\\lib\\site-packages\\statsmodels\\tsa\\statespace\\sarimax.py:866: UserWarning: Too few observations to estimate starting parameters for seasonal ARMA. All parameters except for variances will be set to zeros.\n",
      "  warn('Too few observations to estimate starting parameters%s.'\n",
      "C:\\Users\\lenovo\\anaconda3\\lib\\site-packages\\statsmodels\\base\\model.py:604: ConvergenceWarning: Maximum Likelihood optimization failed to converge. Check mle_retvals\n",
      "  warnings.warn(\"Maximum Likelihood optimization failed to \"\n"
     ]
    }
   ],
   "source": [
    "ts = sm.tsa.statespace.SARIMAX(df,order=(5,1,12),seasonal_order=(2,1,8,20)).fit()"
   ]
  },
  {
   "cell_type": "code",
   "execution_count": 53,
   "id": "8e30b7a1",
   "metadata": {},
   "outputs": [
    {
     "name": "stdout",
     "output_type": "stream",
     "text": [
      "model is good [0.81999028]\n"
     ]
    }
   ],
   "source": [
    "pvalue = sm.stats.acorr_ljungbox(ts.resid,lags =[12],return_df = True)[\"lb_pvalue\"].values\n",
    "if pvalue<0.05:\n",
    "    print(\"model is not  good\",pvalue)\n",
    "else:\n",
    "    print(\"model is good\", pvalue)"
   ]
  },
  {
   "cell_type": "code",
   "execution_count": 55,
   "id": "67bf7e8f",
   "metadata": {},
   "outputs": [],
   "source": [
    "# we can predict SARIMA MODEL\n",
    "\n",
    "\n",
    "mypred= ts.predict(0,len(df)-1)"
   ]
  },
  {
   "cell_type": "code",
   "execution_count": 57,
   "id": "bc0ae4b2",
   "metadata": {},
   "outputs": [
    {
     "name": "stdout",
     "output_type": "stream",
     "text": [
      "mse : 0.003008524990011744\n",
      "rmse : 0.05485002269837036\n"
     ]
    }
   ],
   "source": [
    "\n",
    "from sklearn.metrics import mean_squared_error\n",
    "print(\"mse :\",mean_squared_error(df,mypred))\n",
    "print(\"rmse :\",mean_squared_error(df,mypred, squared = False))"
   ]
  },
  {
   "cell_type": "code",
   "execution_count": 58,
   "id": "658dfcfa",
   "metadata": {},
   "outputs": [],
   "source": [
    "# forecast of sarima model\n",
    "\n",
    "\n",
    "tsforecast = ts.forecast(60)"
   ]
  },
  {
   "cell_type": "code",
   "execution_count": 71,
   "id": "68613fa0",
   "metadata": {},
   "outputs": [
    {
     "data": {
      "image/png": "[encoded data removed]",
      "text/plain": [
       "<Figure size 1400x1000 with 1 Axes>"
      ]
     },
     "metadata": {},
     "output_type": "display_data"
    }
   ],
   "source": [
    "fig,ax = plt.subplots(1,1,figsize = (14,10))\n",
    "plt.plot(df,color = \"blue\")# actual\n",
    "plt.plot(ts.predict(0,len(df)+12),color = \"green\")\n",
    "plt.plot(tsforecast,color = \"red\")# forecast\n",
    "plt.legend([\"actual\",\"predicted\",\"forecast\"]);"
   ]
  },
  {
   "cell_type": "code",
   "execution_count": null,
   "id": "956bf552",
   "metadata": {},
   "outputs": [],
   "source": [
    "conclusion = our polarity score is slightly increasing in future. we can say our saling is increasing. "
   ]
  }
 ],
 "metadata": {
  "kernelspec": {
   "display_name": "Python 3 (ipykernel)",
   "language": "python",
   "name": "python3"
  },
  "language_info": {
   "codemirror_mode": {
    "name": "ipython",
    "version": 3
   },
   "file_extension": ".py",
   "mimetype": "text/x-python",
   "name": "python",
   "nbconvert_exporter": "python",
   "pygments_lexer": "ipython3",
   "version": "3.9.13"
  }
 },
 "nbformat": 4,
 "nbformat_minor": 5
}
